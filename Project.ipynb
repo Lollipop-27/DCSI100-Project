{
 "cells": [
  {
   "cell_type": "markdown",
   "metadata": {},
   "source": [
    "### Methods & Results:"
   ]
  },
  {
   "cell_type": "code",
   "execution_count": 7,
   "metadata": {},
   "outputs": [],
   "source": [
    "### Loading Libraries into R\n",
    "### Run this cell before continuing.\n",
    "library(repr)\n",
    "library(tidyverse)\n",
    "library(tidymodels)\n",
    "options(repr.matrix.max.rows = 6)"
   ]
  },
  {
   "cell_type": "code",
   "execution_count": 8,
   "metadata": {},
   "outputs": [
    {
     "name": "stderr",
     "output_type": "stream",
     "text": [
      "Parsed with column specification:\n",
      "cols(\n",
      "  instance_id = \u001b[32mcol_double()\u001b[39m,\n",
      "  artist_name = \u001b[31mcol_character()\u001b[39m,\n",
      "  track_name = \u001b[31mcol_character()\u001b[39m,\n",
      "  popularity = \u001b[32mcol_double()\u001b[39m,\n",
      "  acousticness = \u001b[32mcol_double()\u001b[39m,\n",
      "  danceability = \u001b[32mcol_double()\u001b[39m,\n",
      "  duration_ms = \u001b[32mcol_double()\u001b[39m,\n",
      "  energy = \u001b[32mcol_double()\u001b[39m,\n",
      "  instrumentalness = \u001b[32mcol_double()\u001b[39m,\n",
      "  key = \u001b[31mcol_character()\u001b[39m,\n",
      "  liveness = \u001b[32mcol_double()\u001b[39m,\n",
      "  loudness = \u001b[32mcol_double()\u001b[39m,\n",
      "  mode = \u001b[31mcol_character()\u001b[39m,\n",
      "  speechiness = \u001b[32mcol_double()\u001b[39m,\n",
      "  tempo = \u001b[31mcol_character()\u001b[39m,\n",
      "  obtained_date = \u001b[31mcol_character()\u001b[39m,\n",
      "  valence = \u001b[32mcol_double()\u001b[39m,\n",
      "  music_genre = \u001b[31mcol_character()\u001b[39m\n",
      ")\n",
      "\n"
     ]
    },
    {
     "data": {
      "text/html": [
       "<table>\n",
       "<caption>A spec_tbl_df: 50002 × 18</caption>\n",
       "<thead>\n",
       "\t<tr><th scope=col>instance_id</th><th scope=col>artist_name</th><th scope=col>track_name</th><th scope=col>popularity</th><th scope=col>acousticness</th><th scope=col>danceability</th><th scope=col>duration_ms</th><th scope=col>energy</th><th scope=col>instrumentalness</th><th scope=col>key</th><th scope=col>liveness</th><th scope=col>loudness</th><th scope=col>mode</th><th scope=col>speechiness</th><th scope=col>tempo</th><th scope=col>obtained_date</th><th scope=col>valence</th><th scope=col>music_genre</th></tr>\n",
       "\t<tr><th scope=col>&lt;dbl&gt;</th><th scope=col>&lt;chr&gt;</th><th scope=col>&lt;chr&gt;</th><th scope=col>&lt;dbl&gt;</th><th scope=col>&lt;dbl&gt;</th><th scope=col>&lt;dbl&gt;</th><th scope=col>&lt;dbl&gt;</th><th scope=col>&lt;dbl&gt;</th><th scope=col>&lt;dbl&gt;</th><th scope=col>&lt;chr&gt;</th><th scope=col>&lt;dbl&gt;</th><th scope=col>&lt;dbl&gt;</th><th scope=col>&lt;chr&gt;</th><th scope=col>&lt;dbl&gt;</th><th scope=col>&lt;chr&gt;</th><th scope=col>&lt;chr&gt;</th><th scope=col>&lt;dbl&gt;</th><th scope=col>&lt;chr&gt;</th></tr>\n",
       "</thead>\n",
       "<tbody>\n",
       "\t<tr><td>32894</td><td>Röyksopp            </td><td>Röyksopp's Night Out</td><td>27</td><td>0.00468</td><td>0.652</td><td>    -1</td><td>0.941</td><td>0.7920</td><td>A#</td><td>0.115</td><td>-5.201</td><td>Minor</td><td>0.0748</td><td>100.889</td><td>04-Apr</td><td>0.759</td><td>Electronic</td></tr>\n",
       "\t<tr><td>46652</td><td>Thievery Corporation</td><td>The Shining Path    </td><td>31</td><td>0.01270</td><td>0.622</td><td>218293</td><td>0.890</td><td>0.9500</td><td>D </td><td>0.124</td><td>-7.043</td><td>Minor</td><td>0.0300</td><td>115.002</td><td>04-Apr</td><td>0.531</td><td>Electronic</td></tr>\n",
       "\t<tr><td>30097</td><td>Dillon Francis      </td><td>Hurricane           </td><td>28</td><td>0.00306</td><td>0.620</td><td>215613</td><td>0.755</td><td>0.0118</td><td>G#</td><td>0.534</td><td>-4.617</td><td>Major</td><td>0.0345</td><td>127.994</td><td>04-Apr</td><td>0.333</td><td>Electronic</td></tr>\n",
       "\t<tr><td>⋮</td><td>⋮</td><td>⋮</td><td>⋮</td><td>⋮</td><td>⋮</td><td>⋮</td><td>⋮</td><td>⋮</td><td>⋮</td><td>⋮</td><td>⋮</td><td>⋮</td><td>⋮</td><td>⋮</td><td>⋮</td><td>⋮</td><td>⋮</td></tr>\n",
       "\t<tr><td>39767</td><td>Berner           </td><td>Lovin' Me (feat. Smiggz)</td><td>51</td><td>0.00597</td><td>0.693</td><td>189483</td><td>0.763</td><td>0</td><td>D </td><td>0.143</td><td> -5.443</td><td>Major</td><td>0.1460</td><td>131.079</td><td>04-Apr</td><td>0.395</td><td>Hip-Hop</td></tr>\n",
       "\t<tr><td>57944</td><td>The-Dream        </td><td>Shawty Is Da Shit       </td><td>65</td><td>0.08310</td><td>0.782</td><td>262773</td><td>0.472</td><td>0</td><td>G </td><td>0.106</td><td> -5.016</td><td>Minor</td><td>0.0441</td><td>75.886 </td><td>04-Apr</td><td>0.354</td><td>Hip-Hop</td></tr>\n",
       "\t<tr><td>63470</td><td>Naughty By Nature</td><td>Hip Hop Hooray          </td><td>67</td><td>0.10200</td><td>0.862</td><td>267267</td><td>0.642</td><td>0</td><td>F#</td><td>0.272</td><td>-13.652</td><td>Minor</td><td>0.1010</td><td>99.201 </td><td>04-Apr</td><td>0.765</td><td>Hip-Hop</td></tr>\n",
       "</tbody>\n",
       "</table>\n"
      ],
      "text/latex": [
       "A spec\\_tbl\\_df: 50002 × 18\n",
       "\\begin{tabular}{llllllllllllllllll}\n",
       " instance\\_id & artist\\_name & track\\_name & popularity & acousticness & danceability & duration\\_ms & energy & instrumentalness & key & liveness & loudness & mode & speechiness & tempo & obtained\\_date & valence & music\\_genre\\\\\n",
       " <dbl> & <chr> & <chr> & <dbl> & <dbl> & <dbl> & <dbl> & <dbl> & <dbl> & <chr> & <dbl> & <dbl> & <chr> & <dbl> & <chr> & <chr> & <dbl> & <chr>\\\\\n",
       "\\hline\n",
       "\t 32894 & Röyksopp             & Röyksopp's Night Out & 27 & 0.00468 & 0.652 &     -1 & 0.941 & 0.7920 & A\\# & 0.115 & -5.201 & Minor & 0.0748 & 100.889 & 04-Apr & 0.759 & Electronic\\\\\n",
       "\t 46652 & Thievery Corporation & The Shining Path     & 31 & 0.01270 & 0.622 & 218293 & 0.890 & 0.9500 & D  & 0.124 & -7.043 & Minor & 0.0300 & 115.002 & 04-Apr & 0.531 & Electronic\\\\\n",
       "\t 30097 & Dillon Francis       & Hurricane            & 28 & 0.00306 & 0.620 & 215613 & 0.755 & 0.0118 & G\\# & 0.534 & -4.617 & Major & 0.0345 & 127.994 & 04-Apr & 0.333 & Electronic\\\\\n",
       "\t ⋮ & ⋮ & ⋮ & ⋮ & ⋮ & ⋮ & ⋮ & ⋮ & ⋮ & ⋮ & ⋮ & ⋮ & ⋮ & ⋮ & ⋮ & ⋮ & ⋮ & ⋮\\\\\n",
       "\t 39767 & Berner            & Lovin' Me (feat. Smiggz) & 51 & 0.00597 & 0.693 & 189483 & 0.763 & 0 & D  & 0.143 &  -5.443 & Major & 0.1460 & 131.079 & 04-Apr & 0.395 & Hip-Hop\\\\\n",
       "\t 57944 & The-Dream         & Shawty Is Da Shit        & 65 & 0.08310 & 0.782 & 262773 & 0.472 & 0 & G  & 0.106 &  -5.016 & Minor & 0.0441 & 75.886  & 04-Apr & 0.354 & Hip-Hop\\\\\n",
       "\t 63470 & Naughty By Nature & Hip Hop Hooray           & 67 & 0.10200 & 0.862 & 267267 & 0.642 & 0 & F\\# & 0.272 & -13.652 & Minor & 0.1010 & 99.201  & 04-Apr & 0.765 & Hip-Hop\\\\\n",
       "\\end{tabular}\n"
      ],
      "text/markdown": [
       "\n",
       "A spec_tbl_df: 50002 × 18\n",
       "\n",
       "| instance_id &lt;dbl&gt; | artist_name &lt;chr&gt; | track_name &lt;chr&gt; | popularity &lt;dbl&gt; | acousticness &lt;dbl&gt; | danceability &lt;dbl&gt; | duration_ms &lt;dbl&gt; | energy &lt;dbl&gt; | instrumentalness &lt;dbl&gt; | key &lt;chr&gt; | liveness &lt;dbl&gt; | loudness &lt;dbl&gt; | mode &lt;chr&gt; | speechiness &lt;dbl&gt; | tempo &lt;chr&gt; | obtained_date &lt;chr&gt; | valence &lt;dbl&gt; | music_genre &lt;chr&gt; |\n",
       "|---|---|---|---|---|---|---|---|---|---|---|---|---|---|---|---|---|---|\n",
       "| 32894 | Röyksopp             | Röyksopp's Night Out | 27 | 0.00468 | 0.652 |     -1 | 0.941 | 0.7920 | A# | 0.115 | -5.201 | Minor | 0.0748 | 100.889 | 04-Apr | 0.759 | Electronic |\n",
       "| 46652 | Thievery Corporation | The Shining Path     | 31 | 0.01270 | 0.622 | 218293 | 0.890 | 0.9500 | D  | 0.124 | -7.043 | Minor | 0.0300 | 115.002 | 04-Apr | 0.531 | Electronic |\n",
       "| 30097 | Dillon Francis       | Hurricane            | 28 | 0.00306 | 0.620 | 215613 | 0.755 | 0.0118 | G# | 0.534 | -4.617 | Major | 0.0345 | 127.994 | 04-Apr | 0.333 | Electronic |\n",
       "| ⋮ | ⋮ | ⋮ | ⋮ | ⋮ | ⋮ | ⋮ | ⋮ | ⋮ | ⋮ | ⋮ | ⋮ | ⋮ | ⋮ | ⋮ | ⋮ | ⋮ | ⋮ |\n",
       "| 39767 | Berner            | Lovin' Me (feat. Smiggz) | 51 | 0.00597 | 0.693 | 189483 | 0.763 | 0 | D  | 0.143 |  -5.443 | Major | 0.1460 | 131.079 | 04-Apr | 0.395 | Hip-Hop |\n",
       "| 57944 | The-Dream         | Shawty Is Da Shit        | 65 | 0.08310 | 0.782 | 262773 | 0.472 | 0 | G  | 0.106 |  -5.016 | Minor | 0.0441 | 75.886  | 04-Apr | 0.354 | Hip-Hop |\n",
       "| 63470 | Naughty By Nature | Hip Hop Hooray           | 67 | 0.10200 | 0.862 | 267267 | 0.642 | 0 | F# | 0.272 | -13.652 | Minor | 0.1010 | 99.201  | 04-Apr | 0.765 | Hip-Hop |\n",
       "\n"
      ],
      "text/plain": [
       "      instance_id artist_name          track_name               popularity\n",
       "1     32894       Röyksopp             Röyksopp's Night Out     27        \n",
       "2     46652       Thievery Corporation The Shining Path         31        \n",
       "3     30097       Dillon Francis       Hurricane                28        \n",
       "⋮     ⋮           ⋮                    ⋮                        ⋮         \n",
       "50000 39767       Berner               Lovin' Me (feat. Smiggz) 51        \n",
       "50001 57944       The-Dream            Shawty Is Da Shit        65        \n",
       "50002 63470       Naughty By Nature    Hip Hop Hooray           67        \n",
       "      acousticness danceability duration_ms energy instrumentalness key\n",
       "1     0.00468      0.652            -1      0.941  0.7920           A# \n",
       "2     0.01270      0.622        218293      0.890  0.9500           D  \n",
       "3     0.00306      0.620        215613      0.755  0.0118           G# \n",
       "⋮     ⋮            ⋮            ⋮           ⋮      ⋮                ⋮  \n",
       "50000 0.00597      0.693        189483      0.763  0                D  \n",
       "50001 0.08310      0.782        262773      0.472  0                G  \n",
       "50002 0.10200      0.862        267267      0.642  0                F# \n",
       "      liveness loudness mode  speechiness tempo   obtained_date valence\n",
       "1     0.115    -5.201   Minor 0.0748      100.889 04-Apr        0.759  \n",
       "2     0.124    -7.043   Minor 0.0300      115.002 04-Apr        0.531  \n",
       "3     0.534    -4.617   Major 0.0345      127.994 04-Apr        0.333  \n",
       "⋮     ⋮        ⋮        ⋮     ⋮           ⋮       ⋮             ⋮      \n",
       "50000 0.143     -5.443  Major 0.1460      131.079 04-Apr        0.395  \n",
       "50001 0.106     -5.016  Minor 0.0441      75.886  04-Apr        0.354  \n",
       "50002 0.272    -13.652  Minor 0.1010      99.201  04-Apr        0.765  \n",
       "      music_genre\n",
       "1     Electronic \n",
       "2     Electronic \n",
       "3     Electronic \n",
       "⋮     ⋮          \n",
       "50000 Hip-Hop    \n",
       "50001 Hip-Hop    \n",
       "50002 Hip-Hop    "
      ]
     },
     "metadata": {},
     "output_type": "display_data"
    }
   ],
   "source": [
    "### data is read from online\n",
    "data <- read_csv(file = \"data/music_genre.csv\")\n",
    "data"
   ]
  },
  {
   "cell_type": "code",
   "execution_count": 9,
   "metadata": {},
   "outputs": [
    {
     "name": "stderr",
     "output_type": "stream",
     "text": [
      "Warning message:\n",
      "“Problem with `mutate()` input `tempo`.\n",
      "\u001b[34mℹ\u001b[39m NAs introduced by coercion\n",
      "\u001b[34mℹ\u001b[39m Input `tempo` is `as.numeric(tempo)`.”\n",
      "Warning message in mask$eval_all_mutate(dots[[i]]):\n",
      "“NAs introduced by coercion”\n"
     ]
    },
    {
     "data": {
      "text/html": [
       "<table>\n",
       "<caption>A spec_tbl_df: 50002 × 18</caption>\n",
       "<thead>\n",
       "\t<tr><th scope=col>instance_id</th><th scope=col>artist_name</th><th scope=col>track_name</th><th scope=col>popularity</th><th scope=col>acousticness</th><th scope=col>danceability</th><th scope=col>duration_ms</th><th scope=col>energy</th><th scope=col>instrumentalness</th><th scope=col>key</th><th scope=col>liveness</th><th scope=col>loudness</th><th scope=col>mode</th><th scope=col>speechiness</th><th scope=col>tempo</th><th scope=col>obtained_date</th><th scope=col>valence</th><th scope=col>music_genre</th></tr>\n",
       "\t<tr><th scope=col>&lt;dbl&gt;</th><th scope=col>&lt;chr&gt;</th><th scope=col>&lt;chr&gt;</th><th scope=col>&lt;dbl&gt;</th><th scope=col>&lt;dbl&gt;</th><th scope=col>&lt;dbl&gt;</th><th scope=col>&lt;dbl&gt;</th><th scope=col>&lt;dbl&gt;</th><th scope=col>&lt;dbl&gt;</th><th scope=col>&lt;chr&gt;</th><th scope=col>&lt;dbl&gt;</th><th scope=col>&lt;dbl&gt;</th><th scope=col>&lt;fct&gt;</th><th scope=col>&lt;dbl&gt;</th><th scope=col>&lt;dbl&gt;</th><th scope=col>&lt;chr&gt;</th><th scope=col>&lt;dbl&gt;</th><th scope=col>&lt;fct&gt;</th></tr>\n",
       "</thead>\n",
       "<tbody>\n",
       "\t<tr><td>32894</td><td>Röyksopp            </td><td>Röyksopp's Night Out</td><td>27</td><td>0.00468</td><td>0.652</td><td>    -1</td><td>0.941</td><td>0.7920</td><td>A#</td><td>0.115</td><td>-5.201</td><td>Minor</td><td>0.0748</td><td>100.889</td><td>04-Apr</td><td>0.759</td><td>Electronic</td></tr>\n",
       "\t<tr><td>46652</td><td>Thievery Corporation</td><td>The Shining Path    </td><td>31</td><td>0.01270</td><td>0.622</td><td>218293</td><td>0.890</td><td>0.9500</td><td>D </td><td>0.124</td><td>-7.043</td><td>Minor</td><td>0.0300</td><td>115.002</td><td>04-Apr</td><td>0.531</td><td>Electronic</td></tr>\n",
       "\t<tr><td>30097</td><td>Dillon Francis      </td><td>Hurricane           </td><td>28</td><td>0.00306</td><td>0.620</td><td>215613</td><td>0.755</td><td>0.0118</td><td>G#</td><td>0.534</td><td>-4.617</td><td>Major</td><td>0.0345</td><td>127.994</td><td>04-Apr</td><td>0.333</td><td>Electronic</td></tr>\n",
       "\t<tr><td>⋮</td><td>⋮</td><td>⋮</td><td>⋮</td><td>⋮</td><td>⋮</td><td>⋮</td><td>⋮</td><td>⋮</td><td>⋮</td><td>⋮</td><td>⋮</td><td>⋮</td><td>⋮</td><td>⋮</td><td>⋮</td><td>⋮</td><td>⋮</td></tr>\n",
       "\t<tr><td>39767</td><td>Berner           </td><td>Lovin' Me (feat. Smiggz)</td><td>51</td><td>0.00597</td><td>0.693</td><td>189483</td><td>0.763</td><td>0</td><td>D </td><td>0.143</td><td> -5.443</td><td>Major</td><td>0.1460</td><td>131.079</td><td>04-Apr</td><td>0.395</td><td>Hip-Hop</td></tr>\n",
       "\t<tr><td>57944</td><td>The-Dream        </td><td>Shawty Is Da Shit       </td><td>65</td><td>0.08310</td><td>0.782</td><td>262773</td><td>0.472</td><td>0</td><td>G </td><td>0.106</td><td> -5.016</td><td>Minor</td><td>0.0441</td><td> 75.886</td><td>04-Apr</td><td>0.354</td><td>Hip-Hop</td></tr>\n",
       "\t<tr><td>63470</td><td>Naughty By Nature</td><td>Hip Hop Hooray          </td><td>67</td><td>0.10200</td><td>0.862</td><td>267267</td><td>0.642</td><td>0</td><td>F#</td><td>0.272</td><td>-13.652</td><td>Minor</td><td>0.1010</td><td> 99.201</td><td>04-Apr</td><td>0.765</td><td>Hip-Hop</td></tr>\n",
       "</tbody>\n",
       "</table>\n"
      ],
      "text/latex": [
       "A spec\\_tbl\\_df: 50002 × 18\n",
       "\\begin{tabular}{llllllllllllllllll}\n",
       " instance\\_id & artist\\_name & track\\_name & popularity & acousticness & danceability & duration\\_ms & energy & instrumentalness & key & liveness & loudness & mode & speechiness & tempo & obtained\\_date & valence & music\\_genre\\\\\n",
       " <dbl> & <chr> & <chr> & <dbl> & <dbl> & <dbl> & <dbl> & <dbl> & <dbl> & <chr> & <dbl> & <dbl> & <fct> & <dbl> & <dbl> & <chr> & <dbl> & <fct>\\\\\n",
       "\\hline\n",
       "\t 32894 & Röyksopp             & Röyksopp's Night Out & 27 & 0.00468 & 0.652 &     -1 & 0.941 & 0.7920 & A\\# & 0.115 & -5.201 & Minor & 0.0748 & 100.889 & 04-Apr & 0.759 & Electronic\\\\\n",
       "\t 46652 & Thievery Corporation & The Shining Path     & 31 & 0.01270 & 0.622 & 218293 & 0.890 & 0.9500 & D  & 0.124 & -7.043 & Minor & 0.0300 & 115.002 & 04-Apr & 0.531 & Electronic\\\\\n",
       "\t 30097 & Dillon Francis       & Hurricane            & 28 & 0.00306 & 0.620 & 215613 & 0.755 & 0.0118 & G\\# & 0.534 & -4.617 & Major & 0.0345 & 127.994 & 04-Apr & 0.333 & Electronic\\\\\n",
       "\t ⋮ & ⋮ & ⋮ & ⋮ & ⋮ & ⋮ & ⋮ & ⋮ & ⋮ & ⋮ & ⋮ & ⋮ & ⋮ & ⋮ & ⋮ & ⋮ & ⋮ & ⋮\\\\\n",
       "\t 39767 & Berner            & Lovin' Me (feat. Smiggz) & 51 & 0.00597 & 0.693 & 189483 & 0.763 & 0 & D  & 0.143 &  -5.443 & Major & 0.1460 & 131.079 & 04-Apr & 0.395 & Hip-Hop\\\\\n",
       "\t 57944 & The-Dream         & Shawty Is Da Shit        & 65 & 0.08310 & 0.782 & 262773 & 0.472 & 0 & G  & 0.106 &  -5.016 & Minor & 0.0441 &  75.886 & 04-Apr & 0.354 & Hip-Hop\\\\\n",
       "\t 63470 & Naughty By Nature & Hip Hop Hooray           & 67 & 0.10200 & 0.862 & 267267 & 0.642 & 0 & F\\# & 0.272 & -13.652 & Minor & 0.1010 &  99.201 & 04-Apr & 0.765 & Hip-Hop\\\\\n",
       "\\end{tabular}\n"
      ],
      "text/markdown": [
       "\n",
       "A spec_tbl_df: 50002 × 18\n",
       "\n",
       "| instance_id &lt;dbl&gt; | artist_name &lt;chr&gt; | track_name &lt;chr&gt; | popularity &lt;dbl&gt; | acousticness &lt;dbl&gt; | danceability &lt;dbl&gt; | duration_ms &lt;dbl&gt; | energy &lt;dbl&gt; | instrumentalness &lt;dbl&gt; | key &lt;chr&gt; | liveness &lt;dbl&gt; | loudness &lt;dbl&gt; | mode &lt;fct&gt; | speechiness &lt;dbl&gt; | tempo &lt;dbl&gt; | obtained_date &lt;chr&gt; | valence &lt;dbl&gt; | music_genre &lt;fct&gt; |\n",
       "|---|---|---|---|---|---|---|---|---|---|---|---|---|---|---|---|---|---|\n",
       "| 32894 | Röyksopp             | Röyksopp's Night Out | 27 | 0.00468 | 0.652 |     -1 | 0.941 | 0.7920 | A# | 0.115 | -5.201 | Minor | 0.0748 | 100.889 | 04-Apr | 0.759 | Electronic |\n",
       "| 46652 | Thievery Corporation | The Shining Path     | 31 | 0.01270 | 0.622 | 218293 | 0.890 | 0.9500 | D  | 0.124 | -7.043 | Minor | 0.0300 | 115.002 | 04-Apr | 0.531 | Electronic |\n",
       "| 30097 | Dillon Francis       | Hurricane            | 28 | 0.00306 | 0.620 | 215613 | 0.755 | 0.0118 | G# | 0.534 | -4.617 | Major | 0.0345 | 127.994 | 04-Apr | 0.333 | Electronic |\n",
       "| ⋮ | ⋮ | ⋮ | ⋮ | ⋮ | ⋮ | ⋮ | ⋮ | ⋮ | ⋮ | ⋮ | ⋮ | ⋮ | ⋮ | ⋮ | ⋮ | ⋮ | ⋮ |\n",
       "| 39767 | Berner            | Lovin' Me (feat. Smiggz) | 51 | 0.00597 | 0.693 | 189483 | 0.763 | 0 | D  | 0.143 |  -5.443 | Major | 0.1460 | 131.079 | 04-Apr | 0.395 | Hip-Hop |\n",
       "| 57944 | The-Dream         | Shawty Is Da Shit        | 65 | 0.08310 | 0.782 | 262773 | 0.472 | 0 | G  | 0.106 |  -5.016 | Minor | 0.0441 |  75.886 | 04-Apr | 0.354 | Hip-Hop |\n",
       "| 63470 | Naughty By Nature | Hip Hop Hooray           | 67 | 0.10200 | 0.862 | 267267 | 0.642 | 0 | F# | 0.272 | -13.652 | Minor | 0.1010 |  99.201 | 04-Apr | 0.765 | Hip-Hop |\n",
       "\n"
      ],
      "text/plain": [
       "      instance_id artist_name          track_name               popularity\n",
       "1     32894       Röyksopp             Röyksopp's Night Out     27        \n",
       "2     46652       Thievery Corporation The Shining Path         31        \n",
       "3     30097       Dillon Francis       Hurricane                28        \n",
       "⋮     ⋮           ⋮                    ⋮                        ⋮         \n",
       "50000 39767       Berner               Lovin' Me (feat. Smiggz) 51        \n",
       "50001 57944       The-Dream            Shawty Is Da Shit        65        \n",
       "50002 63470       Naughty By Nature    Hip Hop Hooray           67        \n",
       "      acousticness danceability duration_ms energy instrumentalness key\n",
       "1     0.00468      0.652            -1      0.941  0.7920           A# \n",
       "2     0.01270      0.622        218293      0.890  0.9500           D  \n",
       "3     0.00306      0.620        215613      0.755  0.0118           G# \n",
       "⋮     ⋮            ⋮            ⋮           ⋮      ⋮                ⋮  \n",
       "50000 0.00597      0.693        189483      0.763  0                D  \n",
       "50001 0.08310      0.782        262773      0.472  0                G  \n",
       "50002 0.10200      0.862        267267      0.642  0                F# \n",
       "      liveness loudness mode  speechiness tempo   obtained_date valence\n",
       "1     0.115    -5.201   Minor 0.0748      100.889 04-Apr        0.759  \n",
       "2     0.124    -7.043   Minor 0.0300      115.002 04-Apr        0.531  \n",
       "3     0.534    -4.617   Major 0.0345      127.994 04-Apr        0.333  \n",
       "⋮     ⋮        ⋮        ⋮     ⋮           ⋮       ⋮             ⋮      \n",
       "50000 0.143     -5.443  Major 0.1460      131.079 04-Apr        0.395  \n",
       "50001 0.106     -5.016  Minor 0.0441       75.886 04-Apr        0.354  \n",
       "50002 0.272    -13.652  Minor 0.1010       99.201 04-Apr        0.765  \n",
       "      music_genre\n",
       "1     Electronic \n",
       "2     Electronic \n",
       "3     Electronic \n",
       "⋮     ⋮          \n",
       "50000 Hip-Hop    \n",
       "50001 Hip-Hop    \n",
       "50002 Hip-Hop    "
      ]
     },
     "metadata": {},
     "output_type": "display_data"
    }
   ],
   "source": [
    "### removing the columns we don't need\n",
    "data <- mutate(data,\n",
    "                  mode = as.factor(mode),\n",
    "                  music_genre = as.factor(music_genre),\n",
    "                  tempo = as.numeric(tempo))\n",
    "data\n",
    "data_select <- data %>%\n",
    "            select(-instance_id, -key,-obtained_date)\n"
   ]
  },
  {
   "cell_type": "code",
   "execution_count": 10,
   "metadata": {},
   "outputs": [
    {
     "name": "stderr",
     "output_type": "stream",
     "text": [
      "Warning message:\n",
      "“Too little data to stratify. Unstratified resampling will be used.”\n"
     ]
    },
    {
     "data": {
      "text/html": [
       "<table>\n",
       "<caption>A tibble: 37502 × 15</caption>\n",
       "<thead>\n",
       "\t<tr><th scope=col>artist_name</th><th scope=col>track_name</th><th scope=col>popularity</th><th scope=col>acousticness</th><th scope=col>danceability</th><th scope=col>duration_ms</th><th scope=col>energy</th><th scope=col>instrumentalness</th><th scope=col>liveness</th><th scope=col>loudness</th><th scope=col>mode</th><th scope=col>speechiness</th><th scope=col>tempo</th><th scope=col>valence</th><th scope=col>music_genre</th></tr>\n",
       "\t<tr><th scope=col>&lt;chr&gt;</th><th scope=col>&lt;chr&gt;</th><th scope=col>&lt;dbl&gt;</th><th scope=col>&lt;dbl&gt;</th><th scope=col>&lt;dbl&gt;</th><th scope=col>&lt;dbl&gt;</th><th scope=col>&lt;dbl&gt;</th><th scope=col>&lt;dbl&gt;</th><th scope=col>&lt;dbl&gt;</th><th scope=col>&lt;dbl&gt;</th><th scope=col>&lt;fct&gt;</th><th scope=col>&lt;dbl&gt;</th><th scope=col>&lt;dbl&gt;</th><th scope=col>&lt;dbl&gt;</th><th scope=col>&lt;fct&gt;</th></tr>\n",
       "</thead>\n",
       "<tbody>\n",
       "\t<tr><td>Röyksopp            </td><td>Röyksopp's Night Out</td><td>27</td><td>0.00468</td><td>0.652</td><td>    -1</td><td>0.941</td><td>0.7920</td><td>0.115</td><td>-5.201</td><td>Minor</td><td>0.0748</td><td>100.889</td><td>0.759</td><td>Electronic</td></tr>\n",
       "\t<tr><td>Thievery Corporation</td><td>The Shining Path    </td><td>31</td><td>0.01270</td><td>0.622</td><td>218293</td><td>0.890</td><td>0.9500</td><td>0.124</td><td>-7.043</td><td>Minor</td><td>0.0300</td><td>115.002</td><td>0.531</td><td>Electronic</td></tr>\n",
       "\t<tr><td>Dillon Francis      </td><td>Hurricane           </td><td>28</td><td>0.00306</td><td>0.620</td><td>215613</td><td>0.755</td><td>0.0118</td><td>0.534</td><td>-4.617</td><td>Major</td><td>0.0345</td><td>127.994</td><td>0.333</td><td>Electronic</td></tr>\n",
       "\t<tr><td>⋮</td><td>⋮</td><td>⋮</td><td>⋮</td><td>⋮</td><td>⋮</td><td>⋮</td><td>⋮</td><td>⋮</td><td>⋮</td><td>⋮</td><td>⋮</td><td>⋮</td><td>⋮</td><td>⋮</td></tr>\n",
       "\t<tr><td>Roy Woods        </td><td>Drama (feat. Drake)</td><td>72</td><td>0.1570</td><td>0.709</td><td>251860</td><td>0.362</td><td>0</td><td>0.109</td><td> -9.814</td><td>Major</td><td>0.0550</td><td>122.043</td><td>0.113</td><td>Hip-Hop</td></tr>\n",
       "\t<tr><td>The-Dream        </td><td>Shawty Is Da Shit  </td><td>65</td><td>0.0831</td><td>0.782</td><td>262773</td><td>0.472</td><td>0</td><td>0.106</td><td> -5.016</td><td>Minor</td><td>0.0441</td><td> 75.886</td><td>0.354</td><td>Hip-Hop</td></tr>\n",
       "\t<tr><td>Naughty By Nature</td><td>Hip Hop Hooray     </td><td>67</td><td>0.1020</td><td>0.862</td><td>267267</td><td>0.642</td><td>0</td><td>0.272</td><td>-13.652</td><td>Minor</td><td>0.1010</td><td> 99.201</td><td>0.765</td><td>Hip-Hop</td></tr>\n",
       "</tbody>\n",
       "</table>\n"
      ],
      "text/latex": [
       "A tibble: 37502 × 15\n",
       "\\begin{tabular}{lllllllllllllll}\n",
       " artist\\_name & track\\_name & popularity & acousticness & danceability & duration\\_ms & energy & instrumentalness & liveness & loudness & mode & speechiness & tempo & valence & music\\_genre\\\\\n",
       " <chr> & <chr> & <dbl> & <dbl> & <dbl> & <dbl> & <dbl> & <dbl> & <dbl> & <dbl> & <fct> & <dbl> & <dbl> & <dbl> & <fct>\\\\\n",
       "\\hline\n",
       "\t Röyksopp             & Röyksopp's Night Out & 27 & 0.00468 & 0.652 &     -1 & 0.941 & 0.7920 & 0.115 & -5.201 & Minor & 0.0748 & 100.889 & 0.759 & Electronic\\\\\n",
       "\t Thievery Corporation & The Shining Path     & 31 & 0.01270 & 0.622 & 218293 & 0.890 & 0.9500 & 0.124 & -7.043 & Minor & 0.0300 & 115.002 & 0.531 & Electronic\\\\\n",
       "\t Dillon Francis       & Hurricane            & 28 & 0.00306 & 0.620 & 215613 & 0.755 & 0.0118 & 0.534 & -4.617 & Major & 0.0345 & 127.994 & 0.333 & Electronic\\\\\n",
       "\t ⋮ & ⋮ & ⋮ & ⋮ & ⋮ & ⋮ & ⋮ & ⋮ & ⋮ & ⋮ & ⋮ & ⋮ & ⋮ & ⋮ & ⋮\\\\\n",
       "\t Roy Woods         & Drama (feat. Drake) & 72 & 0.1570 & 0.709 & 251860 & 0.362 & 0 & 0.109 &  -9.814 & Major & 0.0550 & 122.043 & 0.113 & Hip-Hop\\\\\n",
       "\t The-Dream         & Shawty Is Da Shit   & 65 & 0.0831 & 0.782 & 262773 & 0.472 & 0 & 0.106 &  -5.016 & Minor & 0.0441 &  75.886 & 0.354 & Hip-Hop\\\\\n",
       "\t Naughty By Nature & Hip Hop Hooray      & 67 & 0.1020 & 0.862 & 267267 & 0.642 & 0 & 0.272 & -13.652 & Minor & 0.1010 &  99.201 & 0.765 & Hip-Hop\\\\\n",
       "\\end{tabular}\n"
      ],
      "text/markdown": [
       "\n",
       "A tibble: 37502 × 15\n",
       "\n",
       "| artist_name &lt;chr&gt; | track_name &lt;chr&gt; | popularity &lt;dbl&gt; | acousticness &lt;dbl&gt; | danceability &lt;dbl&gt; | duration_ms &lt;dbl&gt; | energy &lt;dbl&gt; | instrumentalness &lt;dbl&gt; | liveness &lt;dbl&gt; | loudness &lt;dbl&gt; | mode &lt;fct&gt; | speechiness &lt;dbl&gt; | tempo &lt;dbl&gt; | valence &lt;dbl&gt; | music_genre &lt;fct&gt; |\n",
       "|---|---|---|---|---|---|---|---|---|---|---|---|---|---|---|\n",
       "| Röyksopp             | Röyksopp's Night Out | 27 | 0.00468 | 0.652 |     -1 | 0.941 | 0.7920 | 0.115 | -5.201 | Minor | 0.0748 | 100.889 | 0.759 | Electronic |\n",
       "| Thievery Corporation | The Shining Path     | 31 | 0.01270 | 0.622 | 218293 | 0.890 | 0.9500 | 0.124 | -7.043 | Minor | 0.0300 | 115.002 | 0.531 | Electronic |\n",
       "| Dillon Francis       | Hurricane            | 28 | 0.00306 | 0.620 | 215613 | 0.755 | 0.0118 | 0.534 | -4.617 | Major | 0.0345 | 127.994 | 0.333 | Electronic |\n",
       "| ⋮ | ⋮ | ⋮ | ⋮ | ⋮ | ⋮ | ⋮ | ⋮ | ⋮ | ⋮ | ⋮ | ⋮ | ⋮ | ⋮ | ⋮ |\n",
       "| Roy Woods         | Drama (feat. Drake) | 72 | 0.1570 | 0.709 | 251860 | 0.362 | 0 | 0.109 |  -9.814 | Major | 0.0550 | 122.043 | 0.113 | Hip-Hop |\n",
       "| The-Dream         | Shawty Is Da Shit   | 65 | 0.0831 | 0.782 | 262773 | 0.472 | 0 | 0.106 |  -5.016 | Minor | 0.0441 |  75.886 | 0.354 | Hip-Hop |\n",
       "| Naughty By Nature | Hip Hop Hooray      | 67 | 0.1020 | 0.862 | 267267 | 0.642 | 0 | 0.272 | -13.652 | Minor | 0.1010 |  99.201 | 0.765 | Hip-Hop |\n",
       "\n"
      ],
      "text/plain": [
       "      artist_name          track_name           popularity acousticness\n",
       "1     Röyksopp             Röyksopp's Night Out 27         0.00468     \n",
       "2     Thievery Corporation The Shining Path     31         0.01270     \n",
       "3     Dillon Francis       Hurricane            28         0.00306     \n",
       "⋮     ⋮                    ⋮                    ⋮          ⋮           \n",
       "37500 Roy Woods            Drama (feat. Drake)  72         0.1570      \n",
       "37501 The-Dream            Shawty Is Da Shit    65         0.0831      \n",
       "37502 Naughty By Nature    Hip Hop Hooray       67         0.1020      \n",
       "      danceability duration_ms energy instrumentalness liveness loudness mode \n",
       "1     0.652            -1      0.941  0.7920           0.115    -5.201   Minor\n",
       "2     0.622        218293      0.890  0.9500           0.124    -7.043   Minor\n",
       "3     0.620        215613      0.755  0.0118           0.534    -4.617   Major\n",
       "⋮     ⋮            ⋮           ⋮      ⋮                ⋮        ⋮        ⋮    \n",
       "37500 0.709        251860      0.362  0                0.109     -9.814  Major\n",
       "37501 0.782        262773      0.472  0                0.106     -5.016  Minor\n",
       "37502 0.862        267267      0.642  0                0.272    -13.652  Minor\n",
       "      speechiness tempo   valence music_genre\n",
       "1     0.0748      100.889 0.759   Electronic \n",
       "2     0.0300      115.002 0.531   Electronic \n",
       "3     0.0345      127.994 0.333   Electronic \n",
       "⋮     ⋮           ⋮       ⋮       ⋮          \n",
       "37500 0.0550      122.043 0.113   Hip-Hop    \n",
       "37501 0.0441       75.886 0.354   Hip-Hop    \n",
       "37502 0.1010       99.201 0.765   Hip-Hop    "
      ]
     },
     "metadata": {},
     "output_type": "display_data"
    },
    {
     "data": {
      "text/html": [
       "<table>\n",
       "<caption>A tibble: 12500 × 15</caption>\n",
       "<thead>\n",
       "\t<tr><th scope=col>artist_name</th><th scope=col>track_name</th><th scope=col>popularity</th><th scope=col>acousticness</th><th scope=col>danceability</th><th scope=col>duration_ms</th><th scope=col>energy</th><th scope=col>instrumentalness</th><th scope=col>liveness</th><th scope=col>loudness</th><th scope=col>mode</th><th scope=col>speechiness</th><th scope=col>tempo</th><th scope=col>valence</th><th scope=col>music_genre</th></tr>\n",
       "\t<tr><th scope=col>&lt;chr&gt;</th><th scope=col>&lt;chr&gt;</th><th scope=col>&lt;dbl&gt;</th><th scope=col>&lt;dbl&gt;</th><th scope=col>&lt;dbl&gt;</th><th scope=col>&lt;dbl&gt;</th><th scope=col>&lt;dbl&gt;</th><th scope=col>&lt;dbl&gt;</th><th scope=col>&lt;dbl&gt;</th><th scope=col>&lt;dbl&gt;</th><th scope=col>&lt;fct&gt;</th><th scope=col>&lt;dbl&gt;</th><th scope=col>&lt;dbl&gt;</th><th scope=col>&lt;dbl&gt;</th><th scope=col>&lt;fct&gt;</th></tr>\n",
       "</thead>\n",
       "<tbody>\n",
       "\t<tr><td>Jordan Comolli</td><td>Clash                                </td><td>46</td><td>0.02890</td><td>0.572</td><td>214408</td><td>0.803</td><td>7.74e-06</td><td>0.106</td><td>-4.294</td><td>Major</td><td>0.3510</td><td>149.995</td><td>0.2300</td><td>Electronic</td></tr>\n",
       "\t<tr><td>Dillon Francis</td><td>We Are Impossible (feat. The Presets)</td><td>33</td><td>0.00825</td><td>0.659</td><td>215280</td><td>0.912</td><td>0.00e+00</td><td>0.543</td><td>-4.212</td><td>Major</td><td>0.0562</td><td>109.965</td><td>0.5010</td><td>Electronic</td></tr>\n",
       "\t<tr><td>The Prodigy   </td><td>Diesel Power                         </td><td>56</td><td>0.06800</td><td>0.725</td><td>    -1</td><td>0.877</td><td>3.62e-05</td><td>0.090</td><td>-3.496</td><td>Major</td><td>0.0646</td><td>105.919</td><td>0.0977</td><td>Electronic</td></tr>\n",
       "\t<tr><td>⋮</td><td>⋮</td><td>⋮</td><td>⋮</td><td>⋮</td><td>⋮</td><td>⋮</td><td>⋮</td><td>⋮</td><td>⋮</td><td>⋮</td><td>⋮</td><td>⋮</td><td>⋮</td><td>⋮</td></tr>\n",
       "\t<tr><td>empty_field</td><td>For Real                </td><td>53</td><td>0.00392</td><td>0.770</td><td>211820</td><td>0.905</td><td>2.97e-06</td><td>0.169</td><td>-8.235</td><td>Minor</td><td>0.144</td><td>135.999</td><td>0.464</td><td>Hip-Hop</td></tr>\n",
       "\t<tr><td>BEXEY      </td><td>GO GETTA                </td><td>59</td><td>0.03340</td><td>0.913</td><td>    -1</td><td>0.574</td><td>0.00e+00</td><td>0.119</td><td>-7.022</td><td>Major</td><td>0.298</td><td> 98.028</td><td>0.330</td><td>Hip-Hop</td></tr>\n",
       "\t<tr><td>Berner     </td><td>Lovin' Me (feat. Smiggz)</td><td>51</td><td>0.00597</td><td>0.693</td><td>189483</td><td>0.763</td><td>0.00e+00</td><td>0.143</td><td>-5.443</td><td>Major</td><td>0.146</td><td>131.079</td><td>0.395</td><td>Hip-Hop</td></tr>\n",
       "</tbody>\n",
       "</table>\n"
      ],
      "text/latex": [
       "A tibble: 12500 × 15\n",
       "\\begin{tabular}{lllllllllllllll}\n",
       " artist\\_name & track\\_name & popularity & acousticness & danceability & duration\\_ms & energy & instrumentalness & liveness & loudness & mode & speechiness & tempo & valence & music\\_genre\\\\\n",
       " <chr> & <chr> & <dbl> & <dbl> & <dbl> & <dbl> & <dbl> & <dbl> & <dbl> & <dbl> & <fct> & <dbl> & <dbl> & <dbl> & <fct>\\\\\n",
       "\\hline\n",
       "\t Jordan Comolli & Clash                                 & 46 & 0.02890 & 0.572 & 214408 & 0.803 & 7.74e-06 & 0.106 & -4.294 & Major & 0.3510 & 149.995 & 0.2300 & Electronic\\\\\n",
       "\t Dillon Francis & We Are Impossible (feat. The Presets) & 33 & 0.00825 & 0.659 & 215280 & 0.912 & 0.00e+00 & 0.543 & -4.212 & Major & 0.0562 & 109.965 & 0.5010 & Electronic\\\\\n",
       "\t The Prodigy    & Diesel Power                          & 56 & 0.06800 & 0.725 &     -1 & 0.877 & 3.62e-05 & 0.090 & -3.496 & Major & 0.0646 & 105.919 & 0.0977 & Electronic\\\\\n",
       "\t ⋮ & ⋮ & ⋮ & ⋮ & ⋮ & ⋮ & ⋮ & ⋮ & ⋮ & ⋮ & ⋮ & ⋮ & ⋮ & ⋮ & ⋮\\\\\n",
       "\t empty\\_field & For Real                 & 53 & 0.00392 & 0.770 & 211820 & 0.905 & 2.97e-06 & 0.169 & -8.235 & Minor & 0.144 & 135.999 & 0.464 & Hip-Hop\\\\\n",
       "\t BEXEY       & GO GETTA                 & 59 & 0.03340 & 0.913 &     -1 & 0.574 & 0.00e+00 & 0.119 & -7.022 & Major & 0.298 &  98.028 & 0.330 & Hip-Hop\\\\\n",
       "\t Berner      & Lovin' Me (feat. Smiggz) & 51 & 0.00597 & 0.693 & 189483 & 0.763 & 0.00e+00 & 0.143 & -5.443 & Major & 0.146 & 131.079 & 0.395 & Hip-Hop\\\\\n",
       "\\end{tabular}\n"
      ],
      "text/markdown": [
       "\n",
       "A tibble: 12500 × 15\n",
       "\n",
       "| artist_name &lt;chr&gt; | track_name &lt;chr&gt; | popularity &lt;dbl&gt; | acousticness &lt;dbl&gt; | danceability &lt;dbl&gt; | duration_ms &lt;dbl&gt; | energy &lt;dbl&gt; | instrumentalness &lt;dbl&gt; | liveness &lt;dbl&gt; | loudness &lt;dbl&gt; | mode &lt;fct&gt; | speechiness &lt;dbl&gt; | tempo &lt;dbl&gt; | valence &lt;dbl&gt; | music_genre &lt;fct&gt; |\n",
       "|---|---|---|---|---|---|---|---|---|---|---|---|---|---|---|\n",
       "| Jordan Comolli | Clash                                 | 46 | 0.02890 | 0.572 | 214408 | 0.803 | 7.74e-06 | 0.106 | -4.294 | Major | 0.3510 | 149.995 | 0.2300 | Electronic |\n",
       "| Dillon Francis | We Are Impossible (feat. The Presets) | 33 | 0.00825 | 0.659 | 215280 | 0.912 | 0.00e+00 | 0.543 | -4.212 | Major | 0.0562 | 109.965 | 0.5010 | Electronic |\n",
       "| The Prodigy    | Diesel Power                          | 56 | 0.06800 | 0.725 |     -1 | 0.877 | 3.62e-05 | 0.090 | -3.496 | Major | 0.0646 | 105.919 | 0.0977 | Electronic |\n",
       "| ⋮ | ⋮ | ⋮ | ⋮ | ⋮ | ⋮ | ⋮ | ⋮ | ⋮ | ⋮ | ⋮ | ⋮ | ⋮ | ⋮ | ⋮ |\n",
       "| empty_field | For Real                 | 53 | 0.00392 | 0.770 | 211820 | 0.905 | 2.97e-06 | 0.169 | -8.235 | Minor | 0.144 | 135.999 | 0.464 | Hip-Hop |\n",
       "| BEXEY       | GO GETTA                 | 59 | 0.03340 | 0.913 |     -1 | 0.574 | 0.00e+00 | 0.119 | -7.022 | Major | 0.298 |  98.028 | 0.330 | Hip-Hop |\n",
       "| Berner      | Lovin' Me (feat. Smiggz) | 51 | 0.00597 | 0.693 | 189483 | 0.763 | 0.00e+00 | 0.143 | -5.443 | Major | 0.146 | 131.079 | 0.395 | Hip-Hop |\n",
       "\n"
      ],
      "text/plain": [
       "      artist_name    track_name                            popularity\n",
       "1     Jordan Comolli Clash                                 46        \n",
       "2     Dillon Francis We Are Impossible (feat. The Presets) 33        \n",
       "3     The Prodigy    Diesel Power                          56        \n",
       "⋮     ⋮              ⋮                                     ⋮         \n",
       "12498 empty_field    For Real                              53        \n",
       "12499 BEXEY          GO GETTA                              59        \n",
       "12500 Berner         Lovin' Me (feat. Smiggz)              51        \n",
       "      acousticness danceability duration_ms energy instrumentalness liveness\n",
       "1     0.02890      0.572        214408      0.803  7.74e-06         0.106   \n",
       "2     0.00825      0.659        215280      0.912  0.00e+00         0.543   \n",
       "3     0.06800      0.725            -1      0.877  3.62e-05         0.090   \n",
       "⋮     ⋮            ⋮            ⋮           ⋮      ⋮                ⋮       \n",
       "12498 0.00392      0.770        211820      0.905  2.97e-06         0.169   \n",
       "12499 0.03340      0.913            -1      0.574  0.00e+00         0.119   \n",
       "12500 0.00597      0.693        189483      0.763  0.00e+00         0.143   \n",
       "      loudness mode  speechiness tempo   valence music_genre\n",
       "1     -4.294   Major 0.3510      149.995 0.2300  Electronic \n",
       "2     -4.212   Major 0.0562      109.965 0.5010  Electronic \n",
       "3     -3.496   Major 0.0646      105.919 0.0977  Electronic \n",
       "⋮     ⋮        ⋮     ⋮           ⋮       ⋮       ⋮          \n",
       "12498 -8.235   Minor 0.144       135.999 0.464   Hip-Hop    \n",
       "12499 -7.022   Major 0.298        98.028 0.330   Hip-Hop    \n",
       "12500 -5.443   Major 0.146       131.079 0.395   Hip-Hop    "
      ]
     },
     "metadata": {},
     "output_type": "display_data"
    }
   ],
   "source": [
    "### spliting the data into training set and testing set, 75% of the data in the training set\n",
    "data_split <- initial_split(data_select, prop = 0.75, strata = music_genre) \n",
    "data_train <- training(data_split)   \n",
    "data_test <- testing(data_split)\n",
    "data_train\n",
    "data_test"
   ]
  },
  {
   "cell_type": "code",
   "execution_count": 6,
   "metadata": {},
   "outputs": [
    {
     "name": "stderr",
     "output_type": "stream",
     "text": [
      "`summarise()` ungrouping output (override with `.groups` argument)\n",
      "\n"
     ]
    },
    {
     "data": {
      "text/html": [
       "<table>\n",
       "<caption>A tibble: 1 × 12</caption>\n",
       "<thead>\n",
       "\t<tr><th scope=col>music_genre</th><th scope=col>Electronic_popularity</th><th scope=col>Electronic_acousticness</th><th scope=col>Electronic_danceability</th><th scope=col>Electronic_duration_ms</th><th scope=col>Electronic_energy</th><th scope=col>Electronic_instrumentalness</th><th scope=col>Electronic_liveness</th><th scope=col>Electronic_loudness</th><th scope=col>Electronic_speechiness</th><th scope=col>Electronic_tempo</th><th scope=col>Electronic_valence</th></tr>\n",
       "\t<tr><th scope=col>&lt;fct&gt;</th><th scope=col>&lt;dbl&gt;</th><th scope=col>&lt;dbl&gt;</th><th scope=col>&lt;dbl&gt;</th><th scope=col>&lt;dbl&gt;</th><th scope=col>&lt;dbl&gt;</th><th scope=col>&lt;dbl&gt;</th><th scope=col>&lt;dbl&gt;</th><th scope=col>&lt;dbl&gt;</th><th scope=col>&lt;dbl&gt;</th><th scope=col>&lt;dbl&gt;</th><th scope=col>&lt;dbl&gt;</th></tr>\n",
       "</thead>\n",
       "<tbody>\n",
       "\t<tr><td>Electronic</td><td>38.22575</td><td>0.1209939</td><td>0.618519</td><td>243912.9</td><td>0.7399248</td><td>0.3485196</td><td>0.2083236</td><td>-7.010459</td><td>0.09833774</td><td>NA</td><td>0.3896082</td></tr>\n",
       "</tbody>\n",
       "</table>\n"
      ],
      "text/latex": [
       "A tibble: 1 × 12\n",
       "\\begin{tabular}{llllllllllll}\n",
       " music\\_genre & Electronic\\_popularity & Electronic\\_acousticness & Electronic\\_danceability & Electronic\\_duration\\_ms & Electronic\\_energy & Electronic\\_instrumentalness & Electronic\\_liveness & Electronic\\_loudness & Electronic\\_speechiness & Electronic\\_tempo & Electronic\\_valence\\\\\n",
       " <fct> & <dbl> & <dbl> & <dbl> & <dbl> & <dbl> & <dbl> & <dbl> & <dbl> & <dbl> & <dbl> & <dbl>\\\\\n",
       "\\hline\n",
       "\t Electronic & 38.22575 & 0.1209939 & 0.618519 & 243912.9 & 0.7399248 & 0.3485196 & 0.2083236 & -7.010459 & 0.09833774 & NA & 0.3896082\\\\\n",
       "\\end{tabular}\n"
      ],
      "text/markdown": [
       "\n",
       "A tibble: 1 × 12\n",
       "\n",
       "| music_genre &lt;fct&gt; | Electronic_popularity &lt;dbl&gt; | Electronic_acousticness &lt;dbl&gt; | Electronic_danceability &lt;dbl&gt; | Electronic_duration_ms &lt;dbl&gt; | Electronic_energy &lt;dbl&gt; | Electronic_instrumentalness &lt;dbl&gt; | Electronic_liveness &lt;dbl&gt; | Electronic_loudness &lt;dbl&gt; | Electronic_speechiness &lt;dbl&gt; | Electronic_tempo &lt;dbl&gt; | Electronic_valence &lt;dbl&gt; |\n",
       "|---|---|---|---|---|---|---|---|---|---|---|---|\n",
       "| Electronic | 38.22575 | 0.1209939 | 0.618519 | 243912.9 | 0.7399248 | 0.3485196 | 0.2083236 | -7.010459 | 0.09833774 | NA | 0.3896082 |\n",
       "\n"
      ],
      "text/plain": [
       "  music_genre Electronic_popularity Electronic_acousticness\n",
       "1 Electronic  38.22575              0.1209939              \n",
       "  Electronic_danceability Electronic_duration_ms Electronic_energy\n",
       "1 0.618519                243912.9               0.7399248        \n",
       "  Electronic_instrumentalness Electronic_liveness Electronic_loudness\n",
       "1 0.3485196                   0.2083236           -7.010459          \n",
       "  Electronic_speechiness Electronic_tempo Electronic_valence\n",
       "1 0.09833774             NA               0.3896082         "
      ]
     },
     "metadata": {},
     "output_type": "display_data"
    },
    {
     "name": "stderr",
     "output_type": "stream",
     "text": [
      "`summarise()` ungrouping output (override with `.groups` argument)\n",
      "\n"
     ]
    },
    {
     "data": {
      "text/html": [
       "<table>\n",
       "<caption>A tibble: 1 × 12</caption>\n",
       "<thead>\n",
       "\t<tr><th scope=col>music_genre</th><th scope=col>Anime_popularity</th><th scope=col>Anime_acousticness</th><th scope=col>Anime_danceability</th><th scope=col>Anime_duration_ms</th><th scope=col>Anime_energy</th><th scope=col>Anime_instrumentalness</th><th scope=col>Anime_liveness</th><th scope=col>Anime_loudness</th><th scope=col>Anime_speechiness</th><th scope=col>Anime_tempo</th><th scope=col>Anime_valence</th></tr>\n",
       "\t<tr><th scope=col>&lt;fct&gt;</th><th scope=col>&lt;dbl&gt;</th><th scope=col>&lt;dbl&gt;</th><th scope=col>&lt;dbl&gt;</th><th scope=col>&lt;dbl&gt;</th><th scope=col>&lt;dbl&gt;</th><th scope=col>&lt;dbl&gt;</th><th scope=col>&lt;dbl&gt;</th><th scope=col>&lt;dbl&gt;</th><th scope=col>&lt;dbl&gt;</th><th scope=col>&lt;dbl&gt;</th><th scope=col>&lt;dbl&gt;</th></tr>\n",
       "</thead>\n",
       "<tbody>\n",
       "\t<tr><td>Anime</td><td>24.09718</td><td>0.2890184</td><td>0.4710687</td><td>207262.7</td><td>0.6627203</td><td>0.275544</td><td>0.1933312</td><td>-8.005073</td><td>0.06436032</td><td>NA</td><td>0.4368915</td></tr>\n",
       "</tbody>\n",
       "</table>\n"
      ],
      "text/latex": [
       "A tibble: 1 × 12\n",
       "\\begin{tabular}{llllllllllll}\n",
       " music\\_genre & Anime\\_popularity & Anime\\_acousticness & Anime\\_danceability & Anime\\_duration\\_ms & Anime\\_energy & Anime\\_instrumentalness & Anime\\_liveness & Anime\\_loudness & Anime\\_speechiness & Anime\\_tempo & Anime\\_valence\\\\\n",
       " <fct> & <dbl> & <dbl> & <dbl> & <dbl> & <dbl> & <dbl> & <dbl> & <dbl> & <dbl> & <dbl> & <dbl>\\\\\n",
       "\\hline\n",
       "\t Anime & 24.09718 & 0.2890184 & 0.4710687 & 207262.7 & 0.6627203 & 0.275544 & 0.1933312 & -8.005073 & 0.06436032 & NA & 0.4368915\\\\\n",
       "\\end{tabular}\n"
      ],
      "text/markdown": [
       "\n",
       "A tibble: 1 × 12\n",
       "\n",
       "| music_genre &lt;fct&gt; | Anime_popularity &lt;dbl&gt; | Anime_acousticness &lt;dbl&gt; | Anime_danceability &lt;dbl&gt; | Anime_duration_ms &lt;dbl&gt; | Anime_energy &lt;dbl&gt; | Anime_instrumentalness &lt;dbl&gt; | Anime_liveness &lt;dbl&gt; | Anime_loudness &lt;dbl&gt; | Anime_speechiness &lt;dbl&gt; | Anime_tempo &lt;dbl&gt; | Anime_valence &lt;dbl&gt; |\n",
       "|---|---|---|---|---|---|---|---|---|---|---|---|\n",
       "| Anime | 24.09718 | 0.2890184 | 0.4710687 | 207262.7 | 0.6627203 | 0.275544 | 0.1933312 | -8.005073 | 0.06436032 | NA | 0.4368915 |\n",
       "\n"
      ],
      "text/plain": [
       "  music_genre Anime_popularity Anime_acousticness Anime_danceability\n",
       "1 Anime       24.09718         0.2890184          0.4710687         \n",
       "  Anime_duration_ms Anime_energy Anime_instrumentalness Anime_liveness\n",
       "1 207262.7          0.6627203    0.275544               0.1933312     \n",
       "  Anime_loudness Anime_speechiness Anime_tempo Anime_valence\n",
       "1 -8.005073      0.06436032        NA          0.4368915    "
      ]
     },
     "metadata": {},
     "output_type": "display_data"
    },
    {
     "name": "stderr",
     "output_type": "stream",
     "text": [
      "`summarise()` ungrouping output (override with `.groups` argument)\n",
      "\n"
     ]
    },
    {
     "data": {
      "text/html": [
       "<table>\n",
       "<caption>A tibble: 1 × 12</caption>\n",
       "<thead>\n",
       "\t<tr><th scope=col>music_genre</th><th scope=col>Jazz_popularity</th><th scope=col>Jazz_acousticness</th><th scope=col>Jazz_danceability</th><th scope=col>Jazz_duration_ms</th><th scope=col>Jazz_energy</th><th scope=col>Jazz_instrumentalness</th><th scope=col>Jazz_liveness</th><th scope=col>Jazz_loudness</th><th scope=col>Jazz_speechiness</th><th scope=col>Jazz_tempo</th><th scope=col>Jazz_valence</th></tr>\n",
       "\t<tr><th scope=col>&lt;fct&gt;</th><th scope=col>&lt;dbl&gt;</th><th scope=col>&lt;dbl&gt;</th><th scope=col>&lt;dbl&gt;</th><th scope=col>&lt;dbl&gt;</th><th scope=col>&lt;dbl&gt;</th><th scope=col>&lt;dbl&gt;</th><th scope=col>&lt;dbl&gt;</th><th scope=col>&lt;dbl&gt;</th><th scope=col>&lt;dbl&gt;</th><th scope=col>&lt;dbl&gt;</th><th scope=col>&lt;dbl&gt;</th></tr>\n",
       "</thead>\n",
       "<tbody>\n",
       "\t<tr><td>Jazz</td><td>40.99515</td><td>0.4970666</td><td>0.5831851</td><td>238672.1</td><td>0.4746398</td><td>0.3549998</td><td>0.1733287</td><td>-11.20497</td><td>0.07353367</td><td>NA</td><td>0.5072553</td></tr>\n",
       "</tbody>\n",
       "</table>\n"
      ],
      "text/latex": [
       "A tibble: 1 × 12\n",
       "\\begin{tabular}{llllllllllll}\n",
       " music\\_genre & Jazz\\_popularity & Jazz\\_acousticness & Jazz\\_danceability & Jazz\\_duration\\_ms & Jazz\\_energy & Jazz\\_instrumentalness & Jazz\\_liveness & Jazz\\_loudness & Jazz\\_speechiness & Jazz\\_tempo & Jazz\\_valence\\\\\n",
       " <fct> & <dbl> & <dbl> & <dbl> & <dbl> & <dbl> & <dbl> & <dbl> & <dbl> & <dbl> & <dbl> & <dbl>\\\\\n",
       "\\hline\n",
       "\t Jazz & 40.99515 & 0.4970666 & 0.5831851 & 238672.1 & 0.4746398 & 0.3549998 & 0.1733287 & -11.20497 & 0.07353367 & NA & 0.5072553\\\\\n",
       "\\end{tabular}\n"
      ],
      "text/markdown": [
       "\n",
       "A tibble: 1 × 12\n",
       "\n",
       "| music_genre &lt;fct&gt; | Jazz_popularity &lt;dbl&gt; | Jazz_acousticness &lt;dbl&gt; | Jazz_danceability &lt;dbl&gt; | Jazz_duration_ms &lt;dbl&gt; | Jazz_energy &lt;dbl&gt; | Jazz_instrumentalness &lt;dbl&gt; | Jazz_liveness &lt;dbl&gt; | Jazz_loudness &lt;dbl&gt; | Jazz_speechiness &lt;dbl&gt; | Jazz_tempo &lt;dbl&gt; | Jazz_valence &lt;dbl&gt; |\n",
       "|---|---|---|---|---|---|---|---|---|---|---|---|\n",
       "| Jazz | 40.99515 | 0.4970666 | 0.5831851 | 238672.1 | 0.4746398 | 0.3549998 | 0.1733287 | -11.20497 | 0.07353367 | NA | 0.5072553 |\n",
       "\n"
      ],
      "text/plain": [
       "  music_genre Jazz_popularity Jazz_acousticness Jazz_danceability\n",
       "1 Jazz        40.99515        0.4970666         0.5831851        \n",
       "  Jazz_duration_ms Jazz_energy Jazz_instrumentalness Jazz_liveness\n",
       "1 238672.1         0.4746398   0.3549998             0.1733287    \n",
       "  Jazz_loudness Jazz_speechiness Jazz_tempo Jazz_valence\n",
       "1 -11.20497     0.07353367       NA         0.5072553   "
      ]
     },
     "metadata": {},
     "output_type": "display_data"
    },
    {
     "name": "stderr",
     "output_type": "stream",
     "text": [
      "`summarise()` ungrouping output (override with `.groups` argument)\n",
      "\n"
     ]
    },
    {
     "data": {
      "text/html": [
       "<table>\n",
       "<caption>A tibble: 1 × 12</caption>\n",
       "<thead>\n",
       "\t<tr><th scope=col>music_genre</th><th scope=col>Alternative_popularity</th><th scope=col>Alternative_acousticness</th><th scope=col>Alternative_danceability</th><th scope=col>Alternative_duration_ms</th><th scope=col>Alternative_energy</th><th scope=col>Alternative_instrumentalness</th><th scope=col>Alternative_liveness</th><th scope=col>Alternative_loudness</th><th scope=col>Alternative_speechiness</th><th scope=col>Alternative_tempo</th><th scope=col>Alternative_valence</th></tr>\n",
       "\t<tr><th scope=col>&lt;fct&gt;</th><th scope=col>&lt;dbl&gt;</th><th scope=col>&lt;dbl&gt;</th><th scope=col>&lt;dbl&gt;</th><th scope=col>&lt;dbl&gt;</th><th scope=col>&lt;dbl&gt;</th><th scope=col>&lt;dbl&gt;</th><th scope=col>&lt;dbl&gt;</th><th scope=col>&lt;dbl&gt;</th><th scope=col>&lt;dbl&gt;</th><th scope=col>&lt;dbl&gt;</th><th scope=col>&lt;dbl&gt;</th></tr>\n",
       "</thead>\n",
       "<tbody>\n",
       "\t<tr><td>Alternative</td><td>50.09514</td><td>0.1635462</td><td>0.5396419</td><td>211248.6</td><td>0.7094808</td><td>0.06034778</td><td>0.1972803</td><td>-6.536998</td><td>0.08748621</td><td>NA</td><td>0.4433511</td></tr>\n",
       "</tbody>\n",
       "</table>\n"
      ],
      "text/latex": [
       "A tibble: 1 × 12\n",
       "\\begin{tabular}{llllllllllll}\n",
       " music\\_genre & Alternative\\_popularity & Alternative\\_acousticness & Alternative\\_danceability & Alternative\\_duration\\_ms & Alternative\\_energy & Alternative\\_instrumentalness & Alternative\\_liveness & Alternative\\_loudness & Alternative\\_speechiness & Alternative\\_tempo & Alternative\\_valence\\\\\n",
       " <fct> & <dbl> & <dbl> & <dbl> & <dbl> & <dbl> & <dbl> & <dbl> & <dbl> & <dbl> & <dbl> & <dbl>\\\\\n",
       "\\hline\n",
       "\t Alternative & 50.09514 & 0.1635462 & 0.5396419 & 211248.6 & 0.7094808 & 0.06034778 & 0.1972803 & -6.536998 & 0.08748621 & NA & 0.4433511\\\\\n",
       "\\end{tabular}\n"
      ],
      "text/markdown": [
       "\n",
       "A tibble: 1 × 12\n",
       "\n",
       "| music_genre &lt;fct&gt; | Alternative_popularity &lt;dbl&gt; | Alternative_acousticness &lt;dbl&gt; | Alternative_danceability &lt;dbl&gt; | Alternative_duration_ms &lt;dbl&gt; | Alternative_energy &lt;dbl&gt; | Alternative_instrumentalness &lt;dbl&gt; | Alternative_liveness &lt;dbl&gt; | Alternative_loudness &lt;dbl&gt; | Alternative_speechiness &lt;dbl&gt; | Alternative_tempo &lt;dbl&gt; | Alternative_valence &lt;dbl&gt; |\n",
       "|---|---|---|---|---|---|---|---|---|---|---|---|\n",
       "| Alternative | 50.09514 | 0.1635462 | 0.5396419 | 211248.6 | 0.7094808 | 0.06034778 | 0.1972803 | -6.536998 | 0.08748621 | NA | 0.4433511 |\n",
       "\n"
      ],
      "text/plain": [
       "  music_genre Alternative_popularity Alternative_acousticness\n",
       "1 Alternative 50.09514               0.1635462               \n",
       "  Alternative_danceability Alternative_duration_ms Alternative_energy\n",
       "1 0.5396419                211248.6                0.7094808         \n",
       "  Alternative_instrumentalness Alternative_liveness Alternative_loudness\n",
       "1 0.06034778                   0.1972803            -6.536998           \n",
       "  Alternative_speechiness Alternative_tempo Alternative_valence\n",
       "1 0.08748621              NA                0.4433511          "
      ]
     },
     "metadata": {},
     "output_type": "display_data"
    },
    {
     "name": "stderr",
     "output_type": "stream",
     "text": [
      "`summarise()` ungrouping output (override with `.groups` argument)\n",
      "\n"
     ]
    },
    {
     "data": {
      "text/html": [
       "<table>\n",
       "<caption>A tibble: 1 × 12</caption>\n",
       "<thead>\n",
       "\t<tr><th scope=col>music_genre</th><th scope=col>Country_popularity</th><th scope=col>Country_acousticness</th><th scope=col>Country_danceability</th><th scope=col>Country_duration_ms</th><th scope=col>Country_energy</th><th scope=col>Country_instrumentalness</th><th scope=col>Country_liveness</th><th scope=col>Country_loudness</th><th scope=col>Country_speechiness</th><th scope=col>Country_tempo</th><th scope=col>Country_valence</th></tr>\n",
       "\t<tr><th scope=col>&lt;fct&gt;</th><th scope=col>&lt;dbl&gt;</th><th scope=col>&lt;dbl&gt;</th><th scope=col>&lt;dbl&gt;</th><th scope=col>&lt;dbl&gt;</th><th scope=col>&lt;dbl&gt;</th><th scope=col>&lt;dbl&gt;</th><th scope=col>&lt;dbl&gt;</th><th scope=col>&lt;dbl&gt;</th><th scope=col>&lt;dbl&gt;</th><th scope=col>&lt;dbl&gt;</th><th scope=col>&lt;dbl&gt;</th></tr>\n",
       "</thead>\n",
       "<tbody>\n",
       "\t<tr><td>Country</td><td>45.99337</td><td>0.2696001</td><td>0.5781955</td><td>196101.2</td><td>0.6373636</td><td>0.005948961</td><td>0.1889046</td><td>-7.325569</td><td>0.04915162</td><td>NA</td><td>0.5380232</td></tr>\n",
       "</tbody>\n",
       "</table>\n"
      ],
      "text/latex": [
       "A tibble: 1 × 12\n",
       "\\begin{tabular}{llllllllllll}\n",
       " music\\_genre & Country\\_popularity & Country\\_acousticness & Country\\_danceability & Country\\_duration\\_ms & Country\\_energy & Country\\_instrumentalness & Country\\_liveness & Country\\_loudness & Country\\_speechiness & Country\\_tempo & Country\\_valence\\\\\n",
       " <fct> & <dbl> & <dbl> & <dbl> & <dbl> & <dbl> & <dbl> & <dbl> & <dbl> & <dbl> & <dbl> & <dbl>\\\\\n",
       "\\hline\n",
       "\t Country & 45.99337 & 0.2696001 & 0.5781955 & 196101.2 & 0.6373636 & 0.005948961 & 0.1889046 & -7.325569 & 0.04915162 & NA & 0.5380232\\\\\n",
       "\\end{tabular}\n"
      ],
      "text/markdown": [
       "\n",
       "A tibble: 1 × 12\n",
       "\n",
       "| music_genre &lt;fct&gt; | Country_popularity &lt;dbl&gt; | Country_acousticness &lt;dbl&gt; | Country_danceability &lt;dbl&gt; | Country_duration_ms &lt;dbl&gt; | Country_energy &lt;dbl&gt; | Country_instrumentalness &lt;dbl&gt; | Country_liveness &lt;dbl&gt; | Country_loudness &lt;dbl&gt; | Country_speechiness &lt;dbl&gt; | Country_tempo &lt;dbl&gt; | Country_valence &lt;dbl&gt; |\n",
       "|---|---|---|---|---|---|---|---|---|---|---|---|\n",
       "| Country | 45.99337 | 0.2696001 | 0.5781955 | 196101.2 | 0.6373636 | 0.005948961 | 0.1889046 | -7.325569 | 0.04915162 | NA | 0.5380232 |\n",
       "\n"
      ],
      "text/plain": [
       "  music_genre Country_popularity Country_acousticness Country_danceability\n",
       "1 Country     45.99337           0.2696001            0.5781955           \n",
       "  Country_duration_ms Country_energy Country_instrumentalness Country_liveness\n",
       "1 196101.2            0.6373636      0.005948961              0.1889046       \n",
       "  Country_loudness Country_speechiness Country_tempo Country_valence\n",
       "1 -7.325569        0.04915162          NA            0.5380232      "
      ]
     },
     "metadata": {},
     "output_type": "display_data"
    },
    {
     "name": "stderr",
     "output_type": "stream",
     "text": [
      "`summarise()` ungrouping output (override with `.groups` argument)\n",
      "\n"
     ]
    },
    {
     "data": {
      "text/html": [
       "<table>\n",
       "<caption>A tibble: 1 × 12</caption>\n",
       "<thead>\n",
       "\t<tr><th scope=col>music_genre</th><th scope=col>Rap_popularity</th><th scope=col>Rap_acousticness</th><th scope=col>Rap_danceability</th><th scope=col>Rap_duration_ms</th><th scope=col>Rap_energy</th><th scope=col>Rap_instrumentalness</th><th scope=col>Rap_liveness</th><th scope=col>Rap_loudness</th><th scope=col>Rap_speechiness</th><th scope=col>Rap_tempo</th><th scope=col>Rap_valence</th></tr>\n",
       "\t<tr><th scope=col>&lt;fct&gt;</th><th scope=col>&lt;dbl&gt;</th><th scope=col>&lt;dbl&gt;</th><th scope=col>&lt;dbl&gt;</th><th scope=col>&lt;dbl&gt;</th><th scope=col>&lt;dbl&gt;</th><th scope=col>&lt;dbl&gt;</th><th scope=col>&lt;dbl&gt;</th><th scope=col>&lt;dbl&gt;</th><th scope=col>&lt;dbl&gt;</th><th scope=col>&lt;dbl&gt;</th><th scope=col>&lt;dbl&gt;</th></tr>\n",
       "</thead>\n",
       "<tbody>\n",
       "\t<tr><td>Rap</td><td>60.43875</td><td>0.1688095</td><td>0.6974137</td><td>196701.3</td><td>0.6510017</td><td>0.00856776</td><td>0.1980093</td><td>-6.649976</td><td>0.1848943</td><td>NA</td><td>0.4543872</td></tr>\n",
       "</tbody>\n",
       "</table>\n"
      ],
      "text/latex": [
       "A tibble: 1 × 12\n",
       "\\begin{tabular}{llllllllllll}\n",
       " music\\_genre & Rap\\_popularity & Rap\\_acousticness & Rap\\_danceability & Rap\\_duration\\_ms & Rap\\_energy & Rap\\_instrumentalness & Rap\\_liveness & Rap\\_loudness & Rap\\_speechiness & Rap\\_tempo & Rap\\_valence\\\\\n",
       " <fct> & <dbl> & <dbl> & <dbl> & <dbl> & <dbl> & <dbl> & <dbl> & <dbl> & <dbl> & <dbl> & <dbl>\\\\\n",
       "\\hline\n",
       "\t Rap & 60.43875 & 0.1688095 & 0.6974137 & 196701.3 & 0.6510017 & 0.00856776 & 0.1980093 & -6.649976 & 0.1848943 & NA & 0.4543872\\\\\n",
       "\\end{tabular}\n"
      ],
      "text/markdown": [
       "\n",
       "A tibble: 1 × 12\n",
       "\n",
       "| music_genre &lt;fct&gt; | Rap_popularity &lt;dbl&gt; | Rap_acousticness &lt;dbl&gt; | Rap_danceability &lt;dbl&gt; | Rap_duration_ms &lt;dbl&gt; | Rap_energy &lt;dbl&gt; | Rap_instrumentalness &lt;dbl&gt; | Rap_liveness &lt;dbl&gt; | Rap_loudness &lt;dbl&gt; | Rap_speechiness &lt;dbl&gt; | Rap_tempo &lt;dbl&gt; | Rap_valence &lt;dbl&gt; |\n",
       "|---|---|---|---|---|---|---|---|---|---|---|---|\n",
       "| Rap | 60.43875 | 0.1688095 | 0.6974137 | 196701.3 | 0.6510017 | 0.00856776 | 0.1980093 | -6.649976 | 0.1848943 | NA | 0.4543872 |\n",
       "\n"
      ],
      "text/plain": [
       "  music_genre Rap_popularity Rap_acousticness Rap_danceability Rap_duration_ms\n",
       "1 Rap         60.43875       0.1688095        0.6974137        196701.3       \n",
       "  Rap_energy Rap_instrumentalness Rap_liveness Rap_loudness Rap_speechiness\n",
       "1 0.6510017  0.00856776           0.1980093    -6.649976    0.1848943      \n",
       "  Rap_tempo Rap_valence\n",
       "1 NA        0.4543872  "
      ]
     },
     "metadata": {},
     "output_type": "display_data"
    },
    {
     "name": "stderr",
     "output_type": "stream",
     "text": [
      "`summarise()` ungrouping output (override with `.groups` argument)\n",
      "\n"
     ]
    },
    {
     "data": {
      "text/html": [
       "<table>\n",
       "<caption>A tibble: 1 × 12</caption>\n",
       "<thead>\n",
       "\t<tr><th scope=col>music_genre</th><th scope=col>Blues_popularity</th><th scope=col>Blues_acousticness</th><th scope=col>Blues_danceability</th><th scope=col>Blues_duration_ms</th><th scope=col>Blues_energy</th><th scope=col>Blues_instrumentalness</th><th scope=col>Blues_liveness</th><th scope=col>Blues_loudness</th><th scope=col>Blues_speechiness</th><th scope=col>Blues_tempo</th><th scope=col>Blues_valence</th></tr>\n",
       "\t<tr><th scope=col>&lt;fct&gt;</th><th scope=col>&lt;dbl&gt;</th><th scope=col>&lt;dbl&gt;</th><th scope=col>&lt;dbl&gt;</th><th scope=col>&lt;dbl&gt;</th><th scope=col>&lt;dbl&gt;</th><th scope=col>&lt;dbl&gt;</th><th scope=col>&lt;dbl&gt;</th><th scope=col>&lt;dbl&gt;</th><th scope=col>&lt;dbl&gt;</th><th scope=col>&lt;dbl&gt;</th><th scope=col>&lt;dbl&gt;</th></tr>\n",
       "</thead>\n",
       "<tbody>\n",
       "\t<tr><td>Blues</td><td>34.84956</td><td>0.3172375</td><td>0.5292278</td><td>229227.6</td><td>0.6096369</td><td>0.0931598</td><td>0.2318851</td><td>-8.997518</td><td>0.06163273</td><td>NA</td><td>0.5804361</td></tr>\n",
       "</tbody>\n",
       "</table>\n"
      ],
      "text/latex": [
       "A tibble: 1 × 12\n",
       "\\begin{tabular}{llllllllllll}\n",
       " music\\_genre & Blues\\_popularity & Blues\\_acousticness & Blues\\_danceability & Blues\\_duration\\_ms & Blues\\_energy & Blues\\_instrumentalness & Blues\\_liveness & Blues\\_loudness & Blues\\_speechiness & Blues\\_tempo & Blues\\_valence\\\\\n",
       " <fct> & <dbl> & <dbl> & <dbl> & <dbl> & <dbl> & <dbl> & <dbl> & <dbl> & <dbl> & <dbl> & <dbl>\\\\\n",
       "\\hline\n",
       "\t Blues & 34.84956 & 0.3172375 & 0.5292278 & 229227.6 & 0.6096369 & 0.0931598 & 0.2318851 & -8.997518 & 0.06163273 & NA & 0.5804361\\\\\n",
       "\\end{tabular}\n"
      ],
      "text/markdown": [
       "\n",
       "A tibble: 1 × 12\n",
       "\n",
       "| music_genre &lt;fct&gt; | Blues_popularity &lt;dbl&gt; | Blues_acousticness &lt;dbl&gt; | Blues_danceability &lt;dbl&gt; | Blues_duration_ms &lt;dbl&gt; | Blues_energy &lt;dbl&gt; | Blues_instrumentalness &lt;dbl&gt; | Blues_liveness &lt;dbl&gt; | Blues_loudness &lt;dbl&gt; | Blues_speechiness &lt;dbl&gt; | Blues_tempo &lt;dbl&gt; | Blues_valence &lt;dbl&gt; |\n",
       "|---|---|---|---|---|---|---|---|---|---|---|---|\n",
       "| Blues | 34.84956 | 0.3172375 | 0.5292278 | 229227.6 | 0.6096369 | 0.0931598 | 0.2318851 | -8.997518 | 0.06163273 | NA | 0.5804361 |\n",
       "\n"
      ],
      "text/plain": [
       "  music_genre Blues_popularity Blues_acousticness Blues_danceability\n",
       "1 Blues       34.84956         0.3172375          0.5292278         \n",
       "  Blues_duration_ms Blues_energy Blues_instrumentalness Blues_liveness\n",
       "1 229227.6          0.6096369    0.0931598              0.2318851     \n",
       "  Blues_loudness Blues_speechiness Blues_tempo Blues_valence\n",
       "1 -8.997518      0.06163273        NA          0.5804361    "
      ]
     },
     "metadata": {},
     "output_type": "display_data"
    },
    {
     "name": "stderr",
     "output_type": "stream",
     "text": [
      "`summarise()` ungrouping output (override with `.groups` argument)\n",
      "\n"
     ]
    },
    {
     "data": {
      "text/html": [
       "<table>\n",
       "<caption>A tibble: 1 × 12</caption>\n",
       "<thead>\n",
       "\t<tr><th scope=col>music_genre</th><th scope=col>Rock_popularity</th><th scope=col>Rock_acousticness</th><th scope=col>Rock_danceability</th><th scope=col>Rock_duration_ms</th><th scope=col>Rock_energy</th><th scope=col>Rock_instrumentalness</th><th scope=col>Rock_liveness</th><th scope=col>Rock_loudness</th><th scope=col>Rock_speechiness</th><th scope=col>Rock_tempo</th><th scope=col>Rock_valence</th></tr>\n",
       "\t<tr><th scope=col>&lt;fct&gt;</th><th scope=col>&lt;dbl&gt;</th><th scope=col>&lt;dbl&gt;</th><th scope=col>&lt;dbl&gt;</th><th scope=col>&lt;dbl&gt;</th><th scope=col>&lt;dbl&gt;</th><th scope=col>&lt;dbl&gt;</th><th scope=col>&lt;dbl&gt;</th><th scope=col>&lt;dbl&gt;</th><th scope=col>&lt;dbl&gt;</th><th scope=col>&lt;dbl&gt;</th><th scope=col>&lt;dbl&gt;</th></tr>\n",
       "</thead>\n",
       "<tbody>\n",
       "\t<tr><td>Rock</td><td>59.63176</td><td>0.1931467</td><td>0.5384534</td><td>211565.1</td><td>0.6864833</td><td>0.05437693</td><td>0.1856192</td><td>-7.243957</td><td>0.05418654</td><td>NA</td><td>0.5208675</td></tr>\n",
       "</tbody>\n",
       "</table>\n"
      ],
      "text/latex": [
       "A tibble: 1 × 12\n",
       "\\begin{tabular}{llllllllllll}\n",
       " music\\_genre & Rock\\_popularity & Rock\\_acousticness & Rock\\_danceability & Rock\\_duration\\_ms & Rock\\_energy & Rock\\_instrumentalness & Rock\\_liveness & Rock\\_loudness & Rock\\_speechiness & Rock\\_tempo & Rock\\_valence\\\\\n",
       " <fct> & <dbl> & <dbl> & <dbl> & <dbl> & <dbl> & <dbl> & <dbl> & <dbl> & <dbl> & <dbl> & <dbl>\\\\\n",
       "\\hline\n",
       "\t Rock & 59.63176 & 0.1931467 & 0.5384534 & 211565.1 & 0.6864833 & 0.05437693 & 0.1856192 & -7.243957 & 0.05418654 & NA & 0.5208675\\\\\n",
       "\\end{tabular}\n"
      ],
      "text/markdown": [
       "\n",
       "A tibble: 1 × 12\n",
       "\n",
       "| music_genre &lt;fct&gt; | Rock_popularity &lt;dbl&gt; | Rock_acousticness &lt;dbl&gt; | Rock_danceability &lt;dbl&gt; | Rock_duration_ms &lt;dbl&gt; | Rock_energy &lt;dbl&gt; | Rock_instrumentalness &lt;dbl&gt; | Rock_liveness &lt;dbl&gt; | Rock_loudness &lt;dbl&gt; | Rock_speechiness &lt;dbl&gt; | Rock_tempo &lt;dbl&gt; | Rock_valence &lt;dbl&gt; |\n",
       "|---|---|---|---|---|---|---|---|---|---|---|---|\n",
       "| Rock | 59.63176 | 0.1931467 | 0.5384534 | 211565.1 | 0.6864833 | 0.05437693 | 0.1856192 | -7.243957 | 0.05418654 | NA | 0.5208675 |\n",
       "\n"
      ],
      "text/plain": [
       "  music_genre Rock_popularity Rock_acousticness Rock_danceability\n",
       "1 Rock        59.63176        0.1931467         0.5384534        \n",
       "  Rock_duration_ms Rock_energy Rock_instrumentalness Rock_liveness\n",
       "1 211565.1         0.6864833   0.05437693            0.1856192    \n",
       "  Rock_loudness Rock_speechiness Rock_tempo Rock_valence\n",
       "1 -7.243957     0.05418654       NA         0.5208675   "
      ]
     },
     "metadata": {},
     "output_type": "display_data"
    },
    {
     "name": "stderr",
     "output_type": "stream",
     "text": [
      "`summarise()` ungrouping output (override with `.groups` argument)\n",
      "\n"
     ]
    },
    {
     "data": {
      "text/html": [
       "<table>\n",
       "<caption>A tibble: 1 × 12</caption>\n",
       "<thead>\n",
       "\t<tr><th scope=col>music_genre</th><th scope=col>Classical_popularity</th><th scope=col>Classical_acousticness</th><th scope=col>Classical_danceability</th><th scope=col>Classical_duration_ms</th><th scope=col>Classical_energy</th><th scope=col>Classical_instrumentalness</th><th scope=col>Classical_liveness</th><th scope=col>Classical_loudness</th><th scope=col>Classical_speechiness</th><th scope=col>Classical_tempo</th><th scope=col>Classical_valence</th></tr>\n",
       "\t<tr><th scope=col>&lt;fct&gt;</th><th scope=col>&lt;dbl&gt;</th><th scope=col>&lt;dbl&gt;</th><th scope=col>&lt;dbl&gt;</th><th scope=col>&lt;dbl&gt;</th><th scope=col>&lt;dbl&gt;</th><th scope=col>&lt;dbl&gt;</th><th scope=col>&lt;dbl&gt;</th><th scope=col>&lt;dbl&gt;</th><th scope=col>&lt;dbl&gt;</th><th scope=col>&lt;dbl&gt;</th><th scope=col>&lt;dbl&gt;</th></tr>\n",
       "</thead>\n",
       "<tbody>\n",
       "\t<tr><td>Classical</td><td>29.42083</td><td>0.8706519</td><td>0.3064975</td><td>275081.6</td><td>0.1749546</td><td>0.6042624</td><td>0.1603967</td><td>-21.68719</td><td>0.05127208</td><td>NA</td><td>0.2107748</td></tr>\n",
       "</tbody>\n",
       "</table>\n"
      ],
      "text/latex": [
       "A tibble: 1 × 12\n",
       "\\begin{tabular}{llllllllllll}\n",
       " music\\_genre & Classical\\_popularity & Classical\\_acousticness & Classical\\_danceability & Classical\\_duration\\_ms & Classical\\_energy & Classical\\_instrumentalness & Classical\\_liveness & Classical\\_loudness & Classical\\_speechiness & Classical\\_tempo & Classical\\_valence\\\\\n",
       " <fct> & <dbl> & <dbl> & <dbl> & <dbl> & <dbl> & <dbl> & <dbl> & <dbl> & <dbl> & <dbl> & <dbl>\\\\\n",
       "\\hline\n",
       "\t Classical & 29.42083 & 0.8706519 & 0.3064975 & 275081.6 & 0.1749546 & 0.6042624 & 0.1603967 & -21.68719 & 0.05127208 & NA & 0.2107748\\\\\n",
       "\\end{tabular}\n"
      ],
      "text/markdown": [
       "\n",
       "A tibble: 1 × 12\n",
       "\n",
       "| music_genre &lt;fct&gt; | Classical_popularity &lt;dbl&gt; | Classical_acousticness &lt;dbl&gt; | Classical_danceability &lt;dbl&gt; | Classical_duration_ms &lt;dbl&gt; | Classical_energy &lt;dbl&gt; | Classical_instrumentalness &lt;dbl&gt; | Classical_liveness &lt;dbl&gt; | Classical_loudness &lt;dbl&gt; | Classical_speechiness &lt;dbl&gt; | Classical_tempo &lt;dbl&gt; | Classical_valence &lt;dbl&gt; |\n",
       "|---|---|---|---|---|---|---|---|---|---|---|---|\n",
       "| Classical | 29.42083 | 0.8706519 | 0.3064975 | 275081.6 | 0.1749546 | 0.6042624 | 0.1603967 | -21.68719 | 0.05127208 | NA | 0.2107748 |\n",
       "\n"
      ],
      "text/plain": [
       "  music_genre Classical_popularity Classical_acousticness\n",
       "1 Classical   29.42083             0.8706519             \n",
       "  Classical_danceability Classical_duration_ms Classical_energy\n",
       "1 0.3064975              275081.6              0.1749546       \n",
       "  Classical_instrumentalness Classical_liveness Classical_loudness\n",
       "1 0.6042624                  0.1603967          -21.68719         \n",
       "  Classical_speechiness Classical_tempo Classical_valence\n",
       "1 0.05127208            NA              0.2107748        "
      ]
     },
     "metadata": {},
     "output_type": "display_data"
    },
    {
     "name": "stderr",
     "output_type": "stream",
     "text": [
      "`summarise()` ungrouping output (override with `.groups` argument)\n",
      "\n"
     ]
    },
    {
     "data": {
      "text/html": [
       "<table>\n",
       "<caption>A tibble: 1 × 12</caption>\n",
       "<thead>\n",
       "\t<tr><th scope=col>music_genre</th><th scope=col>Hip_Hop_popularity</th><th scope=col>Hip_Hop_acousticness</th><th scope=col>Hip_Hop_danceability</th><th scope=col>Hip_Hop_duration_ms</th><th scope=col>Hip_Hop_energy</th><th scope=col>Hip_Hop_instrumentalness</th><th scope=col>Hip_Hop_liveness</th><th scope=col>Hip_Hop_loudness</th><th scope=col>Hip_Hop_speechiness</th><th scope=col>Hip_Hop_tempo</th><th scope=col>Hip_Hop_valence</th></tr>\n",
       "\t<tr><th scope=col>&lt;fct&gt;</th><th scope=col>&lt;dbl&gt;</th><th scope=col>&lt;dbl&gt;</th><th scope=col>&lt;dbl&gt;</th><th scope=col>&lt;dbl&gt;</th><th scope=col>&lt;dbl&gt;</th><th scope=col>&lt;dbl&gt;</th><th scope=col>&lt;dbl&gt;</th><th scope=col>&lt;dbl&gt;</th><th scope=col>&lt;dbl&gt;</th><th scope=col>&lt;dbl&gt;</th><th scope=col>&lt;dbl&gt;</th></tr>\n",
       "</thead>\n",
       "<tbody>\n",
       "\t<tr><td>Hip-Hop</td><td>58.31727</td><td>0.1789183</td><td>0.7177655</td><td>198778.2</td><td>0.6463703</td><td>0.01167107</td><td>0.2021532</td><td>-6.840464</td><td>0.2080488</td><td>NA</td><td>0.4758049</td></tr>\n",
       "</tbody>\n",
       "</table>\n"
      ],
      "text/latex": [
       "A tibble: 1 × 12\n",
       "\\begin{tabular}{llllllllllll}\n",
       " music\\_genre & Hip\\_Hop\\_popularity & Hip\\_Hop\\_acousticness & Hip\\_Hop\\_danceability & Hip\\_Hop\\_duration\\_ms & Hip\\_Hop\\_energy & Hip\\_Hop\\_instrumentalness & Hip\\_Hop\\_liveness & Hip\\_Hop\\_loudness & Hip\\_Hop\\_speechiness & Hip\\_Hop\\_tempo & Hip\\_Hop\\_valence\\\\\n",
       " <fct> & <dbl> & <dbl> & <dbl> & <dbl> & <dbl> & <dbl> & <dbl> & <dbl> & <dbl> & <dbl> & <dbl>\\\\\n",
       "\\hline\n",
       "\t Hip-Hop & 58.31727 & 0.1789183 & 0.7177655 & 198778.2 & 0.6463703 & 0.01167107 & 0.2021532 & -6.840464 & 0.2080488 & NA & 0.4758049\\\\\n",
       "\\end{tabular}\n"
      ],
      "text/markdown": [
       "\n",
       "A tibble: 1 × 12\n",
       "\n",
       "| music_genre &lt;fct&gt; | Hip_Hop_popularity &lt;dbl&gt; | Hip_Hop_acousticness &lt;dbl&gt; | Hip_Hop_danceability &lt;dbl&gt; | Hip_Hop_duration_ms &lt;dbl&gt; | Hip_Hop_energy &lt;dbl&gt; | Hip_Hop_instrumentalness &lt;dbl&gt; | Hip_Hop_liveness &lt;dbl&gt; | Hip_Hop_loudness &lt;dbl&gt; | Hip_Hop_speechiness &lt;dbl&gt; | Hip_Hop_tempo &lt;dbl&gt; | Hip_Hop_valence &lt;dbl&gt; |\n",
       "|---|---|---|---|---|---|---|---|---|---|---|---|\n",
       "| Hip-Hop | 58.31727 | 0.1789183 | 0.7177655 | 198778.2 | 0.6463703 | 0.01167107 | 0.2021532 | -6.840464 | 0.2080488 | NA | 0.4758049 |\n",
       "\n"
      ],
      "text/plain": [
       "  music_genre Hip_Hop_popularity Hip_Hop_acousticness Hip_Hop_danceability\n",
       "1 Hip-Hop     58.31727           0.1789183            0.7177655           \n",
       "  Hip_Hop_duration_ms Hip_Hop_energy Hip_Hop_instrumentalness Hip_Hop_liveness\n",
       "1 198778.2            0.6463703      0.01167107               0.2021532       \n",
       "  Hip_Hop_loudness Hip_Hop_speechiness Hip_Hop_tempo Hip_Hop_valence\n",
       "1 -6.840464        0.2080488           NA            0.4758049      "
      ]
     },
     "metadata": {},
     "output_type": "display_data"
    }
   ],
   "source": [
    "### Table for each Genre\n",
    "Electronic <- data_train %>%\n",
    "                filter(music_genre == \"Electronic\") %>%\n",
    "                group_by(music_genre) %>%\n",
    "                summarize(Electronic_popularity = mean(popularity, na.ra = True),\n",
    "                         Electronic_acousticness = mean(acousticness, na.ra = True),\n",
    "                         Electronic_danceability = mean(danceability, na.ra = True),\n",
    "                         Electronic_duration_ms = mean(duration_ms, na.ra = True),\n",
    "                         Electronic_energy = mean(energy, na.ra = True),\n",
    "                         Electronic_instrumentalness = mean(instrumentalness, na.ra = True),\n",
    "                         Electronic_liveness = mean(liveness, na.ra = True),\n",
    "                         Electronic_loudness = mean(loudness, na.ra = True),\n",
    "                         Electronic_speechiness = mean(speechiness, na.ra = True),\n",
    "                         Electronic_tempo = mean(tempo, na.ra = True),\n",
    "                         Electronic_valence = mean(valence, na.ra = True))\n",
    "Electronic\n",
    "\n",
    "Anime <- data_train %>%\n",
    "                filter(music_genre == \"Anime\") %>%\n",
    "                group_by(music_genre) %>%\n",
    "                summarize(Anime_popularity = mean(popularity, na.ra = True),\n",
    "                         Anime_acousticness = mean(acousticness, na.ra = True),\n",
    "                         Anime_danceability = mean(danceability, na.ra = True),\n",
    "                         Anime_duration_ms = mean(duration_ms, na.ra = True),\n",
    "                         Anime_energy = mean(energy, na.ra = True),\n",
    "                         Anime_instrumentalness = mean(instrumentalness, na.ra = True),\n",
    "                         Anime_liveness = mean(liveness, na.ra = True),\n",
    "                         Anime_loudness = mean(loudness, na.ra = True),\n",
    "                         Anime_speechiness = mean(speechiness, na.ra = True),\n",
    "                         Anime_tempo = mean(tempo, na.ra = True),\n",
    "                         Anime_valence = mean(valence, na.ra = True))\n",
    "Anime\n",
    "\n",
    "Jazz <- data_train %>%\n",
    "                filter(music_genre == \"Jazz\") %>%\n",
    "                group_by(music_genre) %>%\n",
    "                summarize(Jazz_popularity = mean(popularity, na.ra = True),\n",
    "                         Jazz_acousticness = mean(acousticness, na.ra = True),\n",
    "                         Jazz_danceability = mean(danceability, na.ra = True),\n",
    "                         Jazz_duration_ms = mean(duration_ms, na.ra = True),\n",
    "                         Jazz_energy = mean(energy, na.ra = True),\n",
    "                         Jazz_instrumentalness = mean(instrumentalness, na.ra = True),\n",
    "                         Jazz_liveness = mean(liveness, na.ra = True),\n",
    "                         Jazz_loudness = mean(loudness, na.ra = True),\n",
    "                         Jazz_speechiness = mean(speechiness, na.ra = True),\n",
    "                         Jazz_tempo = mean(tempo, na.ra = True),\n",
    "                         Jazz_valence = mean(valence, na.ra = True))\n",
    "Jazz\n",
    "\n",
    "Alternative <- data_train %>%\n",
    "                filter(music_genre == \"Alternative\") %>%\n",
    "                group_by(music_genre) %>%\n",
    "                summarize(Alternative_popularity = mean(popularity, na.ra = True),\n",
    "                         Alternative_acousticness = mean(acousticness, na.ra = True),\n",
    "                         Alternative_danceability = mean(danceability, na.ra = True),\n",
    "                         Alternative_duration_ms = mean(duration_ms, na.ra = True),\n",
    "                         Alternative_energy = mean(energy, na.ra = True),\n",
    "                         Alternative_instrumentalness = mean(instrumentalness, na.ra = True),\n",
    "                         Alternative_liveness = mean(liveness, na.ra = True),\n",
    "                         Alternative_loudness = mean(loudness, na.ra = True),\n",
    "                         Alternative_speechiness = mean(speechiness, na.ra = True),\n",
    "                         Alternative_tempo = mean(tempo, na.ra = True),\n",
    "                         Alternative_valence = mean(valence, na.ra = True))\n",
    "Alternative\n",
    "\n",
    "Country <- data_train %>%\n",
    "                filter(music_genre == \"Country\") %>%\n",
    "                group_by(music_genre) %>%\n",
    "                summarize(Country_popularity = mean(popularity, na.ra = True),\n",
    "                         Country_acousticness = mean(acousticness, na.ra = True),\n",
    "                         Country_danceability = mean(danceability, na.ra = True),\n",
    "                         Country_duration_ms = mean(duration_ms, na.ra = True),\n",
    "                         Country_energy = mean(energy, na.ra = True),\n",
    "                         Country_instrumentalness = mean(instrumentalness, na.ra = True),\n",
    "                         Country_liveness = mean(liveness, na.ra = True),\n",
    "                         Country_loudness = mean(loudness, na.ra = True),\n",
    "                         Country_speechiness = mean(speechiness, na.ra = True),\n",
    "                         Country_tempo = mean(tempo, na.ra = True),\n",
    "                         Country_valence = mean(valence, na.ra = True))\n",
    "Country\n",
    "\n",
    "Rap <- data_train %>%\n",
    "                filter(music_genre == \"Rap\") %>%\n",
    "                group_by(music_genre) %>%\n",
    "                summarize(Rap_popularity = mean(popularity, na.ra = True),\n",
    "                         Rap_acousticness = mean(acousticness, na.ra = True),\n",
    "                         Rap_danceability = mean(danceability, na.ra = True),\n",
    "                         Rap_duration_ms = mean(duration_ms, na.ra = True),\n",
    "                         Rap_energy = mean(energy, na.ra = True),\n",
    "                         Rap_instrumentalness = mean(instrumentalness, na.ra = True),\n",
    "                         Rap_liveness = mean(liveness, na.ra = True),\n",
    "                         Rap_loudness = mean(loudness, na.ra = True),\n",
    "                         Rap_speechiness = mean(speechiness, na.ra = True),\n",
    "                         Rap_tempo = mean(tempo, na.ra = True),\n",
    "                         Rap_valence = mean(valence, na.ra = True))\n",
    "Rap\n",
    "\n",
    "Blues <- data_train %>%\n",
    "                filter(music_genre == \"Blues\") %>%\n",
    "                group_by(music_genre) %>%\n",
    "                summarize(Blues_popularity = mean(popularity, na.ra = True),\n",
    "                         Blues_acousticness = mean(acousticness, na.ra = True),\n",
    "                         Blues_danceability = mean(danceability, na.ra = True),\n",
    "                         Blues_duration_ms = mean(duration_ms, na.ra = True),\n",
    "                         Blues_energy = mean(energy, na.ra = True),\n",
    "                         Blues_instrumentalness = mean(instrumentalness, na.ra = True),\n",
    "                         Blues_liveness = mean(liveness, na.ra = True),\n",
    "                         Blues_loudness = mean(loudness, na.ra = True),\n",
    "                         Blues_speechiness = mean(speechiness, na.ra = True),\n",
    "                         Blues_tempo = mean(tempo, na.ra = True),\n",
    "                         Blues_valence = mean(valence, na.ra = True))\n",
    "Blues\n",
    "\n",
    "Rock <- data_train %>%\n",
    "                filter(music_genre == \"Rock\") %>%\n",
    "                group_by(music_genre) %>%\n",
    "                summarize(Rock_popularity = mean(popularity, na.ra = True),\n",
    "                         Rock_acousticness = mean(acousticness, na.ra = True),\n",
    "                         Rock_danceability = mean(danceability, na.ra = True),\n",
    "                         Rock_duration_ms = mean(duration_ms, na.ra = True),\n",
    "                         Rock_energy = mean(energy, na.ra = True),\n",
    "                         Rock_instrumentalness = mean(instrumentalness, na.ra = True),\n",
    "                         Rock_liveness = mean(liveness, na.ra = True),\n",
    "                         Rock_loudness = mean(loudness, na.ra = True),\n",
    "                         Rock_speechiness = mean(speechiness, na.ra = True),\n",
    "                         Rock_tempo = mean(tempo, na.ra = True),\n",
    "                         Rock_valence = mean(valence, na.ra = True))\n",
    "Rock\n",
    "\n",
    "Classical <- data_train %>%\n",
    "                filter(music_genre == \"Classical\") %>%\n",
    "                group_by(music_genre) %>%\n",
    "                summarize(Classical_popularity = mean(popularity, na.ra = True),\n",
    "                         Classical_acousticness = mean(acousticness, na.ra = True),\n",
    "                         Classical_danceability = mean(danceability, na.ra = True),\n",
    "                         Classical_duration_ms = mean(duration_ms, na.ra = True),\n",
    "                         Classical_energy = mean(energy, na.ra = True),\n",
    "                         Classical_instrumentalness = mean(instrumentalness, na.ra = True),\n",
    "                         Classical_liveness = mean(liveness, na.ra = True),\n",
    "                         Classical_loudness = mean(loudness, na.ra = True),\n",
    "                         Classical_speechiness = mean(speechiness, na.ra = True),\n",
    "                         Classical_tempo = mean(tempo, na.ra = True),\n",
    "                         Classical_valence = mean(valence, na.ra = True))\n",
    "Classical\n",
    "\n",
    "Hip_Hop <- data_train %>%\n",
    "                filter(music_genre == \"Hip-Hop\") %>%\n",
    "                group_by(music_genre) %>%\n",
    "                summarize(Hip_Hop_popularity = mean(popularity, na.ra = True),\n",
    "                         Hip_Hop_acousticness = mean(acousticness, na.ra = True),\n",
    "                         Hip_Hop_danceability = mean(danceability, na.ra = True),\n",
    "                         Hip_Hop_duration_ms = mean(duration_ms, na.ra = True),\n",
    "                         Hip_Hop_energy = mean(energy, na.ra = True),\n",
    "                         Hip_Hop_instrumentalness = mean(instrumentalness, na.ra = True),\n",
    "                         Hip_Hop_liveness = mean(liveness, na.ra = True),\n",
    "                         Hip_Hop_loudness = mean(loudness, na.ra = True),\n",
    "                         Hip_Hop_speechiness = mean(speechiness, na.ra = True),\n",
    "                         Hip_Hop_tempo = mean(tempo, na.ra = True),\n",
    "                         Hip_Hop_valence = mean(valence, na.ra = True))\n",
    "Hip_Hop"
   ]
  },
  {
   "cell_type": "code",
   "execution_count": 7,
   "metadata": {},
   "outputs": [
    {
     "data": {
      "image/png": "[encoded data removed]",
      "text/plain": [
       "plot without title"
      ]
     },
     "metadata": {
      "image/png": {
       "height": 300,
       "width": 360
      }
     },
     "output_type": "display_data"
    }
   ],
   "source": [
    "# proportion of music genre by mode(major, minor)\n",
    "mode_proportion_plot <- data_train %>%\n",
    "ggplot(aes(x = mode, fill = music_genre))+\n",
    "geom_bar(position = \"fill\")+\n",
    "labs(x = \"Mode\", y = \"Proportion of music genre\", fill = \"music genre\") +\n",
    "ggtitle(\"Proportion of music genre by mode(major, minor)\")\n",
    "mode_proportion_plot"
   ]
  },
  {
   "cell_type": "code",
   "execution_count": 11,
   "metadata": {},
   "outputs": [
    {
     "name": "stderr",
     "output_type": "stream",
     "text": [
      "\u001b[31mx\u001b[39m \u001b[31mFold2: model 1/1 (predictions): Error: Problem with `mutate()` input `.row`.\n",
      "\u001b[...\u001b[39m\n",
      "\n",
      "\u001b[31mx\u001b[39m \u001b[31mFold3: model 1/1 (predictions): Error: Problem with `mutate()` input `.row`.\n",
      "\u001b[...\u001b[39m\n",
      "\n"
     ]
    },
    {
     "data": {
      "image/png": "[encoded data removed]",
      "text/plain": [
       "plot without title"
      ]
     },
     "metadata": {
      "image/png": {
       "height": 300,
       "width": 360
      }
     },
     "output_type": "display_data"
    }
   ],
   "source": [
    "### Scale dataset\n",
    "set.seed(1234) \n",
    "\n",
    "#find the best k\n",
    "\n",
    "options(repr.plot.height = 5, repr.plot.width = 6)\n",
    "\n",
    "data_recipe <- recipe(music_genre ~ popularity + acousticness + danceability + duration_ms + energy + instrumentalness + liveness + loudness + speechiness + valence , data = data_train)\n",
    "\n",
    "\n",
    "genre_vfold <- vfold_cv(data_train, v = 3, strata = music_genre)\n",
    "\n",
    "\n",
    "data_spec <- nearest_neighbor(weight_func = \"rectangular\", neighbors = tune()) %>%\n",
    "      set_engine(\"kknn\") %>%\n",
    "      set_mode(\"classification\")\n",
    "\n",
    "\n",
    "data_results <- workflow() %>%\n",
    "      add_recipe(data_recipe) %>%\n",
    "      add_model(data_spec) %>%\n",
    "      tune_grid(resamples = genre_vfold, grid = 10) %>%\n",
    "      collect_metrics()\n",
    "\n",
    "accuracies <- data_results %>%\n",
    "      filter(.metric == \"accuracy\")\n",
    "\n",
    "cross_val_plot <- accuracies %>%\n",
    "ggplot(aes(x = neighbors, y = mean))+\n",
    "      geom_point() +\n",
    "      geom_line() +\n",
    "      labs(x = \"Neighbors\", y = \"Accuracy Estimate\") +\n",
    "      scale_x_continuous(breaks = seq(0, 15, by = 1)) +  # adjusting the x-axis\n",
    "      scale_y_continuous(limits = c(0.0, 0.6)) # adjusting the y-axis\n",
    "cross_val_plot\n",
    "\n"
   ]
  },
  {
   "cell_type": "code",
   "execution_count": null,
   "metadata": {},
   "outputs": [],
   "source": [
    "# Set the seed. \n",
    "set.seed(9999) \n",
    "# build model\n",
    "data_spec <- nearest_neighbor(weight_func = \"rectangular\", neighbors = 14) %>%\n",
    "       set_engine(\"kknn\") %>%\n",
    "       set_mode(\"classification\")\n",
    "data_spec\n",
    "\n",
    "data_fit <- workflow() %>%\n",
    "       add_recipe(data_recipe) %>%\n",
    "       add_model(data_spec) %>%\n",
    "       fit(data = data_train)\n",
    "data_fit"
   ]
  },
  {
   "cell_type": "code",
   "execution_count": null,
   "metadata": {},
   "outputs": [],
   "source": [
    "#predictions\n",
    "data_predictions <- predict(data_fit , data_test) %>%\n",
    "      bind_cols(data_test)\n",
    "data_predictions\n",
    "\n",
    "data_metrics <- data_predictions %>%\n",
    "       metrics(truth = music_genre, estimate = .pred_class)\n",
    "data_metrics\n",
    "\n",
    "data_conf_mat<- data_predictions %>%\n",
    "       conf_mat(truth = music_genre, estimate = .pred_class) \n",
    "data_conf_mat"
   ]
  },
  {
   "cell_type": "code",
   "execution_count": 13,
   "metadata": {},
   "outputs": [
    {
     "ename": "ERROR",
     "evalue": "Error in sort.int(x, na.last = na.last, decreasing = decreasing, ...): 'x' must be atomic\n",
     "output_type": "error",
     "traceback": [
      "Error in sort.int(x, na.last = na.last, decreasing = decreasing, ...): 'x' must be atomic\nTraceback:\n",
      "1. data_spec %>% fit(music_genre ~ popularity + acousticness + danceability + \n .     duration_ms + energy + instrumentalness + liveness + loudness + \n .     speechiness + valence, data = data_train)",
      "2. withVisible(eval(quote(`_fseq`(`_lhs`)), env, env))",
      "3. eval(quote(`_fseq`(`_lhs`)), env, env)",
      "4. eval(quote(`_fseq`(`_lhs`)), env, env)",
      "5. `_fseq`(`_lhs`)",
      "6. freduce(value, `_function_list`)",
      "7. withVisible(function_list[[k]](value))",
      "8. function_list[[k]](value)",
      "9. fit(., music_genre ~ popularity + acousticness + danceability + \n .     duration_ms + energy + instrumentalness + liveness + loudness + \n .     speechiness + valence, data = data_train)",
      "10. fit.model_spec(., music_genre ~ popularity + acousticness + danceability + \n  .     duration_ms + energy + instrumentalness + liveness + loudness + \n  .     speechiness + valence, data = data_train)",
      "11. form_form(object = object, control = control, env = eval_env)",
      "12. system.time(res$fit <- eval_mod(fit_call, capture = control$verbosity == \n  .     0, catch = control$catch, env = env, ...))",
      "13. eval_mod(fit_call, capture = control$verbosity == 0, catch = control$catch, \n  .     env = env, ...)",
      "14. eval_tidy(e, ...)",
      "15. kknn::train.kknn(formula = music_genre ~ popularity + acousticness + \n  .     danceability + duration_ms + energy + instrumentalness + \n  .     liveness + loudness + speechiness + valence, data = data, \n  .     ks = ~tune(), kernel = ~\"rectangular\")",
      "16. sort(ks)",
      "17. sort.default(ks)",
      "18. sort.int(x, na.last = na.last, decreasing = decreasing, ...)",
      "19. stop(\"'x' must be atomic\")"
     ]
    },
    {
     "name": "stderr",
     "output_type": "stream",
     "text": [
      "Timing stopped at: 0.006 0 0.006\n",
      "\n"
     ]
    }
   ],
   "source": [
    "# test 1\n",
    "knn_fit <- data_spec %>% fit(music_genre ~ popularity + acousticness + danceability + duration_ms + energy + instrumentalness + liveness + loudness + speechiness + valence , data = data_train)\n",
    "new_obs_1 <- tibble(popularity = 33, acousticness = 0.927, danceability = 0.351, duration_ms = 282067, energy = 0.0964, instrumentalness = 0.899, liveness = 0.509, loudness = -20.044, speechiness = 0.0436, valence = 0.246)\n",
    "class_prediction_1 <-  predict(knn_fit, new_obs_1)\n",
    "\n"
   ]
  },
  {
   "cell_type": "code",
   "execution_count": 14,
   "metadata": {},
   "outputs": [
    {
     "ename": "ERROR",
     "evalue": "Error in predict(knn_fit, new_obs_2): object 'knn_fit' not found\n",
     "output_type": "error",
     "traceback": [
      "Error in predict(knn_fit, new_obs_2): object 'knn_fit' not found\nTraceback:\n",
      "1. predict(knn_fit, new_obs_2)"
     ]
    }
   ],
   "source": [
    "# test 2\n",
    "new_obs_2 <- tibble(popularity = 50, acousticness = 0.0145, danceability = 0.567, duration_ms = 268333, energy = 0.3, instrumentalness = 0, liveness = 0.0687, loudness = -8.421, speechiness = 0.0291, valence = 0.196)\n",
    "class_prediction_2 <-  predict(knn_fit, new_obs_2)\n"
   ]
  },
  {
   "cell_type": "code",
   "execution_count": 15,
   "metadata": {},
   "outputs": [
    {
     "ename": "ERROR",
     "evalue": "Error in predict(knn_fit, new_obs_3): object 'knn_fit' not found\n",
     "output_type": "error",
     "traceback": [
      "Error in predict(knn_fit, new_obs_3): object 'knn_fit' not found\nTraceback:\n",
      "1. predict(knn_fit, new_obs_3)"
     ]
    }
   ],
   "source": [
    "# test 3\n",
    "new_obs_2 <- tibble(popularity = 51, acousticness = 0.0341, danceability = 0.634, duration_ms = 248107, energy = 0.716, instrumentalness = 0, liveness = 0.0877, loudness = -6.502, speechiness = 0.128, valence = 0.619)\n",
    "class_prediction_3 <-  predict(knn_fit, new_obs_3)\n"
   ]
  },
  {
   "cell_type": "code",
   "execution_count": null,
   "metadata": {},
   "outputs": [],
   "source": []
  }
 ],
 "metadata": {
  "kernelspec": {
   "display_name": "R",
   "language": "R",
   "name": "ir"
  },
  "language_info": {
   "codemirror_mode": "r",
   "file_extension": ".r",
   "mimetype": "text/x-r-source",
   "name": "R",
   "pygments_lexer": "r",
   "version": "4.0.0"
  }
 },
 "nbformat": 4,
 "nbformat_minor": 4
}
