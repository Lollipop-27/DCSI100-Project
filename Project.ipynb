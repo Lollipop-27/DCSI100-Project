{
 "cells": [
  {
   "cell_type": "markdown",
   "metadata": {},
   "source": [
    "### Methods & Results:"
   ]
  },
  {
   "cell_type": "code",
   "execution_count": 1,
   "metadata": {},
   "outputs": [
    {
     "name": "stderr",
     "output_type": "stream",
     "text": [
      "── \u001b[1mAttaching packages\u001b[22m ─────────────────────────────────────── tidyverse 1.3.0 ──\n",
      "\n",
      "\u001b[32m✔\u001b[39m \u001b[34mggplot2\u001b[39m 3.3.2     \u001b[32m✔\u001b[39m \u001b[34mpurrr  \u001b[39m 0.3.4\n",
      "\u001b[32m✔\u001b[39m \u001b[34mtibble \u001b[39m 3.0.3     \u001b[32m✔\u001b[39m \u001b[34mdplyr  \u001b[39m 1.0.2\n",
      "\u001b[32m✔\u001b[39m \u001b[34mtidyr  \u001b[39m 1.1.2     \u001b[32m✔\u001b[39m \u001b[34mstringr\u001b[39m 1.4.0\n",
      "\u001b[32m✔\u001b[39m \u001b[34mreadr  \u001b[39m 1.3.1     \u001b[32m✔\u001b[39m \u001b[34mforcats\u001b[39m 0.5.0\n",
      "\n",
      "Warning message:\n",
      "“package ‘ggplot2’ was built under R version 4.0.1”\n",
      "Warning message:\n",
      "“package ‘tibble’ was built under R version 4.0.2”\n",
      "Warning message:\n",
      "“package ‘tidyr’ was built under R version 4.0.2”\n",
      "Warning message:\n",
      "“package ‘dplyr’ was built under R version 4.0.2”\n",
      "── \u001b[1mConflicts\u001b[22m ────────────────────────────────────────── tidyverse_conflicts() ──\n",
      "\u001b[31m✖\u001b[39m \u001b[34mdplyr\u001b[39m::\u001b[32mfilter()\u001b[39m masks \u001b[34mstats\u001b[39m::filter()\n",
      "\u001b[31m✖\u001b[39m \u001b[34mdplyr\u001b[39m::\u001b[32mlag()\u001b[39m    masks \u001b[34mstats\u001b[39m::lag()\n",
      "\n",
      "Warning message:\n",
      "“package ‘tidymodels’ was built under R version 4.0.2”\n",
      "── \u001b[1mAttaching packages\u001b[22m ────────────────────────────────────── tidymodels 0.1.1 ──\n",
      "\n",
      "\u001b[32m✔\u001b[39m \u001b[34mbroom    \u001b[39m 0.7.0      \u001b[32m✔\u001b[39m \u001b[34mrecipes  \u001b[39m 0.1.13\n",
      "\u001b[32m✔\u001b[39m \u001b[34mdials    \u001b[39m 0.0.9      \u001b[32m✔\u001b[39m \u001b[34mrsample  \u001b[39m 0.0.7 \n",
      "\u001b[32m✔\u001b[39m \u001b[34minfer    \u001b[39m 0.5.4      \u001b[32m✔\u001b[39m \u001b[34mtune     \u001b[39m 0.1.1 \n",
      "\u001b[32m✔\u001b[39m \u001b[34mmodeldata\u001b[39m 0.0.2      \u001b[32m✔\u001b[39m \u001b[34mworkflows\u001b[39m 0.2.0 \n",
      "\u001b[32m✔\u001b[39m \u001b[34mparsnip  \u001b[39m 0.1.3      \u001b[32m✔\u001b[39m \u001b[34myardstick\u001b[39m 0.0.7 \n",
      "\n",
      "Warning message:\n",
      "“package ‘broom’ was built under R version 4.0.2”\n",
      "Warning message:\n",
      "“package ‘dials’ was built under R version 4.0.2”\n",
      "Warning message:\n",
      "“package ‘infer’ was built under R version 4.0.3”\n",
      "Warning message:\n",
      "“package ‘modeldata’ was built under R version 4.0.1”\n",
      "Warning message:\n",
      "“package ‘parsnip’ was built under R version 4.0.2”\n",
      "Warning message:\n",
      "“package ‘recipes’ was built under R version 4.0.1”\n",
      "Warning message:\n",
      "“package ‘tune’ was built under R version 4.0.2”\n",
      "Warning message:\n",
      "“package ‘workflows’ was built under R version 4.0.2”\n",
      "Warning message:\n",
      "“package ‘yardstick’ was built under R version 4.0.2”\n",
      "── \u001b[1mConflicts\u001b[22m ───────────────────────────────────────── tidymodels_conflicts() ──\n",
      "\u001b[31m✖\u001b[39m \u001b[34mscales\u001b[39m::\u001b[32mdiscard()\u001b[39m masks \u001b[34mpurrr\u001b[39m::discard()\n",
      "\u001b[31m✖\u001b[39m \u001b[34mdplyr\u001b[39m::\u001b[32mfilter()\u001b[39m   masks \u001b[34mstats\u001b[39m::filter()\n",
      "\u001b[31m✖\u001b[39m \u001b[34mrecipes\u001b[39m::\u001b[32mfixed()\u001b[39m  masks \u001b[34mstringr\u001b[39m::fixed()\n",
      "\u001b[31m✖\u001b[39m \u001b[34mdplyr\u001b[39m::\u001b[32mlag()\u001b[39m      masks \u001b[34mstats\u001b[39m::lag()\n",
      "\u001b[31m✖\u001b[39m \u001b[34myardstick\u001b[39m::\u001b[32mspec()\u001b[39m masks \u001b[34mreadr\u001b[39m::spec()\n",
      "\u001b[31m✖\u001b[39m \u001b[34mrecipes\u001b[39m::\u001b[32mstep()\u001b[39m   masks \u001b[34mstats\u001b[39m::step()\n",
      "\n",
      "Warning message in file(filename, \"r\", encoding = encoding):\n",
      "“cannot open file 'tests.R': No such file or directory”\n"
     ]
    },
    {
     "ename": "ERROR",
     "evalue": "Error in file(filename, \"r\", encoding = encoding): cannot open the connection\n",
     "output_type": "error",
     "traceback": [
      "Error in file(filename, \"r\", encoding = encoding): cannot open the connection\nTraceback:\n",
      "1. source(\"tests.R\")",
      "2. file(filename, \"r\", encoding = encoding)"
     ]
    }
   ],
   "source": [
    "### Loading Libraries into R\n",
    "library(tidyverse)\n",
    "library(repr)\n",
    "library(tidymodels)\n",
    "options(repr.matrix.max.rows = 6)\n",
    "source('tests.R')\n",
    "source('cleanup.R')"
   ]
  },
  {
   "cell_type": "code",
   "execution_count": 12,
   "metadata": {},
   "outputs": [
    {
     "name": "stderr",
     "output_type": "stream",
     "text": [
      "Parsed with column specification:\n",
      "cols(\n",
      "  instance_id = \u001b[32mcol_double()\u001b[39m,\n",
      "  artist_name = \u001b[31mcol_character()\u001b[39m,\n",
      "  track_name = \u001b[31mcol_character()\u001b[39m,\n",
      "  popularity = \u001b[32mcol_double()\u001b[39m,\n",
      "  acousticness = \u001b[32mcol_double()\u001b[39m,\n",
      "  danceability = \u001b[32mcol_double()\u001b[39m,\n",
      "  duration_ms = \u001b[32mcol_double()\u001b[39m,\n",
      "  energy = \u001b[32mcol_double()\u001b[39m,\n",
      "  instrumentalness = \u001b[32mcol_double()\u001b[39m,\n",
      "  key = \u001b[31mcol_character()\u001b[39m,\n",
      "  liveness = \u001b[32mcol_double()\u001b[39m,\n",
      "  loudness = \u001b[32mcol_double()\u001b[39m,\n",
      "  mode = \u001b[31mcol_character()\u001b[39m,\n",
      "  speechiness = \u001b[32mcol_double()\u001b[39m,\n",
      "  tempo = \u001b[31mcol_character()\u001b[39m,\n",
      "  obtained_date = \u001b[31mcol_character()\u001b[39m,\n",
      "  valence = \u001b[32mcol_double()\u001b[39m,\n",
      "  music_genre = \u001b[31mcol_character()\u001b[39m\n",
      ")\n",
      "\n"
     ]
    },
    {
     "data": {
      "text/html": [
       "<table>\n",
       "<caption>A spec_tbl_df: 50002 × 18</caption>\n",
       "<thead>\n",
       "\t<tr><th scope=col>instance_id</th><th scope=col>artist_name</th><th scope=col>track_name</th><th scope=col>popularity</th><th scope=col>acousticness</th><th scope=col>danceability</th><th scope=col>duration_ms</th><th scope=col>energy</th><th scope=col>instrumentalness</th><th scope=col>key</th><th scope=col>liveness</th><th scope=col>loudness</th><th scope=col>mode</th><th scope=col>speechiness</th><th scope=col>tempo</th><th scope=col>obtained_date</th><th scope=col>valence</th><th scope=col>music_genre</th></tr>\n",
       "\t<tr><th scope=col>&lt;dbl&gt;</th><th scope=col>&lt;chr&gt;</th><th scope=col>&lt;chr&gt;</th><th scope=col>&lt;dbl&gt;</th><th scope=col>&lt;dbl&gt;</th><th scope=col>&lt;dbl&gt;</th><th scope=col>&lt;dbl&gt;</th><th scope=col>&lt;dbl&gt;</th><th scope=col>&lt;dbl&gt;</th><th scope=col>&lt;chr&gt;</th><th scope=col>&lt;dbl&gt;</th><th scope=col>&lt;dbl&gt;</th><th scope=col>&lt;chr&gt;</th><th scope=col>&lt;dbl&gt;</th><th scope=col>&lt;chr&gt;</th><th scope=col>&lt;chr&gt;</th><th scope=col>&lt;dbl&gt;</th><th scope=col>&lt;chr&gt;</th></tr>\n",
       "</thead>\n",
       "<tbody>\n",
       "\t<tr><td>32894</td><td>Röyksopp            </td><td>Röyksopp's Night Out</td><td>27</td><td>0.00468</td><td>0.652</td><td>    -1</td><td>0.941</td><td>0.7920</td><td>A#</td><td>0.115</td><td>-5.201</td><td>Minor</td><td>0.0748</td><td>100.889</td><td>04-Apr</td><td>0.759</td><td>Electronic</td></tr>\n",
       "\t<tr><td>46652</td><td>Thievery Corporation</td><td>The Shining Path    </td><td>31</td><td>0.01270</td><td>0.622</td><td>218293</td><td>0.890</td><td>0.9500</td><td>D </td><td>0.124</td><td>-7.043</td><td>Minor</td><td>0.0300</td><td>115.002</td><td>04-Apr</td><td>0.531</td><td>Electronic</td></tr>\n",
       "\t<tr><td>30097</td><td>Dillon Francis      </td><td>Hurricane           </td><td>28</td><td>0.00306</td><td>0.620</td><td>215613</td><td>0.755</td><td>0.0118</td><td>G#</td><td>0.534</td><td>-4.617</td><td>Major</td><td>0.0345</td><td>127.994</td><td>04-Apr</td><td>0.333</td><td>Electronic</td></tr>\n",
       "\t<tr><td>⋮</td><td>⋮</td><td>⋮</td><td>⋮</td><td>⋮</td><td>⋮</td><td>⋮</td><td>⋮</td><td>⋮</td><td>⋮</td><td>⋮</td><td>⋮</td><td>⋮</td><td>⋮</td><td>⋮</td><td>⋮</td><td>⋮</td><td>⋮</td></tr>\n",
       "\t<tr><td>39767</td><td>Berner           </td><td>Lovin' Me (feat. Smiggz)</td><td>51</td><td>0.00597</td><td>0.693</td><td>189483</td><td>0.763</td><td>0</td><td>D </td><td>0.143</td><td> -5.443</td><td>Major</td><td>0.1460</td><td>131.079</td><td>04-Apr</td><td>0.395</td><td>Hip-Hop</td></tr>\n",
       "\t<tr><td>57944</td><td>The-Dream        </td><td>Shawty Is Da Shit       </td><td>65</td><td>0.08310</td><td>0.782</td><td>262773</td><td>0.472</td><td>0</td><td>G </td><td>0.106</td><td> -5.016</td><td>Minor</td><td>0.0441</td><td>75.886 </td><td>04-Apr</td><td>0.354</td><td>Hip-Hop</td></tr>\n",
       "\t<tr><td>63470</td><td>Naughty By Nature</td><td>Hip Hop Hooray          </td><td>67</td><td>0.10200</td><td>0.862</td><td>267267</td><td>0.642</td><td>0</td><td>F#</td><td>0.272</td><td>-13.652</td><td>Minor</td><td>0.1010</td><td>99.201 </td><td>04-Apr</td><td>0.765</td><td>Hip-Hop</td></tr>\n",
       "</tbody>\n",
       "</table>\n"
      ],
      "text/latex": [
       "A spec\\_tbl\\_df: 50002 × 18\n",
       "\\begin{tabular}{llllllllllllllllll}\n",
       " instance\\_id & artist\\_name & track\\_name & popularity & acousticness & danceability & duration\\_ms & energy & instrumentalness & key & liveness & loudness & mode & speechiness & tempo & obtained\\_date & valence & music\\_genre\\\\\n",
       " <dbl> & <chr> & <chr> & <dbl> & <dbl> & <dbl> & <dbl> & <dbl> & <dbl> & <chr> & <dbl> & <dbl> & <chr> & <dbl> & <chr> & <chr> & <dbl> & <chr>\\\\\n",
       "\\hline\n",
       "\t 32894 & Röyksopp             & Röyksopp's Night Out & 27 & 0.00468 & 0.652 &     -1 & 0.941 & 0.7920 & A\\# & 0.115 & -5.201 & Minor & 0.0748 & 100.889 & 04-Apr & 0.759 & Electronic\\\\\n",
       "\t 46652 & Thievery Corporation & The Shining Path     & 31 & 0.01270 & 0.622 & 218293 & 0.890 & 0.9500 & D  & 0.124 & -7.043 & Minor & 0.0300 & 115.002 & 04-Apr & 0.531 & Electronic\\\\\n",
       "\t 30097 & Dillon Francis       & Hurricane            & 28 & 0.00306 & 0.620 & 215613 & 0.755 & 0.0118 & G\\# & 0.534 & -4.617 & Major & 0.0345 & 127.994 & 04-Apr & 0.333 & Electronic\\\\\n",
       "\t ⋮ & ⋮ & ⋮ & ⋮ & ⋮ & ⋮ & ⋮ & ⋮ & ⋮ & ⋮ & ⋮ & ⋮ & ⋮ & ⋮ & ⋮ & ⋮ & ⋮ & ⋮\\\\\n",
       "\t 39767 & Berner            & Lovin' Me (feat. Smiggz) & 51 & 0.00597 & 0.693 & 189483 & 0.763 & 0 & D  & 0.143 &  -5.443 & Major & 0.1460 & 131.079 & 04-Apr & 0.395 & Hip-Hop\\\\\n",
       "\t 57944 & The-Dream         & Shawty Is Da Shit        & 65 & 0.08310 & 0.782 & 262773 & 0.472 & 0 & G  & 0.106 &  -5.016 & Minor & 0.0441 & 75.886  & 04-Apr & 0.354 & Hip-Hop\\\\\n",
       "\t 63470 & Naughty By Nature & Hip Hop Hooray           & 67 & 0.10200 & 0.862 & 267267 & 0.642 & 0 & F\\# & 0.272 & -13.652 & Minor & 0.1010 & 99.201  & 04-Apr & 0.765 & Hip-Hop\\\\\n",
       "\\end{tabular}\n"
      ],
      "text/markdown": [
       "\n",
       "A spec_tbl_df: 50002 × 18\n",
       "\n",
       "| instance_id &lt;dbl&gt; | artist_name &lt;chr&gt; | track_name &lt;chr&gt; | popularity &lt;dbl&gt; | acousticness &lt;dbl&gt; | danceability &lt;dbl&gt; | duration_ms &lt;dbl&gt; | energy &lt;dbl&gt; | instrumentalness &lt;dbl&gt; | key &lt;chr&gt; | liveness &lt;dbl&gt; | loudness &lt;dbl&gt; | mode &lt;chr&gt; | speechiness &lt;dbl&gt; | tempo &lt;chr&gt; | obtained_date &lt;chr&gt; | valence &lt;dbl&gt; | music_genre &lt;chr&gt; |\n",
       "|---|---|---|---|---|---|---|---|---|---|---|---|---|---|---|---|---|---|\n",
       "| 32894 | Röyksopp             | Röyksopp's Night Out | 27 | 0.00468 | 0.652 |     -1 | 0.941 | 0.7920 | A# | 0.115 | -5.201 | Minor | 0.0748 | 100.889 | 04-Apr | 0.759 | Electronic |\n",
       "| 46652 | Thievery Corporation | The Shining Path     | 31 | 0.01270 | 0.622 | 218293 | 0.890 | 0.9500 | D  | 0.124 | -7.043 | Minor | 0.0300 | 115.002 | 04-Apr | 0.531 | Electronic |\n",
       "| 30097 | Dillon Francis       | Hurricane            | 28 | 0.00306 | 0.620 | 215613 | 0.755 | 0.0118 | G# | 0.534 | -4.617 | Major | 0.0345 | 127.994 | 04-Apr | 0.333 | Electronic |\n",
       "| ⋮ | ⋮ | ⋮ | ⋮ | ⋮ | ⋮ | ⋮ | ⋮ | ⋮ | ⋮ | ⋮ | ⋮ | ⋮ | ⋮ | ⋮ | ⋮ | ⋮ | ⋮ |\n",
       "| 39767 | Berner            | Lovin' Me (feat. Smiggz) | 51 | 0.00597 | 0.693 | 189483 | 0.763 | 0 | D  | 0.143 |  -5.443 | Major | 0.1460 | 131.079 | 04-Apr | 0.395 | Hip-Hop |\n",
       "| 57944 | The-Dream         | Shawty Is Da Shit        | 65 | 0.08310 | 0.782 | 262773 | 0.472 | 0 | G  | 0.106 |  -5.016 | Minor | 0.0441 | 75.886  | 04-Apr | 0.354 | Hip-Hop |\n",
       "| 63470 | Naughty By Nature | Hip Hop Hooray           | 67 | 0.10200 | 0.862 | 267267 | 0.642 | 0 | F# | 0.272 | -13.652 | Minor | 0.1010 | 99.201  | 04-Apr | 0.765 | Hip-Hop |\n",
       "\n"
      ],
      "text/plain": [
       "      instance_id artist_name          track_name               popularity\n",
       "1     32894       Röyksopp             Röyksopp's Night Out     27        \n",
       "2     46652       Thievery Corporation The Shining Path         31        \n",
       "3     30097       Dillon Francis       Hurricane                28        \n",
       "⋮     ⋮           ⋮                    ⋮                        ⋮         \n",
       "50000 39767       Berner               Lovin' Me (feat. Smiggz) 51        \n",
       "50001 57944       The-Dream            Shawty Is Da Shit        65        \n",
       "50002 63470       Naughty By Nature    Hip Hop Hooray           67        \n",
       "      acousticness danceability duration_ms energy instrumentalness key\n",
       "1     0.00468      0.652            -1      0.941  0.7920           A# \n",
       "2     0.01270      0.622        218293      0.890  0.9500           D  \n",
       "3     0.00306      0.620        215613      0.755  0.0118           G# \n",
       "⋮     ⋮            ⋮            ⋮           ⋮      ⋮                ⋮  \n",
       "50000 0.00597      0.693        189483      0.763  0                D  \n",
       "50001 0.08310      0.782        262773      0.472  0                G  \n",
       "50002 0.10200      0.862        267267      0.642  0                F# \n",
       "      liveness loudness mode  speechiness tempo   obtained_date valence\n",
       "1     0.115    -5.201   Minor 0.0748      100.889 04-Apr        0.759  \n",
       "2     0.124    -7.043   Minor 0.0300      115.002 04-Apr        0.531  \n",
       "3     0.534    -4.617   Major 0.0345      127.994 04-Apr        0.333  \n",
       "⋮     ⋮        ⋮        ⋮     ⋮           ⋮       ⋮             ⋮      \n",
       "50000 0.143     -5.443  Major 0.1460      131.079 04-Apr        0.395  \n",
       "50001 0.106     -5.016  Minor 0.0441      75.886  04-Apr        0.354  \n",
       "50002 0.272    -13.652  Minor 0.1010      99.201  04-Apr        0.765  \n",
       "      music_genre\n",
       "1     Electronic \n",
       "2     Electronic \n",
       "3     Electronic \n",
       "⋮     ⋮          \n",
       "50000 Hip-Hop    \n",
       "50001 Hip-Hop    \n",
       "50002 Hip-Hop    "
      ]
     },
     "metadata": {},
     "output_type": "display_data"
    }
   ],
   "source": [
    "### data is read from online\n",
    "data <- read_csv(file = \"data/music_genre.csv\")\n",
    "data"
   ]
  },
  {
   "cell_type": "code",
   "execution_count": 13,
   "metadata": {},
   "outputs": [
    {
     "name": "stderr",
     "output_type": "stream",
     "text": [
      "Warning message:\n",
      "“Problem with `mutate()` input `tempo`.\n",
      "\u001b[34mℹ\u001b[39m NAs introduced by coercion\n",
      "\u001b[34mℹ\u001b[39m Input `tempo` is `as.double(tempo)`.”\n",
      "Warning message in mask$eval_all_mutate(dots[[i]]):\n",
      "“NAs introduced by coercion”\n"
     ]
    },
    {
     "data": {
      "text/html": [
       "<table>\n",
       "<caption>A tibble: 50002 × 15</caption>\n",
       "<thead>\n",
       "\t<tr><th scope=col>artist_name</th><th scope=col>track_name</th><th scope=col>popularity</th><th scope=col>acousticness</th><th scope=col>danceability</th><th scope=col>duration_ms</th><th scope=col>energy</th><th scope=col>instrumentalness</th><th scope=col>liveness</th><th scope=col>loudness</th><th scope=col>mode</th><th scope=col>speechiness</th><th scope=col>tempo</th><th scope=col>valence</th><th scope=col>music_genre</th></tr>\n",
       "\t<tr><th scope=col>&lt;chr&gt;</th><th scope=col>&lt;chr&gt;</th><th scope=col>&lt;dbl&gt;</th><th scope=col>&lt;dbl&gt;</th><th scope=col>&lt;dbl&gt;</th><th scope=col>&lt;dbl&gt;</th><th scope=col>&lt;dbl&gt;</th><th scope=col>&lt;dbl&gt;</th><th scope=col>&lt;dbl&gt;</th><th scope=col>&lt;dbl&gt;</th><th scope=col>&lt;fct&gt;</th><th scope=col>&lt;dbl&gt;</th><th scope=col>&lt;dbl&gt;</th><th scope=col>&lt;dbl&gt;</th><th scope=col>&lt;fct&gt;</th></tr>\n",
       "</thead>\n",
       "<tbody>\n",
       "\t<tr><td>Röyksopp            </td><td>Röyksopp's Night Out</td><td>27</td><td>0.00468</td><td>0.652</td><td>    -1</td><td>0.941</td><td>0.7920</td><td>0.115</td><td>-5.201</td><td>Minor</td><td>0.0748</td><td>100.889</td><td>0.759</td><td>Electronic</td></tr>\n",
       "\t<tr><td>Thievery Corporation</td><td>The Shining Path    </td><td>31</td><td>0.01270</td><td>0.622</td><td>218293</td><td>0.890</td><td>0.9500</td><td>0.124</td><td>-7.043</td><td>Minor</td><td>0.0300</td><td>115.002</td><td>0.531</td><td>Electronic</td></tr>\n",
       "\t<tr><td>Dillon Francis      </td><td>Hurricane           </td><td>28</td><td>0.00306</td><td>0.620</td><td>215613</td><td>0.755</td><td>0.0118</td><td>0.534</td><td>-4.617</td><td>Major</td><td>0.0345</td><td>127.994</td><td>0.333</td><td>Electronic</td></tr>\n",
       "\t<tr><td>⋮</td><td>⋮</td><td>⋮</td><td>⋮</td><td>⋮</td><td>⋮</td><td>⋮</td><td>⋮</td><td>⋮</td><td>⋮</td><td>⋮</td><td>⋮</td><td>⋮</td><td>⋮</td><td>⋮</td></tr>\n",
       "\t<tr><td>Berner           </td><td>Lovin' Me (feat. Smiggz)</td><td>51</td><td>0.00597</td><td>0.693</td><td>189483</td><td>0.763</td><td>0</td><td>0.143</td><td> -5.443</td><td>Major</td><td>0.1460</td><td>131.079</td><td>0.395</td><td>Hip-Hop</td></tr>\n",
       "\t<tr><td>The-Dream        </td><td>Shawty Is Da Shit       </td><td>65</td><td>0.08310</td><td>0.782</td><td>262773</td><td>0.472</td><td>0</td><td>0.106</td><td> -5.016</td><td>Minor</td><td>0.0441</td><td> 75.886</td><td>0.354</td><td>Hip-Hop</td></tr>\n",
       "\t<tr><td>Naughty By Nature</td><td>Hip Hop Hooray          </td><td>67</td><td>0.10200</td><td>0.862</td><td>267267</td><td>0.642</td><td>0</td><td>0.272</td><td>-13.652</td><td>Minor</td><td>0.1010</td><td> 99.201</td><td>0.765</td><td>Hip-Hop</td></tr>\n",
       "</tbody>\n",
       "</table>\n"
      ],
      "text/latex": [
       "A tibble: 50002 × 15\n",
       "\\begin{tabular}{lllllllllllllll}\n",
       " artist\\_name & track\\_name & popularity & acousticness & danceability & duration\\_ms & energy & instrumentalness & liveness & loudness & mode & speechiness & tempo & valence & music\\_genre\\\\\n",
       " <chr> & <chr> & <dbl> & <dbl> & <dbl> & <dbl> & <dbl> & <dbl> & <dbl> & <dbl> & <fct> & <dbl> & <dbl> & <dbl> & <fct>\\\\\n",
       "\\hline\n",
       "\t Röyksopp             & Röyksopp's Night Out & 27 & 0.00468 & 0.652 &     -1 & 0.941 & 0.7920 & 0.115 & -5.201 & Minor & 0.0748 & 100.889 & 0.759 & Electronic\\\\\n",
       "\t Thievery Corporation & The Shining Path     & 31 & 0.01270 & 0.622 & 218293 & 0.890 & 0.9500 & 0.124 & -7.043 & Minor & 0.0300 & 115.002 & 0.531 & Electronic\\\\\n",
       "\t Dillon Francis       & Hurricane            & 28 & 0.00306 & 0.620 & 215613 & 0.755 & 0.0118 & 0.534 & -4.617 & Major & 0.0345 & 127.994 & 0.333 & Electronic\\\\\n",
       "\t ⋮ & ⋮ & ⋮ & ⋮ & ⋮ & ⋮ & ⋮ & ⋮ & ⋮ & ⋮ & ⋮ & ⋮ & ⋮ & ⋮ & ⋮\\\\\n",
       "\t Berner            & Lovin' Me (feat. Smiggz) & 51 & 0.00597 & 0.693 & 189483 & 0.763 & 0 & 0.143 &  -5.443 & Major & 0.1460 & 131.079 & 0.395 & Hip-Hop\\\\\n",
       "\t The-Dream         & Shawty Is Da Shit        & 65 & 0.08310 & 0.782 & 262773 & 0.472 & 0 & 0.106 &  -5.016 & Minor & 0.0441 &  75.886 & 0.354 & Hip-Hop\\\\\n",
       "\t Naughty By Nature & Hip Hop Hooray           & 67 & 0.10200 & 0.862 & 267267 & 0.642 & 0 & 0.272 & -13.652 & Minor & 0.1010 &  99.201 & 0.765 & Hip-Hop\\\\\n",
       "\\end{tabular}\n"
      ],
      "text/markdown": [
       "\n",
       "A tibble: 50002 × 15\n",
       "\n",
       "| artist_name &lt;chr&gt; | track_name &lt;chr&gt; | popularity &lt;dbl&gt; | acousticness &lt;dbl&gt; | danceability &lt;dbl&gt; | duration_ms &lt;dbl&gt; | energy &lt;dbl&gt; | instrumentalness &lt;dbl&gt; | liveness &lt;dbl&gt; | loudness &lt;dbl&gt; | mode &lt;fct&gt; | speechiness &lt;dbl&gt; | tempo &lt;dbl&gt; | valence &lt;dbl&gt; | music_genre &lt;fct&gt; |\n",
       "|---|---|---|---|---|---|---|---|---|---|---|---|---|---|---|\n",
       "| Röyksopp             | Röyksopp's Night Out | 27 | 0.00468 | 0.652 |     -1 | 0.941 | 0.7920 | 0.115 | -5.201 | Minor | 0.0748 | 100.889 | 0.759 | Electronic |\n",
       "| Thievery Corporation | The Shining Path     | 31 | 0.01270 | 0.622 | 218293 | 0.890 | 0.9500 | 0.124 | -7.043 | Minor | 0.0300 | 115.002 | 0.531 | Electronic |\n",
       "| Dillon Francis       | Hurricane            | 28 | 0.00306 | 0.620 | 215613 | 0.755 | 0.0118 | 0.534 | -4.617 | Major | 0.0345 | 127.994 | 0.333 | Electronic |\n",
       "| ⋮ | ⋮ | ⋮ | ⋮ | ⋮ | ⋮ | ⋮ | ⋮ | ⋮ | ⋮ | ⋮ | ⋮ | ⋮ | ⋮ | ⋮ |\n",
       "| Berner            | Lovin' Me (feat. Smiggz) | 51 | 0.00597 | 0.693 | 189483 | 0.763 | 0 | 0.143 |  -5.443 | Major | 0.1460 | 131.079 | 0.395 | Hip-Hop |\n",
       "| The-Dream         | Shawty Is Da Shit        | 65 | 0.08310 | 0.782 | 262773 | 0.472 | 0 | 0.106 |  -5.016 | Minor | 0.0441 |  75.886 | 0.354 | Hip-Hop |\n",
       "| Naughty By Nature | Hip Hop Hooray           | 67 | 0.10200 | 0.862 | 267267 | 0.642 | 0 | 0.272 | -13.652 | Minor | 0.1010 |  99.201 | 0.765 | Hip-Hop |\n",
       "\n"
      ],
      "text/plain": [
       "      artist_name          track_name               popularity acousticness\n",
       "1     Röyksopp             Röyksopp's Night Out     27         0.00468     \n",
       "2     Thievery Corporation The Shining Path         31         0.01270     \n",
       "3     Dillon Francis       Hurricane                28         0.00306     \n",
       "⋮     ⋮                    ⋮                        ⋮          ⋮           \n",
       "50000 Berner               Lovin' Me (feat. Smiggz) 51         0.00597     \n",
       "50001 The-Dream            Shawty Is Da Shit        65         0.08310     \n",
       "50002 Naughty By Nature    Hip Hop Hooray           67         0.10200     \n",
       "      danceability duration_ms energy instrumentalness liveness loudness mode \n",
       "1     0.652            -1      0.941  0.7920           0.115    -5.201   Minor\n",
       "2     0.622        218293      0.890  0.9500           0.124    -7.043   Minor\n",
       "3     0.620        215613      0.755  0.0118           0.534    -4.617   Major\n",
       "⋮     ⋮            ⋮           ⋮      ⋮                ⋮        ⋮        ⋮    \n",
       "50000 0.693        189483      0.763  0                0.143     -5.443  Major\n",
       "50001 0.782        262773      0.472  0                0.106     -5.016  Minor\n",
       "50002 0.862        267267      0.642  0                0.272    -13.652  Minor\n",
       "      speechiness tempo   valence music_genre\n",
       "1     0.0748      100.889 0.759   Electronic \n",
       "2     0.0300      115.002 0.531   Electronic \n",
       "3     0.0345      127.994 0.333   Electronic \n",
       "⋮     ⋮           ⋮       ⋮       ⋮          \n",
       "50000 0.1460      131.079 0.395   Hip-Hop    \n",
       "50001 0.0441       75.886 0.354   Hip-Hop    \n",
       "50002 0.1010       99.201 0.765   Hip-Hop    "
      ]
     },
     "metadata": {},
     "output_type": "display_data"
    }
   ],
   "source": [
    "### removing the columns we don't need\n",
    "data_select <- data %>%\n",
    "            select(-instance_id, -key,-obtained_date)\n",
    "data_factor <- mutate(data_select,\n",
    "                  mode = as.factor(mode),\n",
    "                  music_genre = as.factor(music_genre),\n",
    "                  tempo = as.double(tempo))\n",
    "data_factor"
   ]
  },
  {
   "cell_type": "code",
   "execution_count": 14,
   "metadata": {},
   "outputs": [
    {
     "name": "stderr",
     "output_type": "stream",
     "text": [
      "Warning message:\n",
      "“Too little data to stratify. Unstratified resampling will be used.”\n"
     ]
    },
    {
     "data": {
      "text/html": [
       "<table>\n",
       "<caption>A tibble: 37502 × 15</caption>\n",
       "<thead>\n",
       "\t<tr><th scope=col>artist_name</th><th scope=col>track_name</th><th scope=col>popularity</th><th scope=col>acousticness</th><th scope=col>danceability</th><th scope=col>duration_ms</th><th scope=col>energy</th><th scope=col>instrumentalness</th><th scope=col>liveness</th><th scope=col>loudness</th><th scope=col>mode</th><th scope=col>speechiness</th><th scope=col>tempo</th><th scope=col>valence</th><th scope=col>music_genre</th></tr>\n",
       "\t<tr><th scope=col>&lt;chr&gt;</th><th scope=col>&lt;chr&gt;</th><th scope=col>&lt;dbl&gt;</th><th scope=col>&lt;dbl&gt;</th><th scope=col>&lt;dbl&gt;</th><th scope=col>&lt;dbl&gt;</th><th scope=col>&lt;dbl&gt;</th><th scope=col>&lt;dbl&gt;</th><th scope=col>&lt;dbl&gt;</th><th scope=col>&lt;dbl&gt;</th><th scope=col>&lt;fct&gt;</th><th scope=col>&lt;dbl&gt;</th><th scope=col>&lt;dbl&gt;</th><th scope=col>&lt;dbl&gt;</th><th scope=col>&lt;fct&gt;</th></tr>\n",
       "</thead>\n",
       "<tbody>\n",
       "\t<tr><td>Thievery Corporation</td><td>The Shining Path           </td><td>31</td><td>0.01270</td><td>0.622</td><td>218293</td><td>0.890</td><td>0.950</td><td>0.124</td><td> -7.043</td><td>Minor</td><td>0.0300</td><td>115.002</td><td>0.531</td><td>Electronic</td></tr>\n",
       "\t<tr><td>Axel Boman          </td><td>Hello                      </td><td>47</td><td>0.00523</td><td>0.755</td><td>519468</td><td>0.731</td><td>0.854</td><td>0.216</td><td>-10.517</td><td>Minor</td><td>0.0412</td><td>     NA</td><td>0.614</td><td>Electronic</td></tr>\n",
       "\t<tr><td><span style=white-space:pre-wrap>Chase &amp; Status      </span></td><td>Lost &amp; Not Found - Acoustic</td><td>30</td><td>0.85500</td><td>0.607</td><td>170463</td><td>0.158</td><td>0.000</td><td>0.106</td><td>-13.787</td><td>Minor</td><td>0.0345</td><td> 57.528</td><td>0.307</td><td>Electronic</td></tr>\n",
       "\t<tr><td>⋮</td><td>⋮</td><td>⋮</td><td>⋮</td><td>⋮</td><td>⋮</td><td>⋮</td><td>⋮</td><td>⋮</td><td>⋮</td><td>⋮</td><td>⋮</td><td>⋮</td><td>⋮</td><td>⋮</td></tr>\n",
       "\t<tr><td>Night Lovell</td><td>Barbie Doll        </td><td>56</td><td>0.1330</td><td>0.849</td><td>237667</td><td>0.660</td><td>7.96e-06</td><td>0.296</td><td>-7.195</td><td>Major</td><td>0.0516</td><td> 99.988</td><td>0.629</td><td>Hip-Hop</td></tr>\n",
       "\t<tr><td>BEXEY       </td><td>GO GETTA           </td><td>59</td><td>0.0334</td><td>0.913</td><td>    -1</td><td>0.574</td><td>0.00e+00</td><td>0.119</td><td>-7.022</td><td>Major</td><td>0.2980</td><td> 98.028</td><td>0.330</td><td>Hip-Hop</td></tr>\n",
       "\t<tr><td>Roy Woods   </td><td>Drama (feat. Drake)</td><td>72</td><td>0.1570</td><td>0.709</td><td>251860</td><td>0.362</td><td>0.00e+00</td><td>0.109</td><td>-9.814</td><td>Major</td><td>0.0550</td><td>122.043</td><td>0.113</td><td>Hip-Hop</td></tr>\n",
       "</tbody>\n",
       "</table>\n"
      ],
      "text/latex": [
       "A tibble: 37502 × 15\n",
       "\\begin{tabular}{lllllllllllllll}\n",
       " artist\\_name & track\\_name & popularity & acousticness & danceability & duration\\_ms & energy & instrumentalness & liveness & loudness & mode & speechiness & tempo & valence & music\\_genre\\\\\n",
       " <chr> & <chr> & <dbl> & <dbl> & <dbl> & <dbl> & <dbl> & <dbl> & <dbl> & <dbl> & <fct> & <dbl> & <dbl> & <dbl> & <fct>\\\\\n",
       "\\hline\n",
       "\t Thievery Corporation & The Shining Path            & 31 & 0.01270 & 0.622 & 218293 & 0.890 & 0.950 & 0.124 &  -7.043 & Minor & 0.0300 & 115.002 & 0.531 & Electronic\\\\\n",
       "\t Axel Boman           & Hello                       & 47 & 0.00523 & 0.755 & 519468 & 0.731 & 0.854 & 0.216 & -10.517 & Minor & 0.0412 &      NA & 0.614 & Electronic\\\\\n",
       "\t Chase \\& Status       & Lost \\& Not Found - Acoustic & 30 & 0.85500 & 0.607 & 170463 & 0.158 & 0.000 & 0.106 & -13.787 & Minor & 0.0345 &  57.528 & 0.307 & Electronic\\\\\n",
       "\t ⋮ & ⋮ & ⋮ & ⋮ & ⋮ & ⋮ & ⋮ & ⋮ & ⋮ & ⋮ & ⋮ & ⋮ & ⋮ & ⋮ & ⋮\\\\\n",
       "\t Night Lovell & Barbie Doll         & 56 & 0.1330 & 0.849 & 237667 & 0.660 & 7.96e-06 & 0.296 & -7.195 & Major & 0.0516 &  99.988 & 0.629 & Hip-Hop\\\\\n",
       "\t BEXEY        & GO GETTA            & 59 & 0.0334 & 0.913 &     -1 & 0.574 & 0.00e+00 & 0.119 & -7.022 & Major & 0.2980 &  98.028 & 0.330 & Hip-Hop\\\\\n",
       "\t Roy Woods    & Drama (feat. Drake) & 72 & 0.1570 & 0.709 & 251860 & 0.362 & 0.00e+00 & 0.109 & -9.814 & Major & 0.0550 & 122.043 & 0.113 & Hip-Hop\\\\\n",
       "\\end{tabular}\n"
      ],
      "text/markdown": [
       "\n",
       "A tibble: 37502 × 15\n",
       "\n",
       "| artist_name &lt;chr&gt; | track_name &lt;chr&gt; | popularity &lt;dbl&gt; | acousticness &lt;dbl&gt; | danceability &lt;dbl&gt; | duration_ms &lt;dbl&gt; | energy &lt;dbl&gt; | instrumentalness &lt;dbl&gt; | liveness &lt;dbl&gt; | loudness &lt;dbl&gt; | mode &lt;fct&gt; | speechiness &lt;dbl&gt; | tempo &lt;dbl&gt; | valence &lt;dbl&gt; | music_genre &lt;fct&gt; |\n",
       "|---|---|---|---|---|---|---|---|---|---|---|---|---|---|---|\n",
       "| Thievery Corporation | The Shining Path            | 31 | 0.01270 | 0.622 | 218293 | 0.890 | 0.950 | 0.124 |  -7.043 | Minor | 0.0300 | 115.002 | 0.531 | Electronic |\n",
       "| Axel Boman           | Hello                       | 47 | 0.00523 | 0.755 | 519468 | 0.731 | 0.854 | 0.216 | -10.517 | Minor | 0.0412 |      NA | 0.614 | Electronic |\n",
       "| Chase &amp; Status       | Lost &amp; Not Found - Acoustic | 30 | 0.85500 | 0.607 | 170463 | 0.158 | 0.000 | 0.106 | -13.787 | Minor | 0.0345 |  57.528 | 0.307 | Electronic |\n",
       "| ⋮ | ⋮ | ⋮ | ⋮ | ⋮ | ⋮ | ⋮ | ⋮ | ⋮ | ⋮ | ⋮ | ⋮ | ⋮ | ⋮ | ⋮ |\n",
       "| Night Lovell | Barbie Doll         | 56 | 0.1330 | 0.849 | 237667 | 0.660 | 7.96e-06 | 0.296 | -7.195 | Major | 0.0516 |  99.988 | 0.629 | Hip-Hop |\n",
       "| BEXEY        | GO GETTA            | 59 | 0.0334 | 0.913 |     -1 | 0.574 | 0.00e+00 | 0.119 | -7.022 | Major | 0.2980 |  98.028 | 0.330 | Hip-Hop |\n",
       "| Roy Woods    | Drama (feat. Drake) | 72 | 0.1570 | 0.709 | 251860 | 0.362 | 0.00e+00 | 0.109 | -9.814 | Major | 0.0550 | 122.043 | 0.113 | Hip-Hop |\n",
       "\n"
      ],
      "text/plain": [
       "      artist_name          track_name                  popularity acousticness\n",
       "1     Thievery Corporation The Shining Path            31         0.01270     \n",
       "2     Axel Boman           Hello                       47         0.00523     \n",
       "3     Chase & Status       Lost & Not Found - Acoustic 30         0.85500     \n",
       "⋮     ⋮                    ⋮                           ⋮          ⋮           \n",
       "37500 Night Lovell         Barbie Doll                 56         0.1330      \n",
       "37501 BEXEY                GO GETTA                    59         0.0334      \n",
       "37502 Roy Woods            Drama (feat. Drake)         72         0.1570      \n",
       "      danceability duration_ms energy instrumentalness liveness loudness mode \n",
       "1     0.622        218293      0.890  0.950            0.124     -7.043  Minor\n",
       "2     0.755        519468      0.731  0.854            0.216    -10.517  Minor\n",
       "3     0.607        170463      0.158  0.000            0.106    -13.787  Minor\n",
       "⋮     ⋮            ⋮           ⋮      ⋮                ⋮        ⋮        ⋮    \n",
       "37500 0.849        237667      0.660  7.96e-06         0.296    -7.195   Major\n",
       "37501 0.913            -1      0.574  0.00e+00         0.119    -7.022   Major\n",
       "37502 0.709        251860      0.362  0.00e+00         0.109    -9.814   Major\n",
       "      speechiness tempo   valence music_genre\n",
       "1     0.0300      115.002 0.531   Electronic \n",
       "2     0.0412           NA 0.614   Electronic \n",
       "3     0.0345       57.528 0.307   Electronic \n",
       "⋮     ⋮           ⋮       ⋮       ⋮          \n",
       "37500 0.0516       99.988 0.629   Hip-Hop    \n",
       "37501 0.2980       98.028 0.330   Hip-Hop    \n",
       "37502 0.0550      122.043 0.113   Hip-Hop    "
      ]
     },
     "metadata": {},
     "output_type": "display_data"
    },
    {
     "data": {
      "text/html": [
       "<table>\n",
       "<caption>A tibble: 12500 × 15</caption>\n",
       "<thead>\n",
       "\t<tr><th scope=col>artist_name</th><th scope=col>track_name</th><th scope=col>popularity</th><th scope=col>acousticness</th><th scope=col>danceability</th><th scope=col>duration_ms</th><th scope=col>energy</th><th scope=col>instrumentalness</th><th scope=col>liveness</th><th scope=col>loudness</th><th scope=col>mode</th><th scope=col>speechiness</th><th scope=col>tempo</th><th scope=col>valence</th><th scope=col>music_genre</th></tr>\n",
       "\t<tr><th scope=col>&lt;chr&gt;</th><th scope=col>&lt;chr&gt;</th><th scope=col>&lt;dbl&gt;</th><th scope=col>&lt;dbl&gt;</th><th scope=col>&lt;dbl&gt;</th><th scope=col>&lt;dbl&gt;</th><th scope=col>&lt;dbl&gt;</th><th scope=col>&lt;dbl&gt;</th><th scope=col>&lt;dbl&gt;</th><th scope=col>&lt;dbl&gt;</th><th scope=col>&lt;fct&gt;</th><th scope=col>&lt;dbl&gt;</th><th scope=col>&lt;dbl&gt;</th><th scope=col>&lt;dbl&gt;</th><th scope=col>&lt;fct&gt;</th></tr>\n",
       "</thead>\n",
       "<tbody>\n",
       "\t<tr><td>Röyksopp      </td><td>Röyksopp's Night Out</td><td>27</td><td>0.00468</td><td>0.652</td><td>    -1</td><td>0.941</td><td>0.79200</td><td>0.115</td><td>-5.201</td><td>Minor</td><td>0.0748</td><td>100.889</td><td>0.759</td><td>Electronic</td></tr>\n",
       "\t<tr><td>Dillon Francis</td><td>Hurricane           </td><td>28</td><td>0.00306</td><td>0.620</td><td>215613</td><td>0.755</td><td>0.01180</td><td>0.534</td><td>-4.617</td><td>Major</td><td>0.0345</td><td>127.994</td><td>0.333</td><td>Electronic</td></tr>\n",
       "\t<tr><td>Dubloadz      </td><td>Nitro               </td><td>34</td><td>0.02540</td><td>0.774</td><td>166875</td><td>0.700</td><td>0.00253</td><td>0.157</td><td>-4.498</td><td>Major</td><td>0.2390</td><td>128.014</td><td>0.270</td><td>Electronic</td></tr>\n",
       "\t<tr><td>⋮</td><td>⋮</td><td>⋮</td><td>⋮</td><td>⋮</td><td>⋮</td><td>⋮</td><td>⋮</td><td>⋮</td><td>⋮</td><td>⋮</td><td>⋮</td><td>⋮</td><td>⋮</td><td>⋮</td></tr>\n",
       "\t<tr><td>Berner           </td><td>Lovin' Me (feat. Smiggz)</td><td>51</td><td>0.00597</td><td>0.693</td><td>189483</td><td>0.763</td><td>0</td><td>0.143</td><td> -5.443</td><td>Major</td><td>0.1460</td><td>131.079</td><td>0.395</td><td>Hip-Hop</td></tr>\n",
       "\t<tr><td>The-Dream        </td><td>Shawty Is Da Shit       </td><td>65</td><td>0.08310</td><td>0.782</td><td>262773</td><td>0.472</td><td>0</td><td>0.106</td><td> -5.016</td><td>Minor</td><td>0.0441</td><td> 75.886</td><td>0.354</td><td>Hip-Hop</td></tr>\n",
       "\t<tr><td>Naughty By Nature</td><td>Hip Hop Hooray          </td><td>67</td><td>0.10200</td><td>0.862</td><td>267267</td><td>0.642</td><td>0</td><td>0.272</td><td>-13.652</td><td>Minor</td><td>0.1010</td><td> 99.201</td><td>0.765</td><td>Hip-Hop</td></tr>\n",
       "</tbody>\n",
       "</table>\n"
      ],
      "text/latex": [
       "A tibble: 12500 × 15\n",
       "\\begin{tabular}{lllllllllllllll}\n",
       " artist\\_name & track\\_name & popularity & acousticness & danceability & duration\\_ms & energy & instrumentalness & liveness & loudness & mode & speechiness & tempo & valence & music\\_genre\\\\\n",
       " <chr> & <chr> & <dbl> & <dbl> & <dbl> & <dbl> & <dbl> & <dbl> & <dbl> & <dbl> & <fct> & <dbl> & <dbl> & <dbl> & <fct>\\\\\n",
       "\\hline\n",
       "\t Röyksopp       & Röyksopp's Night Out & 27 & 0.00468 & 0.652 &     -1 & 0.941 & 0.79200 & 0.115 & -5.201 & Minor & 0.0748 & 100.889 & 0.759 & Electronic\\\\\n",
       "\t Dillon Francis & Hurricane            & 28 & 0.00306 & 0.620 & 215613 & 0.755 & 0.01180 & 0.534 & -4.617 & Major & 0.0345 & 127.994 & 0.333 & Electronic\\\\\n",
       "\t Dubloadz       & Nitro                & 34 & 0.02540 & 0.774 & 166875 & 0.700 & 0.00253 & 0.157 & -4.498 & Major & 0.2390 & 128.014 & 0.270 & Electronic\\\\\n",
       "\t ⋮ & ⋮ & ⋮ & ⋮ & ⋮ & ⋮ & ⋮ & ⋮ & ⋮ & ⋮ & ⋮ & ⋮ & ⋮ & ⋮ & ⋮\\\\\n",
       "\t Berner            & Lovin' Me (feat. Smiggz) & 51 & 0.00597 & 0.693 & 189483 & 0.763 & 0 & 0.143 &  -5.443 & Major & 0.1460 & 131.079 & 0.395 & Hip-Hop\\\\\n",
       "\t The-Dream         & Shawty Is Da Shit        & 65 & 0.08310 & 0.782 & 262773 & 0.472 & 0 & 0.106 &  -5.016 & Minor & 0.0441 &  75.886 & 0.354 & Hip-Hop\\\\\n",
       "\t Naughty By Nature & Hip Hop Hooray           & 67 & 0.10200 & 0.862 & 267267 & 0.642 & 0 & 0.272 & -13.652 & Minor & 0.1010 &  99.201 & 0.765 & Hip-Hop\\\\\n",
       "\\end{tabular}\n"
      ],
      "text/markdown": [
       "\n",
       "A tibble: 12500 × 15\n",
       "\n",
       "| artist_name &lt;chr&gt; | track_name &lt;chr&gt; | popularity &lt;dbl&gt; | acousticness &lt;dbl&gt; | danceability &lt;dbl&gt; | duration_ms &lt;dbl&gt; | energy &lt;dbl&gt; | instrumentalness &lt;dbl&gt; | liveness &lt;dbl&gt; | loudness &lt;dbl&gt; | mode &lt;fct&gt; | speechiness &lt;dbl&gt; | tempo &lt;dbl&gt; | valence &lt;dbl&gt; | music_genre &lt;fct&gt; |\n",
       "|---|---|---|---|---|---|---|---|---|---|---|---|---|---|---|\n",
       "| Röyksopp       | Röyksopp's Night Out | 27 | 0.00468 | 0.652 |     -1 | 0.941 | 0.79200 | 0.115 | -5.201 | Minor | 0.0748 | 100.889 | 0.759 | Electronic |\n",
       "| Dillon Francis | Hurricane            | 28 | 0.00306 | 0.620 | 215613 | 0.755 | 0.01180 | 0.534 | -4.617 | Major | 0.0345 | 127.994 | 0.333 | Electronic |\n",
       "| Dubloadz       | Nitro                | 34 | 0.02540 | 0.774 | 166875 | 0.700 | 0.00253 | 0.157 | -4.498 | Major | 0.2390 | 128.014 | 0.270 | Electronic |\n",
       "| ⋮ | ⋮ | ⋮ | ⋮ | ⋮ | ⋮ | ⋮ | ⋮ | ⋮ | ⋮ | ⋮ | ⋮ | ⋮ | ⋮ | ⋮ |\n",
       "| Berner            | Lovin' Me (feat. Smiggz) | 51 | 0.00597 | 0.693 | 189483 | 0.763 | 0 | 0.143 |  -5.443 | Major | 0.1460 | 131.079 | 0.395 | Hip-Hop |\n",
       "| The-Dream         | Shawty Is Da Shit        | 65 | 0.08310 | 0.782 | 262773 | 0.472 | 0 | 0.106 |  -5.016 | Minor | 0.0441 |  75.886 | 0.354 | Hip-Hop |\n",
       "| Naughty By Nature | Hip Hop Hooray           | 67 | 0.10200 | 0.862 | 267267 | 0.642 | 0 | 0.272 | -13.652 | Minor | 0.1010 |  99.201 | 0.765 | Hip-Hop |\n",
       "\n"
      ],
      "text/plain": [
       "      artist_name       track_name               popularity acousticness\n",
       "1     Röyksopp          Röyksopp's Night Out     27         0.00468     \n",
       "2     Dillon Francis    Hurricane                28         0.00306     \n",
       "3     Dubloadz          Nitro                    34         0.02540     \n",
       "⋮     ⋮                 ⋮                        ⋮          ⋮           \n",
       "12498 Berner            Lovin' Me (feat. Smiggz) 51         0.00597     \n",
       "12499 The-Dream         Shawty Is Da Shit        65         0.08310     \n",
       "12500 Naughty By Nature Hip Hop Hooray           67         0.10200     \n",
       "      danceability duration_ms energy instrumentalness liveness loudness mode \n",
       "1     0.652            -1      0.941  0.79200          0.115    -5.201   Minor\n",
       "2     0.620        215613      0.755  0.01180          0.534    -4.617   Major\n",
       "3     0.774        166875      0.700  0.00253          0.157    -4.498   Major\n",
       "⋮     ⋮            ⋮           ⋮      ⋮                ⋮        ⋮        ⋮    \n",
       "12498 0.693        189483      0.763  0                0.143     -5.443  Major\n",
       "12499 0.782        262773      0.472  0                0.106     -5.016  Minor\n",
       "12500 0.862        267267      0.642  0                0.272    -13.652  Minor\n",
       "      speechiness tempo   valence music_genre\n",
       "1     0.0748      100.889 0.759   Electronic \n",
       "2     0.0345      127.994 0.333   Electronic \n",
       "3     0.2390      128.014 0.270   Electronic \n",
       "⋮     ⋮           ⋮       ⋮       ⋮          \n",
       "12498 0.1460      131.079 0.395   Hip-Hop    \n",
       "12499 0.0441       75.886 0.354   Hip-Hop    \n",
       "12500 0.1010       99.201 0.765   Hip-Hop    "
      ]
     },
     "metadata": {},
     "output_type": "display_data"
    }
   ],
   "source": [
    "### spliting the data into training set and testing set, 75% of the data in the training set\n",
    "data_split <- initial_split(data_factor, prop = 0.75, strata = music_genre) \n",
    "data_train <- training(data_split)   \n",
    "data_test <- testing(data_split)\n",
    "data_train\n",
    "data_test"
   ]
  },
  {
   "cell_type": "code",
   "execution_count": 8,
   "metadata": {},
   "outputs": [
    {
     "name": "stderr",
     "output_type": "stream",
     "text": [
      "`summarise()` ungrouping output (override with `.groups` argument)\n",
      "\n"
     ]
    },
    {
     "data": {
      "text/html": [
       "<table>\n",
       "<caption>A tibble: 1 × 12</caption>\n",
       "<thead>\n",
       "\t<tr><th scope=col>music_genre</th><th scope=col>Electronic_popularity</th><th scope=col>Electronic_acousticness</th><th scope=col>Electronic_danceability</th><th scope=col>Electronic_duration_ms</th><th scope=col>Electronic_energy</th><th scope=col>Electronic_instrumentalness</th><th scope=col>Electronic_liveness</th><th scope=col>Electronic_loudness</th><th scope=col>Electronic_speechiness</th><th scope=col>Electronic_tempo</th><th scope=col>Electronic_valence</th></tr>\n",
       "\t<tr><th scope=col>&lt;fct&gt;</th><th scope=col>&lt;dbl&gt;</th><th scope=col>&lt;dbl&gt;</th><th scope=col>&lt;dbl&gt;</th><th scope=col>&lt;dbl&gt;</th><th scope=col>&lt;dbl&gt;</th><th scope=col>&lt;dbl&gt;</th><th scope=col>&lt;dbl&gt;</th><th scope=col>&lt;dbl&gt;</th><th scope=col>&lt;dbl&gt;</th><th scope=col>&lt;dbl&gt;</th><th scope=col>&lt;dbl&gt;</th></tr>\n",
       "</thead>\n",
       "<tbody>\n",
       "\t<tr><td>Electronic</td><td>38.09071</td><td>0.1198451</td><td>0.6199459</td><td>243119.4</td><td>0.7391191</td><td>0.3433933</td><td>0.2086738</td><td>-7.02713</td><td>0.09914453</td><td>NA</td><td>0.39167</td></tr>\n",
       "</tbody>\n",
       "</table>\n"
      ],
      "text/latex": [
       "A tibble: 1 × 12\n",
       "\\begin{tabular}{llllllllllll}\n",
       " music\\_genre & Electronic\\_popularity & Electronic\\_acousticness & Electronic\\_danceability & Electronic\\_duration\\_ms & Electronic\\_energy & Electronic\\_instrumentalness & Electronic\\_liveness & Electronic\\_loudness & Electronic\\_speechiness & Electronic\\_tempo & Electronic\\_valence\\\\\n",
       " <fct> & <dbl> & <dbl> & <dbl> & <dbl> & <dbl> & <dbl> & <dbl> & <dbl> & <dbl> & <dbl> & <dbl>\\\\\n",
       "\\hline\n",
       "\t Electronic & 38.09071 & 0.1198451 & 0.6199459 & 243119.4 & 0.7391191 & 0.3433933 & 0.2086738 & -7.02713 & 0.09914453 & NA & 0.39167\\\\\n",
       "\\end{tabular}\n"
      ],
      "text/markdown": [
       "\n",
       "A tibble: 1 × 12\n",
       "\n",
       "| music_genre &lt;fct&gt; | Electronic_popularity &lt;dbl&gt; | Electronic_acousticness &lt;dbl&gt; | Electronic_danceability &lt;dbl&gt; | Electronic_duration_ms &lt;dbl&gt; | Electronic_energy &lt;dbl&gt; | Electronic_instrumentalness &lt;dbl&gt; | Electronic_liveness &lt;dbl&gt; | Electronic_loudness &lt;dbl&gt; | Electronic_speechiness &lt;dbl&gt; | Electronic_tempo &lt;dbl&gt; | Electronic_valence &lt;dbl&gt; |\n",
       "|---|---|---|---|---|---|---|---|---|---|---|---|\n",
       "| Electronic | 38.09071 | 0.1198451 | 0.6199459 | 243119.4 | 0.7391191 | 0.3433933 | 0.2086738 | -7.02713 | 0.09914453 | NA | 0.39167 |\n",
       "\n"
      ],
      "text/plain": [
       "  music_genre Electronic_popularity Electronic_acousticness\n",
       "1 Electronic  38.09071              0.1198451              \n",
       "  Electronic_danceability Electronic_duration_ms Electronic_energy\n",
       "1 0.6199459               243119.4               0.7391191        \n",
       "  Electronic_instrumentalness Electronic_liveness Electronic_loudness\n",
       "1 0.3433933                   0.2086738           -7.02713           \n",
       "  Electronic_speechiness Electronic_tempo Electronic_valence\n",
       "1 0.09914453             NA               0.39167           "
      ]
     },
     "metadata": {},
     "output_type": "display_data"
    },
    {
     "name": "stderr",
     "output_type": "stream",
     "text": [
      "`summarise()` ungrouping output (override with `.groups` argument)\n",
      "\n"
     ]
    },
    {
     "data": {
      "text/html": [
       "<table>\n",
       "<caption>A tibble: 1 × 12</caption>\n",
       "<thead>\n",
       "\t<tr><th scope=col>music_genre</th><th scope=col>Anime_popularity</th><th scope=col>Anime_acousticness</th><th scope=col>Anime_danceability</th><th scope=col>Anime_duration_ms</th><th scope=col>Anime_energy</th><th scope=col>Anime_instrumentalness</th><th scope=col>Anime_liveness</th><th scope=col>Anime_loudness</th><th scope=col>Anime_speechiness</th><th scope=col>Anime_tempo</th><th scope=col>Anime_valence</th></tr>\n",
       "\t<tr><th scope=col>&lt;fct&gt;</th><th scope=col>&lt;dbl&gt;</th><th scope=col>&lt;dbl&gt;</th><th scope=col>&lt;dbl&gt;</th><th scope=col>&lt;dbl&gt;</th><th scope=col>&lt;dbl&gt;</th><th scope=col>&lt;dbl&gt;</th><th scope=col>&lt;dbl&gt;</th><th scope=col>&lt;dbl&gt;</th><th scope=col>&lt;dbl&gt;</th><th scope=col>&lt;dbl&gt;</th><th scope=col>&lt;dbl&gt;</th></tr>\n",
       "</thead>\n",
       "<tbody>\n",
       "\t<tr><td>Anime</td><td>24.28628</td><td>0.2839846</td><td>0.472779</td><td>208358</td><td>0.6653941</td><td>0.2716064</td><td>0.1937488</td><td>-7.941049</td><td>0.06512574</td><td>NA</td><td>0.4387488</td></tr>\n",
       "</tbody>\n",
       "</table>\n"
      ],
      "text/latex": [
       "A tibble: 1 × 12\n",
       "\\begin{tabular}{llllllllllll}\n",
       " music\\_genre & Anime\\_popularity & Anime\\_acousticness & Anime\\_danceability & Anime\\_duration\\_ms & Anime\\_energy & Anime\\_instrumentalness & Anime\\_liveness & Anime\\_loudness & Anime\\_speechiness & Anime\\_tempo & Anime\\_valence\\\\\n",
       " <fct> & <dbl> & <dbl> & <dbl> & <dbl> & <dbl> & <dbl> & <dbl> & <dbl> & <dbl> & <dbl> & <dbl>\\\\\n",
       "\\hline\n",
       "\t Anime & 24.28628 & 0.2839846 & 0.472779 & 208358 & 0.6653941 & 0.2716064 & 0.1937488 & -7.941049 & 0.06512574 & NA & 0.4387488\\\\\n",
       "\\end{tabular}\n"
      ],
      "text/markdown": [
       "\n",
       "A tibble: 1 × 12\n",
       "\n",
       "| music_genre &lt;fct&gt; | Anime_popularity &lt;dbl&gt; | Anime_acousticness &lt;dbl&gt; | Anime_danceability &lt;dbl&gt; | Anime_duration_ms &lt;dbl&gt; | Anime_energy &lt;dbl&gt; | Anime_instrumentalness &lt;dbl&gt; | Anime_liveness &lt;dbl&gt; | Anime_loudness &lt;dbl&gt; | Anime_speechiness &lt;dbl&gt; | Anime_tempo &lt;dbl&gt; | Anime_valence &lt;dbl&gt; |\n",
       "|---|---|---|---|---|---|---|---|---|---|---|---|\n",
       "| Anime | 24.28628 | 0.2839846 | 0.472779 | 208358 | 0.6653941 | 0.2716064 | 0.1937488 | -7.941049 | 0.06512574 | NA | 0.4387488 |\n",
       "\n"
      ],
      "text/plain": [
       "  music_genre Anime_popularity Anime_acousticness Anime_danceability\n",
       "1 Anime       24.28628         0.2839846          0.472779          \n",
       "  Anime_duration_ms Anime_energy Anime_instrumentalness Anime_liveness\n",
       "1 208358            0.6653941    0.2716064              0.1937488     \n",
       "  Anime_loudness Anime_speechiness Anime_tempo Anime_valence\n",
       "1 -7.941049      0.06512574        NA          0.4387488    "
      ]
     },
     "metadata": {},
     "output_type": "display_data"
    },
    {
     "name": "stderr",
     "output_type": "stream",
     "text": [
      "`summarise()` ungrouping output (override with `.groups` argument)\n",
      "\n"
     ]
    },
    {
     "data": {
      "text/html": [
       "<table>\n",
       "<caption>A tibble: 1 × 12</caption>\n",
       "<thead>\n",
       "\t<tr><th scope=col>music_genre</th><th scope=col>Jazz_popularity</th><th scope=col>Jazz_acousticness</th><th scope=col>Jazz_danceability</th><th scope=col>Jazz_duration_ms</th><th scope=col>Jazz_energy</th><th scope=col>Jazz_instrumentalness</th><th scope=col>Jazz_liveness</th><th scope=col>Jazz_loudness</th><th scope=col>Jazz_speechiness</th><th scope=col>Jazz_tempo</th><th scope=col>Jazz_valence</th></tr>\n",
       "\t<tr><th scope=col>&lt;fct&gt;</th><th scope=col>&lt;dbl&gt;</th><th scope=col>&lt;dbl&gt;</th><th scope=col>&lt;dbl&gt;</th><th scope=col>&lt;dbl&gt;</th><th scope=col>&lt;dbl&gt;</th><th scope=col>&lt;dbl&gt;</th><th scope=col>&lt;dbl&gt;</th><th scope=col>&lt;dbl&gt;</th><th scope=col>&lt;dbl&gt;</th><th scope=col>&lt;dbl&gt;</th><th scope=col>&lt;dbl&gt;</th></tr>\n",
       "</thead>\n",
       "<tbody>\n",
       "\t<tr><td>Jazz</td><td>40.90481</td><td>0.4971864</td><td>0.5820626</td><td>238937.6</td><td>0.4750283</td><td>0.3545614</td><td>0.1725831</td><td>-11.2248</td><td>0.07417898</td><td>NA</td><td>0.5082317</td></tr>\n",
       "</tbody>\n",
       "</table>\n"
      ],
      "text/latex": [
       "A tibble: 1 × 12\n",
       "\\begin{tabular}{llllllllllll}\n",
       " music\\_genre & Jazz\\_popularity & Jazz\\_acousticness & Jazz\\_danceability & Jazz\\_duration\\_ms & Jazz\\_energy & Jazz\\_instrumentalness & Jazz\\_liveness & Jazz\\_loudness & Jazz\\_speechiness & Jazz\\_tempo & Jazz\\_valence\\\\\n",
       " <fct> & <dbl> & <dbl> & <dbl> & <dbl> & <dbl> & <dbl> & <dbl> & <dbl> & <dbl> & <dbl> & <dbl>\\\\\n",
       "\\hline\n",
       "\t Jazz & 40.90481 & 0.4971864 & 0.5820626 & 238937.6 & 0.4750283 & 0.3545614 & 0.1725831 & -11.2248 & 0.07417898 & NA & 0.5082317\\\\\n",
       "\\end{tabular}\n"
      ],
      "text/markdown": [
       "\n",
       "A tibble: 1 × 12\n",
       "\n",
       "| music_genre &lt;fct&gt; | Jazz_popularity &lt;dbl&gt; | Jazz_acousticness &lt;dbl&gt; | Jazz_danceability &lt;dbl&gt; | Jazz_duration_ms &lt;dbl&gt; | Jazz_energy &lt;dbl&gt; | Jazz_instrumentalness &lt;dbl&gt; | Jazz_liveness &lt;dbl&gt; | Jazz_loudness &lt;dbl&gt; | Jazz_speechiness &lt;dbl&gt; | Jazz_tempo &lt;dbl&gt; | Jazz_valence &lt;dbl&gt; |\n",
       "|---|---|---|---|---|---|---|---|---|---|---|---|\n",
       "| Jazz | 40.90481 | 0.4971864 | 0.5820626 | 238937.6 | 0.4750283 | 0.3545614 | 0.1725831 | -11.2248 | 0.07417898 | NA | 0.5082317 |\n",
       "\n"
      ],
      "text/plain": [
       "  music_genre Jazz_popularity Jazz_acousticness Jazz_danceability\n",
       "1 Jazz        40.90481        0.4971864         0.5820626        \n",
       "  Jazz_duration_ms Jazz_energy Jazz_instrumentalness Jazz_liveness\n",
       "1 238937.6         0.4750283   0.3545614             0.1725831    \n",
       "  Jazz_loudness Jazz_speechiness Jazz_tempo Jazz_valence\n",
       "1 -11.2248      0.07417898       NA         0.5082317   "
      ]
     },
     "metadata": {},
     "output_type": "display_data"
    },
    {
     "name": "stderr",
     "output_type": "stream",
     "text": [
      "`summarise()` ungrouping output (override with `.groups` argument)\n",
      "\n"
     ]
    },
    {
     "data": {
      "text/html": [
       "<table>\n",
       "<caption>A tibble: 1 × 12</caption>\n",
       "<thead>\n",
       "\t<tr><th scope=col>music_genre</th><th scope=col>Alternative_popularity</th><th scope=col>Alternative_acousticness</th><th scope=col>Alternative_danceability</th><th scope=col>Alternative_duration_ms</th><th scope=col>Alternative_energy</th><th scope=col>Alternative_instrumentalness</th><th scope=col>Alternative_liveness</th><th scope=col>Alternative_loudness</th><th scope=col>Alternative_speechiness</th><th scope=col>Alternative_tempo</th><th scope=col>Alternative_valence</th></tr>\n",
       "\t<tr><th scope=col>&lt;fct&gt;</th><th scope=col>&lt;dbl&gt;</th><th scope=col>&lt;dbl&gt;</th><th scope=col>&lt;dbl&gt;</th><th scope=col>&lt;dbl&gt;</th><th scope=col>&lt;dbl&gt;</th><th scope=col>&lt;dbl&gt;</th><th scope=col>&lt;dbl&gt;</th><th scope=col>&lt;dbl&gt;</th><th scope=col>&lt;dbl&gt;</th><th scope=col>&lt;dbl&gt;</th><th scope=col>&lt;dbl&gt;</th></tr>\n",
       "</thead>\n",
       "<tbody>\n",
       "\t<tr><td>Alternative</td><td>50.26504</td><td>0.1666933</td><td>0.5421415</td><td>209529.6</td><td>0.7091382</td><td>0.06218775</td><td>0.1965331</td><td>-6.562861</td><td>0.08928818</td><td>NA</td><td>0.4456719</td></tr>\n",
       "</tbody>\n",
       "</table>\n"
      ],
      "text/latex": [
       "A tibble: 1 × 12\n",
       "\\begin{tabular}{llllllllllll}\n",
       " music\\_genre & Alternative\\_popularity & Alternative\\_acousticness & Alternative\\_danceability & Alternative\\_duration\\_ms & Alternative\\_energy & Alternative\\_instrumentalness & Alternative\\_liveness & Alternative\\_loudness & Alternative\\_speechiness & Alternative\\_tempo & Alternative\\_valence\\\\\n",
       " <fct> & <dbl> & <dbl> & <dbl> & <dbl> & <dbl> & <dbl> & <dbl> & <dbl> & <dbl> & <dbl> & <dbl>\\\\\n",
       "\\hline\n",
       "\t Alternative & 50.26504 & 0.1666933 & 0.5421415 & 209529.6 & 0.7091382 & 0.06218775 & 0.1965331 & -6.562861 & 0.08928818 & NA & 0.4456719\\\\\n",
       "\\end{tabular}\n"
      ],
      "text/markdown": [
       "\n",
       "A tibble: 1 × 12\n",
       "\n",
       "| music_genre &lt;fct&gt; | Alternative_popularity &lt;dbl&gt; | Alternative_acousticness &lt;dbl&gt; | Alternative_danceability &lt;dbl&gt; | Alternative_duration_ms &lt;dbl&gt; | Alternative_energy &lt;dbl&gt; | Alternative_instrumentalness &lt;dbl&gt; | Alternative_liveness &lt;dbl&gt; | Alternative_loudness &lt;dbl&gt; | Alternative_speechiness &lt;dbl&gt; | Alternative_tempo &lt;dbl&gt; | Alternative_valence &lt;dbl&gt; |\n",
       "|---|---|---|---|---|---|---|---|---|---|---|---|\n",
       "| Alternative | 50.26504 | 0.1666933 | 0.5421415 | 209529.6 | 0.7091382 | 0.06218775 | 0.1965331 | -6.562861 | 0.08928818 | NA | 0.4456719 |\n",
       "\n"
      ],
      "text/plain": [
       "  music_genre Alternative_popularity Alternative_acousticness\n",
       "1 Alternative 50.26504               0.1666933               \n",
       "  Alternative_danceability Alternative_duration_ms Alternative_energy\n",
       "1 0.5421415                209529.6                0.7091382         \n",
       "  Alternative_instrumentalness Alternative_liveness Alternative_loudness\n",
       "1 0.06218775                   0.1965331            -6.562861           \n",
       "  Alternative_speechiness Alternative_tempo Alternative_valence\n",
       "1 0.08928818              NA                0.4456719          "
      ]
     },
     "metadata": {},
     "output_type": "display_data"
    },
    {
     "name": "stderr",
     "output_type": "stream",
     "text": [
      "`summarise()` ungrouping output (override with `.groups` argument)\n",
      "\n"
     ]
    },
    {
     "data": {
      "text/html": [
       "<table>\n",
       "<caption>A tibble: 1 × 12</caption>\n",
       "<thead>\n",
       "\t<tr><th scope=col>music_genre</th><th scope=col>Country_popularity</th><th scope=col>Country_acousticness</th><th scope=col>Country_danceability</th><th scope=col>Country_duration_ms</th><th scope=col>Country_energy</th><th scope=col>Country_instrumentalness</th><th scope=col>Country_liveness</th><th scope=col>Country_loudness</th><th scope=col>Country_speechiness</th><th scope=col>Country_tempo</th><th scope=col>Country_valence</th></tr>\n",
       "\t<tr><th scope=col>&lt;fct&gt;</th><th scope=col>&lt;dbl&gt;</th><th scope=col>&lt;dbl&gt;</th><th scope=col>&lt;dbl&gt;</th><th scope=col>&lt;dbl&gt;</th><th scope=col>&lt;dbl&gt;</th><th scope=col>&lt;dbl&gt;</th><th scope=col>&lt;dbl&gt;</th><th scope=col>&lt;dbl&gt;</th><th scope=col>&lt;dbl&gt;</th><th scope=col>&lt;dbl&gt;</th><th scope=col>&lt;dbl&gt;</th></tr>\n",
       "</thead>\n",
       "<tbody>\n",
       "\t<tr><td>Country</td><td>46.01537</td><td>0.2697455</td><td>0.5777167</td><td>195360.9</td><td>0.6389991</td><td>0.005343897</td><td>0.1890419</td><td>-7.314064</td><td>0.04917278</td><td>NA</td><td>0.5373876</td></tr>\n",
       "</tbody>\n",
       "</table>\n"
      ],
      "text/latex": [
       "A tibble: 1 × 12\n",
       "\\begin{tabular}{llllllllllll}\n",
       " music\\_genre & Country\\_popularity & Country\\_acousticness & Country\\_danceability & Country\\_duration\\_ms & Country\\_energy & Country\\_instrumentalness & Country\\_liveness & Country\\_loudness & Country\\_speechiness & Country\\_tempo & Country\\_valence\\\\\n",
       " <fct> & <dbl> & <dbl> & <dbl> & <dbl> & <dbl> & <dbl> & <dbl> & <dbl> & <dbl> & <dbl> & <dbl>\\\\\n",
       "\\hline\n",
       "\t Country & 46.01537 & 0.2697455 & 0.5777167 & 195360.9 & 0.6389991 & 0.005343897 & 0.1890419 & -7.314064 & 0.04917278 & NA & 0.5373876\\\\\n",
       "\\end{tabular}\n"
      ],
      "text/markdown": [
       "\n",
       "A tibble: 1 × 12\n",
       "\n",
       "| music_genre &lt;fct&gt; | Country_popularity &lt;dbl&gt; | Country_acousticness &lt;dbl&gt; | Country_danceability &lt;dbl&gt; | Country_duration_ms &lt;dbl&gt; | Country_energy &lt;dbl&gt; | Country_instrumentalness &lt;dbl&gt; | Country_liveness &lt;dbl&gt; | Country_loudness &lt;dbl&gt; | Country_speechiness &lt;dbl&gt; | Country_tempo &lt;dbl&gt; | Country_valence &lt;dbl&gt; |\n",
       "|---|---|---|---|---|---|---|---|---|---|---|---|\n",
       "| Country | 46.01537 | 0.2697455 | 0.5777167 | 195360.9 | 0.6389991 | 0.005343897 | 0.1890419 | -7.314064 | 0.04917278 | NA | 0.5373876 |\n",
       "\n"
      ],
      "text/plain": [
       "  music_genre Country_popularity Country_acousticness Country_danceability\n",
       "1 Country     46.01537           0.2697455            0.5777167           \n",
       "  Country_duration_ms Country_energy Country_instrumentalness Country_liveness\n",
       "1 195360.9            0.6389991      0.005343897              0.1890419       \n",
       "  Country_loudness Country_speechiness Country_tempo Country_valence\n",
       "1 -7.314064        0.04917278          NA            0.5373876      "
      ]
     },
     "metadata": {},
     "output_type": "display_data"
    },
    {
     "name": "stderr",
     "output_type": "stream",
     "text": [
      "`summarise()` ungrouping output (override with `.groups` argument)\n",
      "\n"
     ]
    },
    {
     "data": {
      "text/html": [
       "<table>\n",
       "<caption>A tibble: 1 × 12</caption>\n",
       "<thead>\n",
       "\t<tr><th scope=col>music_genre</th><th scope=col>Rap_popularity</th><th scope=col>Rap_acousticness</th><th scope=col>Rap_danceability</th><th scope=col>Rap_duration_ms</th><th scope=col>Rap_energy</th><th scope=col>Rap_instrumentalness</th><th scope=col>Rap_liveness</th><th scope=col>Rap_loudness</th><th scope=col>Rap_speechiness</th><th scope=col>Rap_tempo</th><th scope=col>Rap_valence</th></tr>\n",
       "\t<tr><th scope=col>&lt;fct&gt;</th><th scope=col>&lt;dbl&gt;</th><th scope=col>&lt;dbl&gt;</th><th scope=col>&lt;dbl&gt;</th><th scope=col>&lt;dbl&gt;</th><th scope=col>&lt;dbl&gt;</th><th scope=col>&lt;dbl&gt;</th><th scope=col>&lt;dbl&gt;</th><th scope=col>&lt;dbl&gt;</th><th scope=col>&lt;dbl&gt;</th><th scope=col>&lt;dbl&gt;</th><th scope=col>&lt;dbl&gt;</th></tr>\n",
       "</thead>\n",
       "<tbody>\n",
       "\t<tr><td>Rap</td><td>60.50616</td><td>0.166862</td><td>0.6959132</td><td>197533.3</td><td>0.6521835</td><td>0.009689477</td><td>0.1979709</td><td>-6.661606</td><td>0.1851919</td><td>NA</td><td>0.455214</td></tr>\n",
       "</tbody>\n",
       "</table>\n"
      ],
      "text/latex": [
       "A tibble: 1 × 12\n",
       "\\begin{tabular}{llllllllllll}\n",
       " music\\_genre & Rap\\_popularity & Rap\\_acousticness & Rap\\_danceability & Rap\\_duration\\_ms & Rap\\_energy & Rap\\_instrumentalness & Rap\\_liveness & Rap\\_loudness & Rap\\_speechiness & Rap\\_tempo & Rap\\_valence\\\\\n",
       " <fct> & <dbl> & <dbl> & <dbl> & <dbl> & <dbl> & <dbl> & <dbl> & <dbl> & <dbl> & <dbl> & <dbl>\\\\\n",
       "\\hline\n",
       "\t Rap & 60.50616 & 0.166862 & 0.6959132 & 197533.3 & 0.6521835 & 0.009689477 & 0.1979709 & -6.661606 & 0.1851919 & NA & 0.455214\\\\\n",
       "\\end{tabular}\n"
      ],
      "text/markdown": [
       "\n",
       "A tibble: 1 × 12\n",
       "\n",
       "| music_genre &lt;fct&gt; | Rap_popularity &lt;dbl&gt; | Rap_acousticness &lt;dbl&gt; | Rap_danceability &lt;dbl&gt; | Rap_duration_ms &lt;dbl&gt; | Rap_energy &lt;dbl&gt; | Rap_instrumentalness &lt;dbl&gt; | Rap_liveness &lt;dbl&gt; | Rap_loudness &lt;dbl&gt; | Rap_speechiness &lt;dbl&gt; | Rap_tempo &lt;dbl&gt; | Rap_valence &lt;dbl&gt; |\n",
       "|---|---|---|---|---|---|---|---|---|---|---|---|\n",
       "| Rap | 60.50616 | 0.166862 | 0.6959132 | 197533.3 | 0.6521835 | 0.009689477 | 0.1979709 | -6.661606 | 0.1851919 | NA | 0.455214 |\n",
       "\n"
      ],
      "text/plain": [
       "  music_genre Rap_popularity Rap_acousticness Rap_danceability Rap_duration_ms\n",
       "1 Rap         60.50616       0.166862         0.6959132        197533.3       \n",
       "  Rap_energy Rap_instrumentalness Rap_liveness Rap_loudness Rap_speechiness\n",
       "1 0.6521835  0.009689477          0.1979709    -6.661606    0.1851919      \n",
       "  Rap_tempo Rap_valence\n",
       "1 NA        0.455214   "
      ]
     },
     "metadata": {},
     "output_type": "display_data"
    },
    {
     "name": "stderr",
     "output_type": "stream",
     "text": [
      "`summarise()` ungrouping output (override with `.groups` argument)\n",
      "\n"
     ]
    },
    {
     "data": {
      "text/html": [
       "<table>\n",
       "<caption>A tibble: 1 × 12</caption>\n",
       "<thead>\n",
       "\t<tr><th scope=col>music_genre</th><th scope=col>Blues_popularity</th><th scope=col>Blues_acousticness</th><th scope=col>Blues_danceability</th><th scope=col>Blues_duration_ms</th><th scope=col>Blues_energy</th><th scope=col>Blues_instrumentalness</th><th scope=col>Blues_liveness</th><th scope=col>Blues_loudness</th><th scope=col>Blues_speechiness</th><th scope=col>Blues_tempo</th><th scope=col>Blues_valence</th></tr>\n",
       "\t<tr><th scope=col>&lt;fct&gt;</th><th scope=col>&lt;dbl&gt;</th><th scope=col>&lt;dbl&gt;</th><th scope=col>&lt;dbl&gt;</th><th scope=col>&lt;dbl&gt;</th><th scope=col>&lt;dbl&gt;</th><th scope=col>&lt;dbl&gt;</th><th scope=col>&lt;dbl&gt;</th><th scope=col>&lt;dbl&gt;</th><th scope=col>&lt;dbl&gt;</th><th scope=col>&lt;dbl&gt;</th><th scope=col>&lt;dbl&gt;</th></tr>\n",
       "</thead>\n",
       "<tbody>\n",
       "\t<tr><td>Blues</td><td>34.8108</td><td>0.3191697</td><td>0.5299766</td><td>228605.4</td><td>0.6082453</td><td>0.09277</td><td>0.2300204</td><td>-8.986918</td><td>0.06148356</td><td>NA</td><td>0.5804715</td></tr>\n",
       "</tbody>\n",
       "</table>\n"
      ],
      "text/latex": [
       "A tibble: 1 × 12\n",
       "\\begin{tabular}{llllllllllll}\n",
       " music\\_genre & Blues\\_popularity & Blues\\_acousticness & Blues\\_danceability & Blues\\_duration\\_ms & Blues\\_energy & Blues\\_instrumentalness & Blues\\_liveness & Blues\\_loudness & Blues\\_speechiness & Blues\\_tempo & Blues\\_valence\\\\\n",
       " <fct> & <dbl> & <dbl> & <dbl> & <dbl> & <dbl> & <dbl> & <dbl> & <dbl> & <dbl> & <dbl> & <dbl>\\\\\n",
       "\\hline\n",
       "\t Blues & 34.8108 & 0.3191697 & 0.5299766 & 228605.4 & 0.6082453 & 0.09277 & 0.2300204 & -8.986918 & 0.06148356 & NA & 0.5804715\\\\\n",
       "\\end{tabular}\n"
      ],
      "text/markdown": [
       "\n",
       "A tibble: 1 × 12\n",
       "\n",
       "| music_genre &lt;fct&gt; | Blues_popularity &lt;dbl&gt; | Blues_acousticness &lt;dbl&gt; | Blues_danceability &lt;dbl&gt; | Blues_duration_ms &lt;dbl&gt; | Blues_energy &lt;dbl&gt; | Blues_instrumentalness &lt;dbl&gt; | Blues_liveness &lt;dbl&gt; | Blues_loudness &lt;dbl&gt; | Blues_speechiness &lt;dbl&gt; | Blues_tempo &lt;dbl&gt; | Blues_valence &lt;dbl&gt; |\n",
       "|---|---|---|---|---|---|---|---|---|---|---|---|\n",
       "| Blues | 34.8108 | 0.3191697 | 0.5299766 | 228605.4 | 0.6082453 | 0.09277 | 0.2300204 | -8.986918 | 0.06148356 | NA | 0.5804715 |\n",
       "\n"
      ],
      "text/plain": [
       "  music_genre Blues_popularity Blues_acousticness Blues_danceability\n",
       "1 Blues       34.8108          0.3191697          0.5299766         \n",
       "  Blues_duration_ms Blues_energy Blues_instrumentalness Blues_liveness\n",
       "1 228605.4          0.6082453    0.09277                0.2300204     \n",
       "  Blues_loudness Blues_speechiness Blues_tempo Blues_valence\n",
       "1 -8.986918      0.06148356        NA          0.5804715    "
      ]
     },
     "metadata": {},
     "output_type": "display_data"
    },
    {
     "name": "stderr",
     "output_type": "stream",
     "text": [
      "`summarise()` ungrouping output (override with `.groups` argument)\n",
      "\n"
     ]
    },
    {
     "data": {
      "text/html": [
       "<table>\n",
       "<caption>A tibble: 1 × 12</caption>\n",
       "<thead>\n",
       "\t<tr><th scope=col>music_genre</th><th scope=col>Rock_popularity</th><th scope=col>Rock_acousticness</th><th scope=col>Rock_danceability</th><th scope=col>Rock_duration_ms</th><th scope=col>Rock_energy</th><th scope=col>Rock_instrumentalness</th><th scope=col>Rock_liveness</th><th scope=col>Rock_loudness</th><th scope=col>Rock_speechiness</th><th scope=col>Rock_tempo</th><th scope=col>Rock_valence</th></tr>\n",
       "\t<tr><th scope=col>&lt;fct&gt;</th><th scope=col>&lt;dbl&gt;</th><th scope=col>&lt;dbl&gt;</th><th scope=col>&lt;dbl&gt;</th><th scope=col>&lt;dbl&gt;</th><th scope=col>&lt;dbl&gt;</th><th scope=col>&lt;dbl&gt;</th><th scope=col>&lt;dbl&gt;</th><th scope=col>&lt;dbl&gt;</th><th scope=col>&lt;dbl&gt;</th><th scope=col>&lt;dbl&gt;</th><th scope=col>&lt;dbl&gt;</th></tr>\n",
       "</thead>\n",
       "<tbody>\n",
       "\t<tr><td>Rock</td><td>59.76483</td><td>0.1930964</td><td>0.5396689</td><td>213452.3</td><td>0.6894871</td><td>0.05411396</td><td>0.1848601</td><td>-7.231448</td><td>0.05347643</td><td>NA</td><td>0.5236499</td></tr>\n",
       "</tbody>\n",
       "</table>\n"
      ],
      "text/latex": [
       "A tibble: 1 × 12\n",
       "\\begin{tabular}{llllllllllll}\n",
       " music\\_genre & Rock\\_popularity & Rock\\_acousticness & Rock\\_danceability & Rock\\_duration\\_ms & Rock\\_energy & Rock\\_instrumentalness & Rock\\_liveness & Rock\\_loudness & Rock\\_speechiness & Rock\\_tempo & Rock\\_valence\\\\\n",
       " <fct> & <dbl> & <dbl> & <dbl> & <dbl> & <dbl> & <dbl> & <dbl> & <dbl> & <dbl> & <dbl> & <dbl>\\\\\n",
       "\\hline\n",
       "\t Rock & 59.76483 & 0.1930964 & 0.5396689 & 213452.3 & 0.6894871 & 0.05411396 & 0.1848601 & -7.231448 & 0.05347643 & NA & 0.5236499\\\\\n",
       "\\end{tabular}\n"
      ],
      "text/markdown": [
       "\n",
       "A tibble: 1 × 12\n",
       "\n",
       "| music_genre &lt;fct&gt; | Rock_popularity &lt;dbl&gt; | Rock_acousticness &lt;dbl&gt; | Rock_danceability &lt;dbl&gt; | Rock_duration_ms &lt;dbl&gt; | Rock_energy &lt;dbl&gt; | Rock_instrumentalness &lt;dbl&gt; | Rock_liveness &lt;dbl&gt; | Rock_loudness &lt;dbl&gt; | Rock_speechiness &lt;dbl&gt; | Rock_tempo &lt;dbl&gt; | Rock_valence &lt;dbl&gt; |\n",
       "|---|---|---|---|---|---|---|---|---|---|---|---|\n",
       "| Rock | 59.76483 | 0.1930964 | 0.5396689 | 213452.3 | 0.6894871 | 0.05411396 | 0.1848601 | -7.231448 | 0.05347643 | NA | 0.5236499 |\n",
       "\n"
      ],
      "text/plain": [
       "  music_genre Rock_popularity Rock_acousticness Rock_danceability\n",
       "1 Rock        59.76483        0.1930964         0.5396689        \n",
       "  Rock_duration_ms Rock_energy Rock_instrumentalness Rock_liveness\n",
       "1 213452.3         0.6894871   0.05411396            0.1848601    \n",
       "  Rock_loudness Rock_speechiness Rock_tempo Rock_valence\n",
       "1 -7.231448     0.05347643       NA         0.5236499   "
      ]
     },
     "metadata": {},
     "output_type": "display_data"
    },
    {
     "name": "stderr",
     "output_type": "stream",
     "text": [
      "`summarise()` ungrouping output (override with `.groups` argument)\n",
      "\n"
     ]
    },
    {
     "data": {
      "text/html": [
       "<table>\n",
       "<caption>A tibble: 1 × 12</caption>\n",
       "<thead>\n",
       "\t<tr><th scope=col>music_genre</th><th scope=col>Classical_popularity</th><th scope=col>Classical_acousticness</th><th scope=col>Classical_danceability</th><th scope=col>Classical_duration_ms</th><th scope=col>Classical_energy</th><th scope=col>Classical_instrumentalness</th><th scope=col>Classical_liveness</th><th scope=col>Classical_loudness</th><th scope=col>Classical_speechiness</th><th scope=col>Classical_tempo</th><th scope=col>Classical_valence</th></tr>\n",
       "\t<tr><th scope=col>&lt;fct&gt;</th><th scope=col>&lt;dbl&gt;</th><th scope=col>&lt;dbl&gt;</th><th scope=col>&lt;dbl&gt;</th><th scope=col>&lt;dbl&gt;</th><th scope=col>&lt;dbl&gt;</th><th scope=col>&lt;dbl&gt;</th><th scope=col>&lt;dbl&gt;</th><th scope=col>&lt;dbl&gt;</th><th scope=col>&lt;dbl&gt;</th><th scope=col>&lt;dbl&gt;</th><th scope=col>&lt;dbl&gt;</th></tr>\n",
       "</thead>\n",
       "<tbody>\n",
       "\t<tr><td>Classical</td><td>29.27873</td><td>0.8665176</td><td>0.3051441</td><td>280090.4</td><td>0.1780093</td><td>0.5964584</td><td>0.1617349</td><td>-21.50911</td><td>0.05125234</td><td>NA</td><td>0.2093356</td></tr>\n",
       "</tbody>\n",
       "</table>\n"
      ],
      "text/latex": [
       "A tibble: 1 × 12\n",
       "\\begin{tabular}{llllllllllll}\n",
       " music\\_genre & Classical\\_popularity & Classical\\_acousticness & Classical\\_danceability & Classical\\_duration\\_ms & Classical\\_energy & Classical\\_instrumentalness & Classical\\_liveness & Classical\\_loudness & Classical\\_speechiness & Classical\\_tempo & Classical\\_valence\\\\\n",
       " <fct> & <dbl> & <dbl> & <dbl> & <dbl> & <dbl> & <dbl> & <dbl> & <dbl> & <dbl> & <dbl> & <dbl>\\\\\n",
       "\\hline\n",
       "\t Classical & 29.27873 & 0.8665176 & 0.3051441 & 280090.4 & 0.1780093 & 0.5964584 & 0.1617349 & -21.50911 & 0.05125234 & NA & 0.2093356\\\\\n",
       "\\end{tabular}\n"
      ],
      "text/markdown": [
       "\n",
       "A tibble: 1 × 12\n",
       "\n",
       "| music_genre &lt;fct&gt; | Classical_popularity &lt;dbl&gt; | Classical_acousticness &lt;dbl&gt; | Classical_danceability &lt;dbl&gt; | Classical_duration_ms &lt;dbl&gt; | Classical_energy &lt;dbl&gt; | Classical_instrumentalness &lt;dbl&gt; | Classical_liveness &lt;dbl&gt; | Classical_loudness &lt;dbl&gt; | Classical_speechiness &lt;dbl&gt; | Classical_tempo &lt;dbl&gt; | Classical_valence &lt;dbl&gt; |\n",
       "|---|---|---|---|---|---|---|---|---|---|---|---|\n",
       "| Classical | 29.27873 | 0.8665176 | 0.3051441 | 280090.4 | 0.1780093 | 0.5964584 | 0.1617349 | -21.50911 | 0.05125234 | NA | 0.2093356 |\n",
       "\n"
      ],
      "text/plain": [
       "  music_genre Classical_popularity Classical_acousticness\n",
       "1 Classical   29.27873             0.8665176             \n",
       "  Classical_danceability Classical_duration_ms Classical_energy\n",
       "1 0.3051441              280090.4              0.1780093       \n",
       "  Classical_instrumentalness Classical_liveness Classical_loudness\n",
       "1 0.5964584                  0.1617349          -21.50911         \n",
       "  Classical_speechiness Classical_tempo Classical_valence\n",
       "1 0.05125234            NA              0.2093356        "
      ]
     },
     "metadata": {},
     "output_type": "display_data"
    },
    {
     "name": "stderr",
     "output_type": "stream",
     "text": [
      "`summarise()` ungrouping output (override with `.groups` argument)\n",
      "\n"
     ]
    },
    {
     "data": {
      "text/html": [
       "<table>\n",
       "<caption>A tibble: 1 × 12</caption>\n",
       "<thead>\n",
       "\t<tr><th scope=col>music_genre</th><th scope=col>Hip_Hop_popularity</th><th scope=col>Hip_Hop_acousticness</th><th scope=col>Hip_Hop_danceability</th><th scope=col>Hip_Hop_duration_ms</th><th scope=col>Hip_Hop_energy</th><th scope=col>Hip_Hop_instrumentalness</th><th scope=col>Hip_Hop_liveness</th><th scope=col>Hip_Hop_loudness</th><th scope=col>Hip_Hop_speechiness</th><th scope=col>Hip_Hop_tempo</th><th scope=col>Hip_Hop_valence</th></tr>\n",
       "\t<tr><th scope=col>&lt;fct&gt;</th><th scope=col>&lt;dbl&gt;</th><th scope=col>&lt;dbl&gt;</th><th scope=col>&lt;dbl&gt;</th><th scope=col>&lt;dbl&gt;</th><th scope=col>&lt;dbl&gt;</th><th scope=col>&lt;dbl&gt;</th><th scope=col>&lt;dbl&gt;</th><th scope=col>&lt;dbl&gt;</th><th scope=col>&lt;dbl&gt;</th><th scope=col>&lt;dbl&gt;</th><th scope=col>&lt;dbl&gt;</th></tr>\n",
       "</thead>\n",
       "<tbody>\n",
       "\t<tr><td>Hip-Hop</td><td>58.41726</td><td>0.1821576</td><td>0.7176964</td><td>199432.5</td><td>0.6435902</td><td>0.01045757</td><td>0.1994928</td><td>-6.853282</td><td>0.2084004</td><td>NA</td><td>0.4767007</td></tr>\n",
       "</tbody>\n",
       "</table>\n"
      ],
      "text/latex": [
       "A tibble: 1 × 12\n",
       "\\begin{tabular}{llllllllllll}\n",
       " music\\_genre & Hip\\_Hop\\_popularity & Hip\\_Hop\\_acousticness & Hip\\_Hop\\_danceability & Hip\\_Hop\\_duration\\_ms & Hip\\_Hop\\_energy & Hip\\_Hop\\_instrumentalness & Hip\\_Hop\\_liveness & Hip\\_Hop\\_loudness & Hip\\_Hop\\_speechiness & Hip\\_Hop\\_tempo & Hip\\_Hop\\_valence\\\\\n",
       " <fct> & <dbl> & <dbl> & <dbl> & <dbl> & <dbl> & <dbl> & <dbl> & <dbl> & <dbl> & <dbl> & <dbl>\\\\\n",
       "\\hline\n",
       "\t Hip-Hop & 58.41726 & 0.1821576 & 0.7176964 & 199432.5 & 0.6435902 & 0.01045757 & 0.1994928 & -6.853282 & 0.2084004 & NA & 0.4767007\\\\\n",
       "\\end{tabular}\n"
      ],
      "text/markdown": [
       "\n",
       "A tibble: 1 × 12\n",
       "\n",
       "| music_genre &lt;fct&gt; | Hip_Hop_popularity &lt;dbl&gt; | Hip_Hop_acousticness &lt;dbl&gt; | Hip_Hop_danceability &lt;dbl&gt; | Hip_Hop_duration_ms &lt;dbl&gt; | Hip_Hop_energy &lt;dbl&gt; | Hip_Hop_instrumentalness &lt;dbl&gt; | Hip_Hop_liveness &lt;dbl&gt; | Hip_Hop_loudness &lt;dbl&gt; | Hip_Hop_speechiness &lt;dbl&gt; | Hip_Hop_tempo &lt;dbl&gt; | Hip_Hop_valence &lt;dbl&gt; |\n",
       "|---|---|---|---|---|---|---|---|---|---|---|---|\n",
       "| Hip-Hop | 58.41726 | 0.1821576 | 0.7176964 | 199432.5 | 0.6435902 | 0.01045757 | 0.1994928 | -6.853282 | 0.2084004 | NA | 0.4767007 |\n",
       "\n"
      ],
      "text/plain": [
       "  music_genre Hip_Hop_popularity Hip_Hop_acousticness Hip_Hop_danceability\n",
       "1 Hip-Hop     58.41726           0.1821576            0.7176964           \n",
       "  Hip_Hop_duration_ms Hip_Hop_energy Hip_Hop_instrumentalness Hip_Hop_liveness\n",
       "1 199432.5            0.6435902      0.01045757               0.1994928       \n",
       "  Hip_Hop_loudness Hip_Hop_speechiness Hip_Hop_tempo Hip_Hop_valence\n",
       "1 -6.853282        0.2084004           NA            0.4767007      "
      ]
     },
     "metadata": {},
     "output_type": "display_data"
    }
   ],
   "source": [
    "### Table for each Genre\n",
    "Electronic <- data_train %>%\n",
    "                filter(music_genre == \"Electronic\") %>%\n",
    "                group_by(music_genre) %>%\n",
    "                summarize(Electronic_popularity = mean(popularity, na.ra = True),\n",
    "                         Electronic_acousticness = mean(acousticness, na.ra = True),\n",
    "                         Electronic_danceability = mean(danceability, na.ra = True),\n",
    "                         Electronic_duration_ms = mean(duration_ms, na.ra = True),\n",
    "                         Electronic_energy = mean(energy, na.ra = True),\n",
    "                         Electronic_instrumentalness = mean(instrumentalness, na.ra = True),\n",
    "                         Electronic_liveness = mean(liveness, na.ra = True),\n",
    "                         Electronic_loudness = mean(loudness, na.ra = True),\n",
    "                         Electronic_speechiness = mean(speechiness, na.ra = True),\n",
    "                         Electronic_tempo = mean(tempo, na.ra = True),\n",
    "                         Electronic_valence = mean(valence, na.ra = True))\n",
    "Electronic\n",
    "\n",
    "Anime <- data_train %>%\n",
    "                filter(music_genre == \"Anime\") %>%\n",
    "                group_by(music_genre) %>%\n",
    "                summarize(Anime_popularity = mean(popularity, na.ra = True),\n",
    "                         Anime_acousticness = mean(acousticness, na.ra = True),\n",
    "                         Anime_danceability = mean(danceability, na.ra = True),\n",
    "                         Anime_duration_ms = mean(duration_ms, na.ra = True),\n",
    "                         Anime_energy = mean(energy, na.ra = True),\n",
    "                         Anime_instrumentalness = mean(instrumentalness, na.ra = True),\n",
    "                         Anime_liveness = mean(liveness, na.ra = True),\n",
    "                         Anime_loudness = mean(loudness, na.ra = True),\n",
    "                         Anime_speechiness = mean(speechiness, na.ra = True),\n",
    "                         Anime_tempo = mean(tempo, na.ra = True),\n",
    "                         Anime_valence = mean(valence, na.ra = True))\n",
    "Anime\n",
    "\n",
    "Jazz <- data_train %>%\n",
    "                filter(music_genre == \"Jazz\") %>%\n",
    "                group_by(music_genre) %>%\n",
    "                summarize(Jazz_popularity = mean(popularity, na.ra = True),\n",
    "                         Jazz_acousticness = mean(acousticness, na.ra = True),\n",
    "                         Jazz_danceability = mean(danceability, na.ra = True),\n",
    "                         Jazz_duration_ms = mean(duration_ms, na.ra = True),\n",
    "                         Jazz_energy = mean(energy, na.ra = True),\n",
    "                         Jazz_instrumentalness = mean(instrumentalness, na.ra = True),\n",
    "                         Jazz_liveness = mean(liveness, na.ra = True),\n",
    "                         Jazz_loudness = mean(loudness, na.ra = True),\n",
    "                         Jazz_speechiness = mean(speechiness, na.ra = True),\n",
    "                         Jazz_tempo = mean(tempo, na.ra = True),\n",
    "                         Jazz_valence = mean(valence, na.ra = True))\n",
    "Jazz\n",
    "\n",
    "Alternative <- data_train %>%\n",
    "                filter(music_genre == \"Alternative\") %>%\n",
    "                group_by(music_genre) %>%\n",
    "                summarize(Alternative_popularity = mean(popularity, na.ra = True),\n",
    "                         Alternative_acousticness = mean(acousticness, na.ra = True),\n",
    "                         Alternative_danceability = mean(danceability, na.ra = True),\n",
    "                         Alternative_duration_ms = mean(duration_ms, na.ra = True),\n",
    "                         Alternative_energy = mean(energy, na.ra = True),\n",
    "                         Alternative_instrumentalness = mean(instrumentalness, na.ra = True),\n",
    "                         Alternative_liveness = mean(liveness, na.ra = True),\n",
    "                         Alternative_loudness = mean(loudness, na.ra = True),\n",
    "                         Alternative_speechiness = mean(speechiness, na.ra = True),\n",
    "                         Alternative_tempo = mean(tempo, na.ra = True),\n",
    "                         Alternative_valence = mean(valence, na.ra = True))\n",
    "Alternative\n",
    "\n",
    "Country <- data_train %>%\n",
    "                filter(music_genre == \"Country\") %>%\n",
    "                group_by(music_genre) %>%\n",
    "                summarize(Country_popularity = mean(popularity, na.ra = True),\n",
    "                         Country_acousticness = mean(acousticness, na.ra = True),\n",
    "                         Country_danceability = mean(danceability, na.ra = True),\n",
    "                         Country_duration_ms = mean(duration_ms, na.ra = True),\n",
    "                         Country_energy = mean(energy, na.ra = True),\n",
    "                         Country_instrumentalness = mean(instrumentalness, na.ra = True),\n",
    "                         Country_liveness = mean(liveness, na.ra = True),\n",
    "                         Country_loudness = mean(loudness, na.ra = True),\n",
    "                         Country_speechiness = mean(speechiness, na.ra = True),\n",
    "                         Country_tempo = mean(tempo, na.ra = True),\n",
    "                         Country_valence = mean(valence, na.ra = True))\n",
    "Country\n",
    "\n",
    "Rap <- data_train %>%\n",
    "                filter(music_genre == \"Rap\") %>%\n",
    "                group_by(music_genre) %>%\n",
    "                summarize(Rap_popularity = mean(popularity, na.ra = True),\n",
    "                         Rap_acousticness = mean(acousticness, na.ra = True),\n",
    "                         Rap_danceability = mean(danceability, na.ra = True),\n",
    "                         Rap_duration_ms = mean(duration_ms, na.ra = True),\n",
    "                         Rap_energy = mean(energy, na.ra = True),\n",
    "                         Rap_instrumentalness = mean(instrumentalness, na.ra = True),\n",
    "                         Rap_liveness = mean(liveness, na.ra = True),\n",
    "                         Rap_loudness = mean(loudness, na.ra = True),\n",
    "                         Rap_speechiness = mean(speechiness, na.ra = True),\n",
    "                         Rap_tempo = mean(tempo, na.ra = True),\n",
    "                         Rap_valence = mean(valence, na.ra = True))\n",
    "Rap\n",
    "\n",
    "Blues <- data_train %>%\n",
    "                filter(music_genre == \"Blues\") %>%\n",
    "                group_by(music_genre) %>%\n",
    "                summarize(Blues_popularity = mean(popularity, na.ra = True),\n",
    "                         Blues_acousticness = mean(acousticness, na.ra = True),\n",
    "                         Blues_danceability = mean(danceability, na.ra = True),\n",
    "                         Blues_duration_ms = mean(duration_ms, na.ra = True),\n",
    "                         Blues_energy = mean(energy, na.ra = True),\n",
    "                         Blues_instrumentalness = mean(instrumentalness, na.ra = True),\n",
    "                         Blues_liveness = mean(liveness, na.ra = True),\n",
    "                         Blues_loudness = mean(loudness, na.ra = True),\n",
    "                         Blues_speechiness = mean(speechiness, na.ra = True),\n",
    "                         Blues_tempo = mean(tempo, na.ra = True),\n",
    "                         Blues_valence = mean(valence, na.ra = True))\n",
    "Blues\n",
    "\n",
    "Rock <- data_train %>%\n",
    "                filter(music_genre == \"Rock\") %>%\n",
    "                group_by(music_genre) %>%\n",
    "                summarize(Rock_popularity = mean(popularity, na.ra = True),\n",
    "                         Rock_acousticness = mean(acousticness, na.ra = True),\n",
    "                         Rock_danceability = mean(danceability, na.ra = True),\n",
    "                         Rock_duration_ms = mean(duration_ms, na.ra = True),\n",
    "                         Rock_energy = mean(energy, na.ra = True),\n",
    "                         Rock_instrumentalness = mean(instrumentalness, na.ra = True),\n",
    "                         Rock_liveness = mean(liveness, na.ra = True),\n",
    "                         Rock_loudness = mean(loudness, na.ra = True),\n",
    "                         Rock_speechiness = mean(speechiness, na.ra = True),\n",
    "                         Rock_tempo = mean(tempo, na.ra = True),\n",
    "                         Rock_valence = mean(valence, na.ra = True))\n",
    "Rock\n",
    "\n",
    "Classical <- data_train %>%\n",
    "                filter(music_genre == \"Classical\") %>%\n",
    "                group_by(music_genre) %>%\n",
    "                summarize(Classical_popularity = mean(popularity, na.ra = True),\n",
    "                         Classical_acousticness = mean(acousticness, na.ra = True),\n",
    "                         Classical_danceability = mean(danceability, na.ra = True),\n",
    "                         Classical_duration_ms = mean(duration_ms, na.ra = True),\n",
    "                         Classical_energy = mean(energy, na.ra = True),\n",
    "                         Classical_instrumentalness = mean(instrumentalness, na.ra = True),\n",
    "                         Classical_liveness = mean(liveness, na.ra = True),\n",
    "                         Classical_loudness = mean(loudness, na.ra = True),\n",
    "                         Classical_speechiness = mean(speechiness, na.ra = True),\n",
    "                         Classical_tempo = mean(tempo, na.ra = True),\n",
    "                         Classical_valence = mean(valence, na.ra = True))\n",
    "Classical\n",
    "\n",
    "Hip_Hop <- data_train %>%\n",
    "                filter(music_genre == \"Hip-Hop\") %>%\n",
    "                group_by(music_genre) %>%\n",
    "                summarize(Hip_Hop_popularity = mean(popularity, na.ra = True),\n",
    "                         Hip_Hop_acousticness = mean(acousticness, na.ra = True),\n",
    "                         Hip_Hop_danceability = mean(danceability, na.ra = True),\n",
    "                         Hip_Hop_duration_ms = mean(duration_ms, na.ra = True),\n",
    "                         Hip_Hop_energy = mean(energy, na.ra = True),\n",
    "                         Hip_Hop_instrumentalness = mean(instrumentalness, na.ra = True),\n",
    "                         Hip_Hop_liveness = mean(liveness, na.ra = True),\n",
    "                         Hip_Hop_loudness = mean(loudness, na.ra = True),\n",
    "                         Hip_Hop_speechiness = mean(speechiness, na.ra = True),\n",
    "                         Hip_Hop_tempo = mean(tempo, na.ra = True),\n",
    "                         Hip_Hop_valence = mean(valence, na.ra = True))\n",
    "Hip_Hop"
   ]
  },
  {
   "cell_type": "code",
   "execution_count": 9,
   "metadata": {},
   "outputs": [
    {
     "data": {
      "image/png": "[encoded data removed]",
      "text/plain": [
       "plot without title"
      ]
     },
     "metadata": {
      "image/png": {
       "height": 420,
       "width": 420
      }
     },
     "output_type": "display_data"
    }
   ],
   "source": [
    "# proportion of music genre by mode(major, minor)\n",
    "mode_proportion_plot <- data_train %>%\n",
    "ggplot(aes(x = mode, fill = music_genre))+\n",
    "geom_bar(position = \"fill\")+\n",
    "labs(x = \"Mode\", y = \"Proportion of music genre\", fill = \"music_genre\") +\n",
    "ggtitle(\"Proportion of music genre by mode(major, minor)\")\n",
    "mode_proportion_plot"
   ]
  },
  {
   "cell_type": "code",
   "execution_count": null,
   "metadata": {},
   "outputs": [],
   "source": []
  }
 ],
 "metadata": {
  "kernelspec": {
   "display_name": "R",
   "language": "R",
   "name": "ir"
  },
  "language_info": {
   "codemirror_mode": "r",
   "file_extension": ".r",
   "mimetype": "text/x-r-source",
   "name": "R",
   "pygments_lexer": "r",
   "version": "4.0.0"
  }
 },
 "nbformat": 4,
 "nbformat_minor": 4
}
