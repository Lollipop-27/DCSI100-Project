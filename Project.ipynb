{
 "cells": [
  {
   "cell_type": "markdown",
   "metadata": {},
   "source": [
    "## Guess the Genre!\n",
    "k-nn Classification on Spotify songs based on their numerical statistics."
   ]
  },
  {
   "cell_type": "markdown",
   "metadata": {},
   "source": [
    "## Introduction"
   ]
  },
  {
   "cell_type": "markdown",
   "metadata": {},
   "source": [
    "provide some relevant background information on the topic so that someone unfamiliar with it will be prepared to understand the rest of your report</br>\n",
    "clearly state the question you tried to answer with your project</br>\n",
    "identify and describe the dataset that was used to answer the question</br>"
   ]
  },
  {
   "cell_type": "markdown",
   "metadata": {},
   "source": [
    "### Methods & Results"
   ]
  },
  {
   "cell_type": "code",
   "execution_count": 191,
   "metadata": {},
   "outputs": [],
   "source": [
    "### Loading Libraries into R\n",
    "### Run this cell before continuing.\n",
    "library(repr)\n",
    "library(tidyverse)\n",
    "library(tidymodels)\n",
    "options(repr.matrix.max.rows = 6)"
   ]
  },
  {
   "cell_type": "markdown",
   "metadata": {},
   "source": [
    "**1. Loading the Data** </br>\n",
    "The data, originally sourced from Kaggle, is loaded in from an online source."
   ]
  },
  {
   "cell_type": "code",
   "execution_count": 134,
   "metadata": {},
   "outputs": [
    {
     "name": "stderr",
     "output_type": "stream",
     "text": [
      "Parsed with column specification:\n",
      "cols(\n",
      "  instance_id = \u001b[32mcol_double()\u001b[39m,\n",
      "  artist_name = \u001b[31mcol_character()\u001b[39m,\n",
      "  track_name = \u001b[31mcol_character()\u001b[39m,\n",
      "  popularity = \u001b[32mcol_double()\u001b[39m,\n",
      "  acousticness = \u001b[32mcol_double()\u001b[39m,\n",
      "  danceability = \u001b[32mcol_double()\u001b[39m,\n",
      "  duration_ms = \u001b[32mcol_double()\u001b[39m,\n",
      "  energy = \u001b[32mcol_double()\u001b[39m,\n",
      "  instrumentalness = \u001b[32mcol_double()\u001b[39m,\n",
      "  key = \u001b[31mcol_character()\u001b[39m,\n",
      "  liveness = \u001b[32mcol_double()\u001b[39m,\n",
      "  loudness = \u001b[32mcol_double()\u001b[39m,\n",
      "  mode = \u001b[31mcol_character()\u001b[39m,\n",
      "  speechiness = \u001b[32mcol_double()\u001b[39m,\n",
      "  tempo = \u001b[31mcol_character()\u001b[39m,\n",
      "  obtained_date = \u001b[31mcol_character()\u001b[39m,\n",
      "  valence = \u001b[32mcol_double()\u001b[39m,\n",
      "  music_genre = \u001b[31mcol_character()\u001b[39m\n",
      ")\n",
      "\n"
     ]
    }
   ],
   "source": [
    "raw_data <- read_csv(\"https://raw.githubusercontent.com/Lollipop-27/DCSI100-Project/main/data/music_genre.csv\")"
   ]
  },
  {
   "cell_type": "markdown",
   "metadata": {},
   "source": [
    "**2. Wrangling & Cleaning the Data** </br>\n",
    "The data has a few rows with missing N/A values. We remove them using na.omit(). The raw data set we selected has about 50,000 rows, whose excessive size is a serious limitation on performance and causes minute-long load times. For sake of reasonable computation time and after discussion with the teaching assistant, we chose use group_by() and sample_n() to randomly select 1000 rows from each of the 10 genres, for a total of 10,000 rows."
   ]
  },
  {
   "cell_type": "code",
   "execution_count": 186,
   "metadata": {},
   "outputs": [],
   "source": [
    "set.seed(1234)\n",
    "\n",
    "clean_data <- raw_data %>%\n",
    "            na.omit() %>%\n",
    "            group_by(music_genre) %>%\n",
    "            sample_n(1000)"
   ]
  },
  {
   "cell_type": "markdown",
   "metadata": {},
   "source": [
    "Some columns are unusable for predicting genre because kknn classification requires numerical predictors. We used select() to remove all character columns excluding the music_genre column, which we used mutate() to turn into factors.\n",
    "\n",
    "A usable column with numerical values, tempo, is incorrectly stored as a character column. We use mutate() to turn it into a double. Of the remaining columns, instance_id, key, and obtained_date are identification are numerical, but do not contribute to predicting the genre. We used select() to remove these 3 columns."
   ]
  },
  {
   "cell_type": "code",
   "execution_count": 187,
   "metadata": {},
   "outputs": [
    {
     "data": {
      "text/html": [
       "<table>\n",
       "<caption>A grouped_df: 10000 × 13</caption>\n",
       "<thead>\n",
       "\t<tr><th scope=col>popularity</th><th scope=col>acousticness</th><th scope=col>danceability</th><th scope=col>duration_ms</th><th scope=col>energy</th><th scope=col>instrumentalness</th><th scope=col>liveness</th><th scope=col>loudness</th><th scope=col>mode</th><th scope=col>speechiness</th><th scope=col>tempo</th><th scope=col>valence</th><th scope=col>music_genre</th></tr>\n",
       "\t<tr><th scope=col>&lt;dbl&gt;</th><th scope=col>&lt;dbl&gt;</th><th scope=col>&lt;dbl&gt;</th><th scope=col>&lt;dbl&gt;</th><th scope=col>&lt;dbl&gt;</th><th scope=col>&lt;dbl&gt;</th><th scope=col>&lt;dbl&gt;</th><th scope=col>&lt;dbl&gt;</th><th scope=col>&lt;fct&gt;</th><th scope=col>&lt;dbl&gt;</th><th scope=col>&lt;chr&gt;</th><th scope=col>&lt;dbl&gt;</th><th scope=col>&lt;fct&gt;</th></tr>\n",
       "</thead>\n",
       "<tbody>\n",
       "\t<tr><td>46</td><td>0.00468</td><td>0.496</td><td>228627</td><td>0.675</td><td>1.16e-05</td><td>0.114</td><td>-6.155</td><td>Major</td><td>0.0280</td><td>153.988</td><td>0.493</td><td>Alternative</td></tr>\n",
       "\t<tr><td>42</td><td>0.00953</td><td>0.557</td><td>143525</td><td>0.931</td><td>0.00e+00</td><td>0.319</td><td>-3.499</td><td>Minor</td><td>0.2820</td><td>137.976</td><td>0.616</td><td>Alternative</td></tr>\n",
       "\t<tr><td>44</td><td>0.01290</td><td>0.480</td><td>241200</td><td>0.923</td><td>6.28e-05</td><td>0.117</td><td>-4.062</td><td>Major</td><td>0.0382</td><td>134.304</td><td>0.434</td><td>Alternative</td></tr>\n",
       "\t<tr><td>⋮</td><td>⋮</td><td>⋮</td><td>⋮</td><td>⋮</td><td>⋮</td><td>⋮</td><td>⋮</td><td>⋮</td><td>⋮</td><td>⋮</td><td>⋮</td><td>⋮</td></tr>\n",
       "\t<tr><td>62</td><td>0.00746</td><td>0.530</td><td>226867</td><td>0.972</td><td>1.19e-03</td><td>0.356</td><td> -2.826</td><td>Minor</td><td>0.1090</td><td>136.001</td><td>0.5180</td><td>Rock</td></tr>\n",
       "\t<tr><td>62</td><td>0.01280</td><td>0.214</td><td>175778</td><td>0.148</td><td>5.80e-02</td><td>0.113</td><td>-17.775</td><td>Major</td><td>0.0370</td><td>46.591 </td><td>0.0277</td><td>Rock</td></tr>\n",
       "\t<tr><td>61</td><td>0.82100</td><td>0.642</td><td>148867</td><td>0.462</td><td>2.55e-06</td><td>0.106</td><td> -8.026</td><td>Major</td><td>0.0294</td><td>130.018</td><td>0.4840</td><td>Rock</td></tr>\n",
       "</tbody>\n",
       "</table>\n"
      ],
      "text/latex": [
       "A grouped\\_df: 10000 × 13\n",
       "\\begin{tabular}{lllllllllllll}\n",
       " popularity & acousticness & danceability & duration\\_ms & energy & instrumentalness & liveness & loudness & mode & speechiness & tempo & valence & music\\_genre\\\\\n",
       " <dbl> & <dbl> & <dbl> & <dbl> & <dbl> & <dbl> & <dbl> & <dbl> & <fct> & <dbl> & <chr> & <dbl> & <fct>\\\\\n",
       "\\hline\n",
       "\t 46 & 0.00468 & 0.496 & 228627 & 0.675 & 1.16e-05 & 0.114 & -6.155 & Major & 0.0280 & 153.988 & 0.493 & Alternative\\\\\n",
       "\t 42 & 0.00953 & 0.557 & 143525 & 0.931 & 0.00e+00 & 0.319 & -3.499 & Minor & 0.2820 & 137.976 & 0.616 & Alternative\\\\\n",
       "\t 44 & 0.01290 & 0.480 & 241200 & 0.923 & 6.28e-05 & 0.117 & -4.062 & Major & 0.0382 & 134.304 & 0.434 & Alternative\\\\\n",
       "\t ⋮ & ⋮ & ⋮ & ⋮ & ⋮ & ⋮ & ⋮ & ⋮ & ⋮ & ⋮ & ⋮ & ⋮ & ⋮\\\\\n",
       "\t 62 & 0.00746 & 0.530 & 226867 & 0.972 & 1.19e-03 & 0.356 &  -2.826 & Minor & 0.1090 & 136.001 & 0.5180 & Rock\\\\\n",
       "\t 62 & 0.01280 & 0.214 & 175778 & 0.148 & 5.80e-02 & 0.113 & -17.775 & Major & 0.0370 & 46.591  & 0.0277 & Rock\\\\\n",
       "\t 61 & 0.82100 & 0.642 & 148867 & 0.462 & 2.55e-06 & 0.106 &  -8.026 & Major & 0.0294 & 130.018 & 0.4840 & Rock\\\\\n",
       "\\end{tabular}\n"
      ],
      "text/markdown": [
       "\n",
       "A grouped_df: 10000 × 13\n",
       "\n",
       "| popularity &lt;dbl&gt; | acousticness &lt;dbl&gt; | danceability &lt;dbl&gt; | duration_ms &lt;dbl&gt; | energy &lt;dbl&gt; | instrumentalness &lt;dbl&gt; | liveness &lt;dbl&gt; | loudness &lt;dbl&gt; | mode &lt;fct&gt; | speechiness &lt;dbl&gt; | tempo &lt;chr&gt; | valence &lt;dbl&gt; | music_genre &lt;fct&gt; |\n",
       "|---|---|---|---|---|---|---|---|---|---|---|---|---|\n",
       "| 46 | 0.00468 | 0.496 | 228627 | 0.675 | 1.16e-05 | 0.114 | -6.155 | Major | 0.0280 | 153.988 | 0.493 | Alternative |\n",
       "| 42 | 0.00953 | 0.557 | 143525 | 0.931 | 0.00e+00 | 0.319 | -3.499 | Minor | 0.2820 | 137.976 | 0.616 | Alternative |\n",
       "| 44 | 0.01290 | 0.480 | 241200 | 0.923 | 6.28e-05 | 0.117 | -4.062 | Major | 0.0382 | 134.304 | 0.434 | Alternative |\n",
       "| ⋮ | ⋮ | ⋮ | ⋮ | ⋮ | ⋮ | ⋮ | ⋮ | ⋮ | ⋮ | ⋮ | ⋮ | ⋮ |\n",
       "| 62 | 0.00746 | 0.530 | 226867 | 0.972 | 1.19e-03 | 0.356 |  -2.826 | Minor | 0.1090 | 136.001 | 0.5180 | Rock |\n",
       "| 62 | 0.01280 | 0.214 | 175778 | 0.148 | 5.80e-02 | 0.113 | -17.775 | Major | 0.0370 | 46.591  | 0.0277 | Rock |\n",
       "| 61 | 0.82100 | 0.642 | 148867 | 0.462 | 2.55e-06 | 0.106 |  -8.026 | Major | 0.0294 | 130.018 | 0.4840 | Rock |\n",
       "\n"
      ],
      "text/plain": [
       "      popularity acousticness danceability duration_ms energy instrumentalness\n",
       "1     46         0.00468      0.496        228627      0.675  1.16e-05        \n",
       "2     42         0.00953      0.557        143525      0.931  0.00e+00        \n",
       "3     44         0.01290      0.480        241200      0.923  6.28e-05        \n",
       "⋮     ⋮          ⋮            ⋮            ⋮           ⋮      ⋮               \n",
       "9998  62         0.00746      0.530        226867      0.972  1.19e-03        \n",
       "9999  62         0.01280      0.214        175778      0.148  5.80e-02        \n",
       "10000 61         0.82100      0.642        148867      0.462  2.55e-06        \n",
       "      liveness loudness mode  speechiness tempo   valence music_genre\n",
       "1     0.114    -6.155   Major 0.0280      153.988 0.493   Alternative\n",
       "2     0.319    -3.499   Minor 0.2820      137.976 0.616   Alternative\n",
       "3     0.117    -4.062   Major 0.0382      134.304 0.434   Alternative\n",
       "⋮     ⋮        ⋮        ⋮     ⋮           ⋮       ⋮       ⋮          \n",
       "9998  0.356     -2.826  Minor 0.1090      136.001 0.5180  Rock       \n",
       "9999  0.113    -17.775  Major 0.0370      46.591  0.0277  Rock       \n",
       "10000 0.106     -8.026  Major 0.0294      130.018 0.4840  Rock       "
      ]
     },
     "metadata": {},
     "output_type": "display_data"
    }
   ],
   "source": [
    "# Removing the columns we don't need\n",
    "selected_data <- clean_data %>%\n",
    "                mutate(mode = as.factor(mode), music_genre = as.factor(music_genre)) %>%\n",
    "                select(-instance_id, -key,-obtained_date, -artist_name, -track_name)\n",
    "\n",
    "selected_data"
   ]
  },
  {
   "cell_type": "markdown",
   "metadata": {},
   "source": [
    "We now split the data into our training and testing sets."
   ]
  },
  {
   "cell_type": "code",
   "execution_count": 188,
   "metadata": {},
   "outputs": [],
   "source": [
    "data_split <- initial_split(selected_data, prop = 0.75, strata = music_genre) \n",
    "data_train <- training(data_split)\n",
    "data_test <- testing(data_split)"
   ]
  },
  {
   "cell_type": "markdown",
   "metadata": {},
   "source": [
    "**3. Exploratory Analysis (@Angela this is the part Im not sure about)** </br>"
   ]
  },
  {
   "cell_type": "code",
   "execution_count": 138,
   "metadata": {},
   "outputs": [],
   "source": [
    "# ### Table for each Genre\n",
    "# Electronic <- data_train %>%\n",
    "#                 filter(music_genre == \"Electronic\") %>%\n",
    "#                 group_by(music_genre) %>%\n",
    "#                 summarize(Electronic_popularity = mean(popularity, na.ra = True),\n",
    "#                          Electronic_acousticness = mean(acousticness, na.ra = True),\n",
    "#                          Electronic_danceability = mean(danceability, na.ra = True),\n",
    "#                          Electronic_duration_ms = mean(duration_ms, na.ra = True),\n",
    "#                          Electronic_energy = mean(energy, na.ra = True),\n",
    "#                          Electronic_instrumentalness = mean(instrumentalness, na.ra = True),\n",
    "#                          Electronic_liveness = mean(liveness, na.ra = True),\n",
    "#                          Electronic_loudness = mean(loudness, na.ra = True),\n",
    "#                          Electronic_speechiness = mean(speechiness, na.ra = True),\n",
    "#                          Electronic_tempo = mean(tempo, na.ra = True),\n",
    "#                          Electronic_valence = mean(valence, na.ra = True))\n",
    "# Electronic\n",
    "\n",
    "# Anime <- data_train %>%\n",
    "#                 filter(music_genre == \"Anime\") %>%\n",
    "#                 group_by(music_genre) %>%\n",
    "#                 summarize(Anime_popularity = mean(popularity, na.ra = True),\n",
    "#                          Anime_acousticness = mean(acousticness, na.ra = True),\n",
    "#                          Anime_danceability = mean(danceability, na.ra = True),\n",
    "#                          Anime_duration_ms = mean(duration_ms, na.ra = True),\n",
    "#                          Anime_energy = mean(energy, na.ra = True),\n",
    "#                          Anime_instrumentalness = mean(instrumentalness, na.ra = True),\n",
    "#                          Anime_liveness = mean(liveness, na.ra = True),\n",
    "#                          Anime_loudness = mean(loudness, na.ra = True),\n",
    "#                          Anime_speechiness = mean(speechiness, na.ra = True),\n",
    "#                          Anime_tempo = mean(tempo, na.ra = True),\n",
    "#                          Anime_valence = mean(valence, na.ra = True))\n",
    "# Anime\n",
    "\n",
    "# Jazz <- data_train %>%\n",
    "#                 filter(music_genre == \"Jazz\") %>%\n",
    "#                 group_by(music_genre) %>%\n",
    "#                 summarize(Jazz_popularity = mean(popularity, na.ra = True),\n",
    "#                          Jazz_acousticness = mean(acousticness, na.ra = True),\n",
    "#                          Jazz_danceability = mean(danceability, na.ra = True),\n",
    "#                          Jazz_duration_ms = mean(duration_ms, na.ra = True),\n",
    "#                          Jazz_energy = mean(energy, na.ra = True),\n",
    "#                          Jazz_instrumentalness = mean(instrumentalness, na.ra = True),\n",
    "#                          Jazz_liveness = mean(liveness, na.ra = True),\n",
    "#                          Jazz_loudness = mean(loudness, na.ra = True),\n",
    "#                          Jazz_speechiness = mean(speechiness, na.ra = True),\n",
    "#                          Jazz_tempo = mean(tempo, na.ra = True),\n",
    "#                          Jazz_valence = mean(valence, na.ra = True))\n",
    "# Jazz\n",
    "\n",
    "# Alternative <- data_train %>%\n",
    "#                 filter(music_genre == \"Alternative\") %>%\n",
    "#                 group_by(music_genre) %>%\n",
    "#                 summarize(Alternative_popularity = mean(popularity, na.ra = True),\n",
    "#                          Alternative_acousticness = mean(acousticness, na.ra = True),\n",
    "#                          Alternative_danceability = mean(danceability, na.ra = True),\n",
    "#                          Alternative_duration_ms = mean(duration_ms, na.ra = True),\n",
    "#                          Alternative_energy = mean(energy, na.ra = True),\n",
    "#                          Alternative_instrumentalness = mean(instrumentalness, na.ra = True),\n",
    "#                          Alternative_liveness = mean(liveness, na.ra = True),\n",
    "#                          Alternative_loudness = mean(loudness, na.ra = True),\n",
    "#                          Alternative_speechiness = mean(speechiness, na.ra = True),\n",
    "#                          Alternative_tempo = mean(tempo, na.ra = True),\n",
    "#                          Alternative_valence = mean(valence, na.ra = True))\n",
    "# Alternative\n",
    "\n",
    "# Country <- data_train %>%\n",
    "#                 filter(music_genre == \"Country\") %>%\n",
    "#                 group_by(music_genre) %>%\n",
    "#                 summarize(Country_popularity = mean(popularity, na.ra = True),\n",
    "#                          Country_acousticness = mean(acousticness, na.ra = True),\n",
    "#                          Country_danceability = mean(danceability, na.ra = True),\n",
    "#                          Country_duration_ms = mean(duration_ms, na.ra = True),\n",
    "#                          Country_energy = mean(energy, na.ra = True),\n",
    "#                          Country_instrumentalness = mean(instrumentalness, na.ra = True),\n",
    "#                          Country_liveness = mean(liveness, na.ra = True),\n",
    "#                          Country_loudness = mean(loudness, na.ra = True),\n",
    "#                          Country_speechiness = mean(speechiness, na.ra = True),\n",
    "#                          Country_tempo = mean(tempo, na.ra = True),\n",
    "#                          Country_valence = mean(valence, na.ra = True))\n",
    "# Country\n",
    "\n",
    "# Rap <- data_train %>%\n",
    "#                 filter(music_genre == \"Rap\") %>%\n",
    "#                 group_by(music_genre) %>%\n",
    "#                 summarize(Rap_popularity = mean(popularity, na.ra = True),\n",
    "#                          Rap_acousticness = mean(acousticness, na.ra = True),\n",
    "#                          Rap_danceability = mean(danceability, na.ra = True),\n",
    "#                          Rap_duration_ms = mean(duration_ms, na.ra = True),\n",
    "#                          Rap_energy = mean(energy, na.ra = True),\n",
    "#                          Rap_instrumentalness = mean(instrumentalness, na.ra = True),\n",
    "#                          Rap_liveness = mean(liveness, na.ra = True),\n",
    "#                          Rap_loudness = mean(loudness, na.ra = True),\n",
    "#                          Rap_speechiness = mean(speechiness, na.ra = True),\n",
    "#                          Rap_tempo = mean(tempo, na.ra = True),\n",
    "#                          Rap_valence = mean(valence, na.ra = True))\n",
    "# Rap\n",
    "\n",
    "# Blues <- data_train %>%\n",
    "#                 filter(music_genre == \"Blues\") %>%\n",
    "#                 group_by(music_genre) %>%\n",
    "#                 summarize(Blues_popularity = mean(popularity, na.ra = True),\n",
    "#                          Blues_acousticness = mean(acousticness, na.ra = True),\n",
    "#                          Blues_danceability = mean(danceability, na.ra = True),\n",
    "#                          Blues_duration_ms = mean(duration_ms, na.ra = True),\n",
    "#                          Blues_energy = mean(energy, na.ra = True),\n",
    "#                          Blues_instrumentalness = mean(instrumentalness, na.ra = True),\n",
    "#                          Blues_liveness = mean(liveness, na.ra = True),\n",
    "#                          Blues_loudness = mean(loudness, na.ra = True),\n",
    "#                          Blues_speechiness = mean(speechiness, na.ra = True),\n",
    "#                          Blues_tempo = mean(tempo, na.ra = True),\n",
    "#                          Blues_valence = mean(valence, na.ra = True))\n",
    "# Blues\n",
    "\n",
    "# Rock <- data_train %>%\n",
    "#                 filter(music_genre == \"Rock\") %>%\n",
    "#                 group_by(music_genre) %>%\n",
    "#                 summarize(Rock_popularity = mean(popularity, na.ra = True),\n",
    "#                          Rock_acousticness = mean(acousticness, na.ra = True),\n",
    "#                          Rock_danceability = mean(danceability, na.ra = True),\n",
    "#                          Rock_duration_ms = mean(duration_ms, na.ra = True),\n",
    "#                          Rock_energy = mean(energy, na.ra = True),\n",
    "#                          Rock_instrumentalness = mean(instrumentalness, na.ra = True),\n",
    "#                          Rock_liveness = mean(liveness, na.ra = True),\n",
    "#                          Rock_loudness = mean(loudness, na.ra = True),\n",
    "#                          Rock_speechiness = mean(speechiness, na.ra = True),\n",
    "#                          Rock_tempo = mean(tempo, na.ra = True),\n",
    "#                          Rock_valence = mean(valence, na.ra = True))\n",
    "# Rock\n",
    "\n",
    "# Classical <- data_train %>%\n",
    "#                 filter(music_genre == \"Classical\") %>%\n",
    "#                 group_by(music_genre) %>%\n",
    "#                 summarize(Classical_popularity = mean(popularity, na.ra = True),\n",
    "#                          Classical_acousticness = mean(acousticness, na.ra = True),\n",
    "#                          Classical_danceability = mean(danceability, na.ra = True),\n",
    "#                          Classical_duration_ms = mean(duration_ms, na.ra = True),\n",
    "#                          Classical_energy = mean(energy, na.ra = True),\n",
    "#                          Classical_instrumentalness = mean(instrumentalness, na.ra = True),\n",
    "#                          Classical_liveness = mean(liveness, na.ra = True),\n",
    "#                          Classical_loudness = mean(loudness, na.ra = True),\n",
    "#                          Classical_speechiness = mean(speechiness, na.ra = True),\n",
    "#                          Classical_tempo = mean(tempo, na.ra = True),\n",
    "#                          Classical_valence = mean(valence, na.ra = True))\n",
    "# Classical\n",
    "\n",
    "# Hip_Hop <- data_train %>%\n",
    "#                 filter(music_genre == \"Hip-Hop\") %>%\n",
    "#                 group_by(music_genre) %>%\n",
    "#                 summarize(Hip_Hop_popularity = mean(popularity, na.ra = True),\n",
    "#                          Hip_Hop_acousticness = mean(acousticness, na.ra = True),\n",
    "#                          Hip_Hop_danceability = mean(danceability, na.ra = True),\n",
    "#                          Hip_Hop_duration_ms = mean(duration_ms, na.ra = True),\n",
    "#                          Hip_Hop_energy = mean(energy, na.ra = True),\n",
    "#                          Hip_Hop_instrumentalness = mean(instrumentalness, na.ra = True),\n",
    "#                          Hip_Hop_liveness = mean(liveness, na.ra = True),\n",
    "#                          Hip_Hop_loudness = mean(loudness, na.ra = True),\n",
    "#                          Hip_Hop_speechiness = mean(speechiness, na.ra = True),\n",
    "#                          Hip_Hop_tempo = mean(tempo, na.ra = True),\n",
    "#                          Hip_Hop_valence = mean(valence, na.ra = True))\n",
    "# Hip_Hop"
   ]
  },
  {
   "cell_type": "code",
   "execution_count": 139,
   "metadata": {},
   "outputs": [],
   "source": [
    "# # proportion of music genre by mode(major, minor)\n",
    "# mode_proportion_plot <- data_train %>%\n",
    "# ggplot(aes(x = mode, fill = music_genre))+\n",
    "# geom_bar(position = \"fill\")+\n",
    "# labs(x = \"Mode\", y = \"Proportion of music genre\", fill = \"music genre\") +\n",
    "# ggtitle(\"Proportion of music genre by mode(major, minor)\")\n",
    "# mode_proportion_plot"
   ]
  },
  {
   "cell_type": "markdown",
   "metadata": {},
   "source": [
    "We visualize the proportion of musical genres by mode or major and minor. Mainly because we wanted to know whether the proportion of major or minor will be higher in a particular genre of music. We found that no music type has a higher proportion, and all music is well balanced. There is much more classical music in major than in minor, which was kind of shocking."
   ]
  },
  {
   "cell_type": "markdown",
   "metadata": {},
   "source": [
    "**4. Data Analysis** </br>\n",
    "For the data recipe, we choose to use popularity, acousticness, danceability, duration_ms, energy, instrumentalness, liveness, loudness, speechiness, and valence as our predictors to predict the music genre.\n",
    "\n",
    "We perform five-fold cross validation on our data with the data_recipe and data_spec we created earlier and try 20 different k values. We used collect_metrics() to aggregate the mean and standard error for each k value, and plot it on a line plot to visualize the accuracies and identify the best neighbour count."
   ]
  },
  {
   "cell_type": "code",
   "execution_count": 140,
   "metadata": {},
   "outputs": [
    {
     "data": {
      "image/png": "[encoded data removed]",
      "text/plain": [
       "plot without title"
      ]
     },
     "metadata": {
      "image/png": {
       "height": 300,
       "width": 360
      }
     },
     "output_type": "display_data"
    }
   ],
   "source": [
    "# Set the seed\n",
    "set.seed(1234) \n",
    "\n",
    "# Create the model\n",
    "genre_recipe <- recipe(music_genre ~ popularity + acousticness + danceability + duration_ms + energy + instrumentalness + liveness + loudness + speechiness + valence,\n",
    "                      data = data_train) %>%\n",
    "                step_scale(all_predictors()) %>%\n",
    "                step_center(all_predictors())\n",
    "\n",
    "genre_vfold <- vfold_cv(data_train, v = 5, strata = music_genre)\n",
    "\n",
    "genre_tune <- nearest_neighbor(weight_func = \"rectangular\", neighbors = tune()) %>%\n",
    "      set_engine(\"kknn\") %>%\n",
    "      set_mode(\"classification\")\n",
    "\n",
    "genre_results <- workflow() %>%\n",
    "      add_recipe(genre_recipe) %>%\n",
    "      add_model(genre_tune) %>%\n",
    "      tune_grid(resamples = genre_vfold, grid = 20) %>%\n",
    "      collect_metrics()\n",
    "\n",
    "accuracies <- genre_results %>%\n",
    "      filter(.metric == \"accuracy\")\n",
    "\n",
    "# Display the k value accuracies\n",
    "options(repr.plot.height = 5, repr.plot.width = 6)\n",
    "\n",
    "cross_val_plot <- ggplot(accuracies, aes(x = neighbors, y = mean)) +\n",
    "      geom_point() +\n",
    "      geom_line() +\n",
    "      labs(x = \"Neighbors\", y = \"Accuracy Estimate\")\n",
    "\n",
    "cross_val_plot"
   ]
  },
  {
   "cell_type": "markdown",
   "metadata": {},
   "source": [
    "Accuracy is highest at k=14, so we recreate our workflow using k=14."
   ]
  },
  {
   "cell_type": "code",
   "execution_count": 192,
   "metadata": {},
   "outputs": [],
   "source": [
    "# Set the seed. \n",
    "set.seed(9999) \n",
    "\n",
    "# Build model with k=14\n",
    "genre_spec <- nearest_neighbor(weight_func = \"rectangular\", neighbors = 14) %>%\n",
    "       set_engine(\"kknn\") %>%\n",
    "       set_mode(\"classification\")\n",
    "\n",
    "genre_fit <- workflow() %>%\n",
    "       add_recipe(data_recipe) %>%\n",
    "       add_model(genre_spec) %>%\n",
    "       fit(data = data_train)"
   ]
  },
  {
   "cell_type": "markdown",
   "metadata": {},
   "source": [
    "We used our final model to make predictions on the test data set, and used the bind_cols function to join the prediction column to the original test data. We then report the accuracy of this prediction using the metrics function. We also report the confusion matrix using the conf_mat function."
   ]
  },
  {
   "cell_type": "code",
   "execution_count": 193,
   "metadata": {},
   "outputs": [
    {
     "data": {
      "text/html": [
       "<table>\n",
       "<caption>A tibble: 2 × 3</caption>\n",
       "<thead>\n",
       "\t<tr><th scope=col>.metric</th><th scope=col>.estimator</th><th scope=col>.estimate</th></tr>\n",
       "\t<tr><th scope=col>&lt;chr&gt;</th><th scope=col>&lt;chr&gt;</th><th scope=col>&lt;dbl&gt;</th></tr>\n",
       "</thead>\n",
       "<tbody>\n",
       "\t<tr><td>accuracy</td><td>multiclass</td><td>0.5188000</td></tr>\n",
       "\t<tr><td>kap     </td><td>multiclass</td><td>0.4653333</td></tr>\n",
       "</tbody>\n",
       "</table>\n"
      ],
      "text/latex": [
       "A tibble: 2 × 3\n",
       "\\begin{tabular}{lll}\n",
       " .metric & .estimator & .estimate\\\\\n",
       " <chr> & <chr> & <dbl>\\\\\n",
       "\\hline\n",
       "\t accuracy & multiclass & 0.5188000\\\\\n",
       "\t kap      & multiclass & 0.4653333\\\\\n",
       "\\end{tabular}\n"
      ],
      "text/markdown": [
       "\n",
       "A tibble: 2 × 3\n",
       "\n",
       "| .metric &lt;chr&gt; | .estimator &lt;chr&gt; | .estimate &lt;dbl&gt; |\n",
       "|---|---|---|\n",
       "| accuracy | multiclass | 0.5188000 |\n",
       "| kap      | multiclass | 0.4653333 |\n",
       "\n"
      ],
      "text/plain": [
       "  .metric  .estimator .estimate\n",
       "1 accuracy multiclass 0.5188000\n",
       "2 kap      multiclass 0.4653333"
      ]
     },
     "metadata": {},
     "output_type": "display_data"
    },
    {
     "data": {
      "text/plain": [
       "             Truth\n",
       "Prediction    Alternative Anime Blues Classical Country Electronic Hip-Hop Jazz\n",
       "  Alternative          81     7    15         6      29         17       5   10\n",
       "  Anime                 3   162    33         9       4         13       0    6\n",
       "  Blues                 4    17   106         7      19         12       0   19\n",
       "  Classical             0    22     5       197       1          5       0   25\n",
       "  Country              46    15    46         5     132         18       6   32\n",
       "  Electronic            6    17    12         7       4        143       3   26\n",
       "  Hip-Hop              23     0     1         0       6          9     110   12\n",
       "  Jazz                 12     8    23        17       8         18       1  104\n",
       "  Rap                  25     0     2         0      12          7     103    7\n",
       "  Rock                 50     2     7         2      35          8      22    9\n",
       "             Truth\n",
       "Prediction    Rap Rock\n",
       "  Alternative  18   28\n",
       "  Anime         0    0\n",
       "  Blues         0    3\n",
       "  Classical     0    2\n",
       "  Country       2   26\n",
       "  Electronic    2    1\n",
       "  Hip-Hop      98   11\n",
       "  Jazz          0    7\n",
       "  Rap         100   10\n",
       "  Rock         30  162"
      ]
     },
     "metadata": {},
     "output_type": "display_data"
    }
   ],
   "source": [
    "data_predictions <- predict(genre_fit , data_test) %>%\n",
    "      bind_cols(data_test)\n",
    "\n",
    "data_metrics <- data_predictions %>%\n",
    "       metrics(truth = music_genre, estimate = .pred_class)\n",
    "\n",
    "data_conf_mat<- data_predictions %>%\n",
    "       conf_mat(truth = music_genre, estimate = .pred_class)\n",
    "\n",
    "data_metrics\n",
    "data_conf_mat"
   ]
  },
  {
   "cell_type": "markdown",
   "metadata": {},
   "source": [
    "It seems Anime, Blues, Classical, Country, and Rock are predicted with good accuracy, but Alternative, Electronic, Hip-Hop, Jazz and Rap are easily confused with one or a few other genres (Understandably, hip-hop and rap, for example, are very similar genres and have a lot of overlap)."
   ]
  },
  {
   "cell_type": "markdown",
   "metadata": {},
   "source": [
    "**5. Let's Try it Out!** </br>\n",
    "The numerical data of three songs is used to predict each of their classifications. Let's try them out and see what we get."
   ]
  },
  {
   "cell_type": "code",
   "execution_count": 194,
   "metadata": {},
   "outputs": [
    {
     "data": {
      "text/html": [
       "Classical\n",
       "<details>\n",
       "\t<summary style=display:list-item;cursor:pointer>\n",
       "\t\t<strong>Levels</strong>:\n",
       "\t</summary>\n",
       "\t<style>\n",
       "\t.list-inline {list-style: none; margin:0; padding: 0}\n",
       "\t.list-inline>li {display: inline-block}\n",
       "\t.list-inline>li:not(:last-child)::after {content: \"\\00b7\"; padding: 0 .5ex}\n",
       "\t</style>\n",
       "\t<ol class=list-inline><li>'Alternative'</li><li>'Anime'</li><li>'Blues'</li><li>'Classical'</li><li>'Country'</li><li>'Electronic'</li><li>'Hip-Hop'</li><li>'Jazz'</li><li>'Rap'</li><li>'Rock'</li></ol>\n",
       "</details>"
      ],
      "text/latex": [
       "Classical\n",
       "\\emph{Levels}: \\begin{enumerate*}\n",
       "\\item 'Alternative'\n",
       "\\item 'Anime'\n",
       "\\item 'Blues'\n",
       "\\item 'Classical'\n",
       "\\item 'Country'\n",
       "\\item 'Electronic'\n",
       "\\item 'Hip-Hop'\n",
       "\\item 'Jazz'\n",
       "\\item 'Rap'\n",
       "\\item 'Rock'\n",
       "\\end{enumerate*}\n"
      ],
      "text/markdown": [
       "Classical\n",
       "**Levels**: 1. 'Alternative'\n",
       "2. 'Anime'\n",
       "3. 'Blues'\n",
       "4. 'Classical'\n",
       "5. 'Country'\n",
       "6. 'Electronic'\n",
       "7. 'Hip-Hop'\n",
       "8. 'Jazz'\n",
       "9. 'Rap'\n",
       "10. 'Rock'\n",
       "\n",
       "\n"
      ],
      "text/plain": [
       "[1] Classical\n",
       "10 Levels: Alternative Anime Blues Classical Country Electronic ... Rock"
      ]
     },
     "metadata": {},
     "output_type": "display_data"
    }
   ],
   "source": [
    "# Symphony No. 5 in C minor, Ludwig van Beethoven\n",
    "new_obs_1 <- tibble(popularity = 33,\n",
    "                    acousticness = 0.927,\n",
    "                    danceability = 0.351,\n",
    "                    duration_ms = 282067,\n",
    "                    energy = 0.0964,\n",
    "                    instrumentalness = 0.899,\n",
    "                    liveness = 0.509,\n",
    "                    loudness = -20.044,\n",
    "                    speechiness = 0.0436,\n",
    "                    valence = 0.246)\n",
    "\n",
    "class_prediction_1 <-  predict(genre_fit, new_obs_1)\n",
    "class_prediction_1 %>% pull(.pred_class)"
   ]
  },
  {
   "cell_type": "code",
   "execution_count": 195,
   "metadata": {},
   "outputs": [
    {
     "data": {
      "text/html": [
       "Rock\n",
       "<details>\n",
       "\t<summary style=display:list-item;cursor:pointer>\n",
       "\t\t<strong>Levels</strong>:\n",
       "\t</summary>\n",
       "\t<style>\n",
       "\t.list-inline {list-style: none; margin:0; padding: 0}\n",
       "\t.list-inline>li {display: inline-block}\n",
       "\t.list-inline>li:not(:last-child)::after {content: \"\\00b7\"; padding: 0 .5ex}\n",
       "\t</style>\n",
       "\t<ol class=list-inline><li>'Alternative'</li><li>'Anime'</li><li>'Blues'</li><li>'Classical'</li><li>'Country'</li><li>'Electronic'</li><li>'Hip-Hop'</li><li>'Jazz'</li><li>'Rap'</li><li>'Rock'</li></ol>\n",
       "</details>"
      ],
      "text/latex": [
       "Rock\n",
       "\\emph{Levels}: \\begin{enumerate*}\n",
       "\\item 'Alternative'\n",
       "\\item 'Anime'\n",
       "\\item 'Blues'\n",
       "\\item 'Classical'\n",
       "\\item 'Country'\n",
       "\\item 'Electronic'\n",
       "\\item 'Hip-Hop'\n",
       "\\item 'Jazz'\n",
       "\\item 'Rap'\n",
       "\\item 'Rock'\n",
       "\\end{enumerate*}\n"
      ],
      "text/markdown": [
       "Rock\n",
       "**Levels**: 1. 'Alternative'\n",
       "2. 'Anime'\n",
       "3. 'Blues'\n",
       "4. 'Classical'\n",
       "5. 'Country'\n",
       "6. 'Electronic'\n",
       "7. 'Hip-Hop'\n",
       "8. 'Jazz'\n",
       "9. 'Rap'\n",
       "10. 'Rock'\n",
       "\n",
       "\n"
      ],
      "text/plain": [
       "[1] Rock\n",
       "10 Levels: Alternative Anime Blues Classical Country Electronic ... Rock"
      ]
     },
     "metadata": {},
     "output_type": "display_data"
    }
   ],
   "source": [
    "# Call Your Name, Hiroyuki Sawano\n",
    "new_obs_2 <- tibble(popularity = 50,\n",
    "                    acousticness = 0.0145,\n",
    "                    danceability = 0.567,\n",
    "                    duration_ms = 268333,\n",
    "                    energy = 0.3,\n",
    "                    instrumentalness = 0,\n",
    "                    liveness = 0.0687,\n",
    "                    loudness = -8.421,\n",
    "                    speechiness = 0.0291,\n",
    "                    valence = 0.196)\n",
    "\n",
    "class_prediction_2 <-  predict(genre_fit, new_obs_2)\n",
    "class_prediction_2 %>% pull(.pred_class)"
   ]
  },
  {
   "cell_type": "code",
   "execution_count": 196,
   "metadata": {},
   "outputs": [
    {
     "data": {
      "text/html": [
       "Alternative\n",
       "<details>\n",
       "\t<summary style=display:list-item;cursor:pointer>\n",
       "\t\t<strong>Levels</strong>:\n",
       "\t</summary>\n",
       "\t<style>\n",
       "\t.list-inline {list-style: none; margin:0; padding: 0}\n",
       "\t.list-inline>li {display: inline-block}\n",
       "\t.list-inline>li:not(:last-child)::after {content: \"\\00b7\"; padding: 0 .5ex}\n",
       "\t</style>\n",
       "\t<ol class=list-inline><li>'Alternative'</li><li>'Anime'</li><li>'Blues'</li><li>'Classical'</li><li>'Country'</li><li>'Electronic'</li><li>'Hip-Hop'</li><li>'Jazz'</li><li>'Rap'</li><li>'Rock'</li></ol>\n",
       "</details>"
      ],
      "text/latex": [
       "Alternative\n",
       "\\emph{Levels}: \\begin{enumerate*}\n",
       "\\item 'Alternative'\n",
       "\\item 'Anime'\n",
       "\\item 'Blues'\n",
       "\\item 'Classical'\n",
       "\\item 'Country'\n",
       "\\item 'Electronic'\n",
       "\\item 'Hip-Hop'\n",
       "\\item 'Jazz'\n",
       "\\item 'Rap'\n",
       "\\item 'Rock'\n",
       "\\end{enumerate*}\n"
      ],
      "text/markdown": [
       "Alternative\n",
       "**Levels**: 1. 'Alternative'\n",
       "2. 'Anime'\n",
       "3. 'Blues'\n",
       "4. 'Classical'\n",
       "5. 'Country'\n",
       "6. 'Electronic'\n",
       "7. 'Hip-Hop'\n",
       "8. 'Jazz'\n",
       "9. 'Rap'\n",
       "10. 'Rock'\n",
       "\n",
       "\n"
      ],
      "text/plain": [
       "[1] Alternative\n",
       "10 Levels: Alternative Anime Blues Classical Country Electronic ... Rock"
      ]
     },
     "metadata": {},
     "output_type": "display_data"
    }
   ],
   "source": [
    "# She Ain't You, Chris Brown\n",
    "new_obs_3 <- tibble(popularity = 51,\n",
    "                    acousticness = 0.0341,\n",
    "                    danceability = 0.634,\n",
    "                    duration_ms = 248107,\n",
    "                    energy = 0.716,\n",
    "                    instrumentalness = 0,\n",
    "                    liveness = 0.0877,\n",
    "                    loudness = -6.502,\n",
    "                    speechiness = 0.128,\n",
    "                    valence = 0.619)\n",
    "class_prediction_3 <-  predict(genre_fit, new_obs_3)\n",
    "\n",
    "class_prediction_3 %>% pull(.pred_class)"
   ]
  },
  {
   "cell_type": "markdown",
   "metadata": {},
   "source": [
    "If you've listened to these songs before, you'll know the prediction is generally correct. It seems our model works!"
   ]
  },
  {
   "cell_type": "markdown",
   "metadata": {},
   "source": [
    "### Discussion"
   ]
  },
  {
   "cell_type": "markdown",
   "metadata": {},
   "source": [
    "<ul>\n",
    "    <li>summarize what you found</li>\n",
    "    <li>discuss whether this is what you expected to find?</li>\n",
    "    <li>discuss what impact could such findings have?</li>\n",
    "    <li>discuss what future questions could this lead to?</li>\n",
    "</ul>"
   ]
  },
  {
   "cell_type": "markdown",
   "metadata": {},
   "source": [
    "## References"
   ]
  },
  {
   "cell_type": "markdown",
   "metadata": {},
   "source": [
    "Lena, J. C., & Peterson, R. A. (2008). Classification as Culture: Types and Trajectories of \n",
    "\n",
    "    Music Genres. American Sociological Review, 73(5), 697–718. \n",
    "    \n",
    "    https://doi.org/10.1177/000312240807300501\n",
    "    \n",
    "Sturm, B. L. (2013). Classification accuracy is not enough. Journal of Intelligent Information \n",
    "\n",
    "    Systems, 41(3), 371–406. \n",
    "    \n",
    "    https://doi.org/10.1007/s10844-013-0250-y\n",
    "    \n",
    "How do new music genres emerge? Diversification processes in symbolic knowledge bases. \n",
    "\n",
    "    (2019). Retrieved March 11, 2022, from Regional Studies website: \n",
    "    \n",
    "    https://www.tandfonline.com/doi/full/10.1080/00343404.2019.1580817\n",
    "    \n",
    "Innovation in Creative Industries: Does (Related) Variety Matter for the Creativity of Urban \n",
    "\n",
    "    Music Scenes? (2019). Retrieved March 11, 2022, from Economic Geography website: https://www.tandfonline.com/doi/full/10.1080/00130095.2018.1549944?src=recsys"
   ]
  },
  {
   "cell_type": "code",
   "execution_count": null,
   "metadata": {},
   "outputs": [],
   "source": []
  }
 ],
 "metadata": {
  "kernelspec": {
   "display_name": "R",
   "language": "R",
   "name": "ir"
  },
  "language_info": {
   "codemirror_mode": "r",
   "file_extension": ".r",
   "mimetype": "text/x-r-source",
   "name": "R",
   "pygments_lexer": "r",
   "version": "4.0.0"
  }
 },
 "nbformat": 4,
 "nbformat_minor": 4
}
