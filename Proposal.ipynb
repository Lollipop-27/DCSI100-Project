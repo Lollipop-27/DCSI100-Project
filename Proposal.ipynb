{
 "cells": [
  {
   "cell_type": "markdown",
   "metadata": {},
   "source": [
    "## Group Project: What Genre is It?"
   ]
  },
  {
   "cell_type": "markdown",
   "metadata": {},
   "source": [
    "## Introduction"
   ]
  },
  {
   "cell_type": "markdown",
   "metadata": {},
   "source": [
    "The exact definition for a music genre is sometimes difficult to judge, and people tend to classify songs based on 'feel' and loose characteristics. What if there was a more concrete and systematic way to complete this classification? This project aims to produce a model that can, given a song's numeric characteristics, predict its genre. We are using an open-source dataset on Kaggle which contains information on various song characteristics such as duration, dancability, popularity, and acousticness. The dataset was last updated in December of 2021.\n",
    "\n",
    "Question: How are the numerical characteristics of a song related to its genre?"
   ]
  },
  {
   "cell_type": "markdown",
   "metadata": {},
   "source": [
    "## Preliminary exploratory data analysis"
   ]
  },
  {
   "cell_type": "code",
   "execution_count": 5,
   "metadata": {},
   "outputs": [
    {
     "name": "stderr",
     "output_type": "stream",
     "text": [
      "── \u001b[1mAttaching packages\u001b[22m ─────────────────────────────────────── tidyverse 1.3.0 ──\n",
      "\n",
      "\u001b[32m✔\u001b[39m \u001b[34mggplot2\u001b[39m 3.3.2     \u001b[32m✔\u001b[39m \u001b[34mpurrr  \u001b[39m 0.3.4\n",
      "\u001b[32m✔\u001b[39m \u001b[34mtibble \u001b[39m 3.0.3     \u001b[32m✔\u001b[39m \u001b[34mdplyr  \u001b[39m 1.0.2\n",
      "\u001b[32m✔\u001b[39m \u001b[34mtidyr  \u001b[39m 1.1.2     \u001b[32m✔\u001b[39m \u001b[34mstringr\u001b[39m 1.4.0\n",
      "\u001b[32m✔\u001b[39m \u001b[34mreadr  \u001b[39m 1.3.1     \u001b[32m✔\u001b[39m \u001b[34mforcats\u001b[39m 0.5.0\n",
      "\n",
      "Warning message:\n",
      "“package ‘ggplot2’ was built under R version 4.0.1”\n",
      "Warning message:\n",
      "“package ‘tibble’ was built under R version 4.0.2”\n",
      "Warning message:\n",
      "“package ‘tidyr’ was built under R version 4.0.2”\n",
      "Warning message:\n",
      "“package ‘dplyr’ was built under R version 4.0.2”\n",
      "── \u001b[1mConflicts\u001b[22m ────────────────────────────────────────── tidyverse_conflicts() ──\n",
      "\u001b[31m✖\u001b[39m \u001b[34mdplyr\u001b[39m::\u001b[32mfilter()\u001b[39m masks \u001b[34mstats\u001b[39m::filter()\n",
      "\u001b[31m✖\u001b[39m \u001b[34mdplyr\u001b[39m::\u001b[32mlag()\u001b[39m    masks \u001b[34mstats\u001b[39m::lag()\n",
      "\n",
      "Warning message:\n",
      "“package ‘tidymodels’ was built under R version 4.0.2”\n",
      "── \u001b[1mAttaching packages\u001b[22m ────────────────────────────────────── tidymodels 0.1.1 ──\n",
      "\n",
      "\u001b[32m✔\u001b[39m \u001b[34mbroom    \u001b[39m 0.7.0      \u001b[32m✔\u001b[39m \u001b[34mrecipes  \u001b[39m 0.1.13\n",
      "\u001b[32m✔\u001b[39m \u001b[34mdials    \u001b[39m 0.0.9      \u001b[32m✔\u001b[39m \u001b[34mrsample  \u001b[39m 0.0.7 \n",
      "\u001b[32m✔\u001b[39m \u001b[34minfer    \u001b[39m 0.5.4      \u001b[32m✔\u001b[39m \u001b[34mtune     \u001b[39m 0.1.1 \n",
      "\u001b[32m✔\u001b[39m \u001b[34mmodeldata\u001b[39m 0.0.2      \u001b[32m✔\u001b[39m \u001b[34mworkflows\u001b[39m 0.2.0 \n",
      "\u001b[32m✔\u001b[39m \u001b[34mparsnip  \u001b[39m 0.1.3      \u001b[32m✔\u001b[39m \u001b[34myardstick\u001b[39m 0.0.7 \n",
      "\n",
      "Warning message:\n",
      "“package ‘broom’ was built under R version 4.0.2”\n",
      "Warning message:\n",
      "“package ‘dials’ was built under R version 4.0.2”\n",
      "Warning message:\n",
      "“package ‘infer’ was built under R version 4.0.3”\n",
      "Warning message:\n",
      "“package ‘modeldata’ was built under R version 4.0.1”\n",
      "Warning message:\n",
      "“package ‘parsnip’ was built under R version 4.0.2”\n",
      "Warning message:\n",
      "“package ‘recipes’ was built under R version 4.0.1”\n",
      "Warning message:\n",
      "“package ‘tune’ was built under R version 4.0.2”\n",
      "Warning message:\n",
      "“package ‘workflows’ was built under R version 4.0.2”\n",
      "Warning message:\n",
      "“package ‘yardstick’ was built under R version 4.0.2”\n",
      "── \u001b[1mConflicts\u001b[22m ───────────────────────────────────────── tidymodels_conflicts() ──\n",
      "\u001b[31m✖\u001b[39m \u001b[34mscales\u001b[39m::\u001b[32mdiscard()\u001b[39m masks \u001b[34mpurrr\u001b[39m::discard()\n",
      "\u001b[31m✖\u001b[39m \u001b[34mdplyr\u001b[39m::\u001b[32mfilter()\u001b[39m   masks \u001b[34mstats\u001b[39m::filter()\n",
      "\u001b[31m✖\u001b[39m \u001b[34mrecipes\u001b[39m::\u001b[32mfixed()\u001b[39m  masks \u001b[34mstringr\u001b[39m::fixed()\n",
      "\u001b[31m✖\u001b[39m \u001b[34mdplyr\u001b[39m::\u001b[32mlag()\u001b[39m      masks \u001b[34mstats\u001b[39m::lag()\n",
      "\u001b[31m✖\u001b[39m \u001b[34myardstick\u001b[39m::\u001b[32mspec()\u001b[39m masks \u001b[34mreadr\u001b[39m::spec()\n",
      "\u001b[31m✖\u001b[39m \u001b[34mrecipes\u001b[39m::\u001b[32mstep()\u001b[39m   masks \u001b[34mstats\u001b[39m::step()\n",
      "\n",
      "Warning message in file(filename, \"r\", encoding = encoding):\n",
      "“cannot open file 'tests.R': No such file or directory”\n"
     ]
    },
    {
     "ename": "ERROR",
     "evalue": "Error in file(filename, \"r\", encoding = encoding): cannot open the connection\n",
     "output_type": "error",
     "traceback": [
      "Error in file(filename, \"r\", encoding = encoding): cannot open the connection\nTraceback:\n",
      "1. source(\"tests.R\")",
      "2. file(filename, \"r\", encoding = encoding)"
     ]
    }
   ],
   "source": [
    "### Loading Libraries into R\n",
    "library(tidyverse)\n",
    "library(repr)\n",
    "library(tidymodels)\n",
    "options(repr.matrix.max.rows = 6)\n",
    "source('tests.R')\n",
    "source('cleanup.R')"
   ]
  },
  {
   "cell_type": "code",
   "execution_count": 6,
   "metadata": {},
   "outputs": [
    {
     "name": "stderr",
     "output_type": "stream",
     "text": [
      "Parsed with column specification:\n",
      "cols(\n",
      "  instance_id = \u001b[32mcol_double()\u001b[39m,\n",
      "  artist_name = \u001b[31mcol_character()\u001b[39m,\n",
      "  track_name = \u001b[31mcol_character()\u001b[39m,\n",
      "  popularity = \u001b[32mcol_double()\u001b[39m,\n",
      "  acousticness = \u001b[32mcol_double()\u001b[39m,\n",
      "  danceability = \u001b[32mcol_double()\u001b[39m,\n",
      "  duration_ms = \u001b[32mcol_double()\u001b[39m,\n",
      "  energy = \u001b[32mcol_double()\u001b[39m,\n",
      "  instrumentalness = \u001b[32mcol_double()\u001b[39m,\n",
      "  key = \u001b[31mcol_character()\u001b[39m,\n",
      "  liveness = \u001b[32mcol_double()\u001b[39m,\n",
      "  loudness = \u001b[32mcol_double()\u001b[39m,\n",
      "  mode = \u001b[31mcol_character()\u001b[39m,\n",
      "  speechiness = \u001b[32mcol_double()\u001b[39m,\n",
      "  tempo = \u001b[31mcol_character()\u001b[39m,\n",
      "  obtained_date = \u001b[31mcol_character()\u001b[39m,\n",
      "  valence = \u001b[32mcol_double()\u001b[39m,\n",
      "  music_genre = \u001b[31mcol_character()\u001b[39m\n",
      ")\n",
      "\n"
     ]
    },
    {
     "data": {
      "text/html": [
       "<table>\n",
       "<caption>A spec_tbl_df: 50005 × 18</caption>\n",
       "<thead>\n",
       "\t<tr><th scope=col>instance_id</th><th scope=col>artist_name</th><th scope=col>track_name</th><th scope=col>popularity</th><th scope=col>acousticness</th><th scope=col>danceability</th><th scope=col>duration_ms</th><th scope=col>energy</th><th scope=col>instrumentalness</th><th scope=col>key</th><th scope=col>liveness</th><th scope=col>loudness</th><th scope=col>mode</th><th scope=col>speechiness</th><th scope=col>tempo</th><th scope=col>obtained_date</th><th scope=col>valence</th><th scope=col>music_genre</th></tr>\n",
       "\t<tr><th scope=col>&lt;dbl&gt;</th><th scope=col>&lt;chr&gt;</th><th scope=col>&lt;chr&gt;</th><th scope=col>&lt;dbl&gt;</th><th scope=col>&lt;dbl&gt;</th><th scope=col>&lt;dbl&gt;</th><th scope=col>&lt;dbl&gt;</th><th scope=col>&lt;dbl&gt;</th><th scope=col>&lt;dbl&gt;</th><th scope=col>&lt;chr&gt;</th><th scope=col>&lt;dbl&gt;</th><th scope=col>&lt;dbl&gt;</th><th scope=col>&lt;chr&gt;</th><th scope=col>&lt;dbl&gt;</th><th scope=col>&lt;chr&gt;</th><th scope=col>&lt;chr&gt;</th><th scope=col>&lt;dbl&gt;</th><th scope=col>&lt;chr&gt;</th></tr>\n",
       "</thead>\n",
       "<tbody>\n",
       "\t<tr><td>32894</td><td>Röyksopp            </td><td>Röyksopp's Night Out</td><td>27</td><td>0.00468</td><td>0.652</td><td>    -1</td><td>0.941</td><td>0.7920</td><td>A#</td><td>0.115</td><td>-5.201</td><td>Minor</td><td>0.0748</td><td>100.889           </td><td>4-Apr</td><td>0.759</td><td>Electronic</td></tr>\n",
       "\t<tr><td>46652</td><td>Thievery Corporation</td><td>The Shining Path    </td><td>31</td><td>0.01270</td><td>0.622</td><td>218293</td><td>0.890</td><td>0.9500</td><td>D </td><td>0.124</td><td>-7.043</td><td>Minor</td><td>0.0300</td><td>115.00200000000001</td><td>4-Apr</td><td>0.531</td><td>Electronic</td></tr>\n",
       "\t<tr><td>30097</td><td>Dillon Francis      </td><td>Hurricane           </td><td>28</td><td>0.00306</td><td>0.620</td><td>215613</td><td>0.755</td><td>0.0118</td><td>G#</td><td>0.534</td><td>-4.617</td><td>Major</td><td>0.0345</td><td>127.994           </td><td>4-Apr</td><td>0.333</td><td>Electronic</td></tr>\n",
       "\t<tr><td>⋮</td><td>⋮</td><td>⋮</td><td>⋮</td><td>⋮</td><td>⋮</td><td>⋮</td><td>⋮</td><td>⋮</td><td>⋮</td><td>⋮</td><td>⋮</td><td>⋮</td><td>⋮</td><td>⋮</td><td>⋮</td><td>⋮</td><td>⋮</td></tr>\n",
       "\t<tr><td>39767</td><td>Berner           </td><td>Lovin' Me (feat. Smiggz)</td><td>51</td><td>0.00597</td><td>0.693</td><td>189483</td><td>0.763</td><td>0</td><td>D </td><td>0.143</td><td> -5.443</td><td>Major</td><td>0.1460</td><td>131.079          </td><td>4-Apr</td><td>0.395</td><td>Hip-Hop</td></tr>\n",
       "\t<tr><td>57944</td><td>The-Dream        </td><td>Shawty Is Da Shit       </td><td>65</td><td>0.08310</td><td>0.782</td><td>262773</td><td>0.472</td><td>0</td><td>G </td><td>0.106</td><td> -5.016</td><td>Minor</td><td>0.0441</td><td>75.88600000000001</td><td>4-Apr</td><td>0.354</td><td>Hip-Hop</td></tr>\n",
       "\t<tr><td>63470</td><td>Naughty By Nature</td><td>Hip Hop Hooray          </td><td>67</td><td>0.10200</td><td>0.862</td><td>267267</td><td>0.642</td><td>0</td><td>F#</td><td>0.272</td><td>-13.652</td><td>Minor</td><td>0.1010</td><td>99.20100000000001</td><td>4-Apr</td><td>0.765</td><td>Hip-Hop</td></tr>\n",
       "</tbody>\n",
       "</table>\n"
      ],
      "text/latex": [
       "A spec\\_tbl\\_df: 50005 × 18\n",
       "\\begin{tabular}{llllllllllllllllll}\n",
       " instance\\_id & artist\\_name & track\\_name & popularity & acousticness & danceability & duration\\_ms & energy & instrumentalness & key & liveness & loudness & mode & speechiness & tempo & obtained\\_date & valence & music\\_genre\\\\\n",
       " <dbl> & <chr> & <chr> & <dbl> & <dbl> & <dbl> & <dbl> & <dbl> & <dbl> & <chr> & <dbl> & <dbl> & <chr> & <dbl> & <chr> & <chr> & <dbl> & <chr>\\\\\n",
       "\\hline\n",
       "\t 32894 & Röyksopp             & Röyksopp's Night Out & 27 & 0.00468 & 0.652 &     -1 & 0.941 & 0.7920 & A\\# & 0.115 & -5.201 & Minor & 0.0748 & 100.889            & 4-Apr & 0.759 & Electronic\\\\\n",
       "\t 46652 & Thievery Corporation & The Shining Path     & 31 & 0.01270 & 0.622 & 218293 & 0.890 & 0.9500 & D  & 0.124 & -7.043 & Minor & 0.0300 & 115.00200000000001 & 4-Apr & 0.531 & Electronic\\\\\n",
       "\t 30097 & Dillon Francis       & Hurricane            & 28 & 0.00306 & 0.620 & 215613 & 0.755 & 0.0118 & G\\# & 0.534 & -4.617 & Major & 0.0345 & 127.994            & 4-Apr & 0.333 & Electronic\\\\\n",
       "\t ⋮ & ⋮ & ⋮ & ⋮ & ⋮ & ⋮ & ⋮ & ⋮ & ⋮ & ⋮ & ⋮ & ⋮ & ⋮ & ⋮ & ⋮ & ⋮ & ⋮ & ⋮\\\\\n",
       "\t 39767 & Berner            & Lovin' Me (feat. Smiggz) & 51 & 0.00597 & 0.693 & 189483 & 0.763 & 0 & D  & 0.143 &  -5.443 & Major & 0.1460 & 131.079           & 4-Apr & 0.395 & Hip-Hop\\\\\n",
       "\t 57944 & The-Dream         & Shawty Is Da Shit        & 65 & 0.08310 & 0.782 & 262773 & 0.472 & 0 & G  & 0.106 &  -5.016 & Minor & 0.0441 & 75.88600000000001 & 4-Apr & 0.354 & Hip-Hop\\\\\n",
       "\t 63470 & Naughty By Nature & Hip Hop Hooray           & 67 & 0.10200 & 0.862 & 267267 & 0.642 & 0 & F\\# & 0.272 & -13.652 & Minor & 0.1010 & 99.20100000000001 & 4-Apr & 0.765 & Hip-Hop\\\\\n",
       "\\end{tabular}\n"
      ],
      "text/markdown": [
       "\n",
       "A spec_tbl_df: 50005 × 18\n",
       "\n",
       "| instance_id &lt;dbl&gt; | artist_name &lt;chr&gt; | track_name &lt;chr&gt; | popularity &lt;dbl&gt; | acousticness &lt;dbl&gt; | danceability &lt;dbl&gt; | duration_ms &lt;dbl&gt; | energy &lt;dbl&gt; | instrumentalness &lt;dbl&gt; | key &lt;chr&gt; | liveness &lt;dbl&gt; | loudness &lt;dbl&gt; | mode &lt;chr&gt; | speechiness &lt;dbl&gt; | tempo &lt;chr&gt; | obtained_date &lt;chr&gt; | valence &lt;dbl&gt; | music_genre &lt;chr&gt; |\n",
       "|---|---|---|---|---|---|---|---|---|---|---|---|---|---|---|---|---|---|\n",
       "| 32894 | Röyksopp             | Röyksopp's Night Out | 27 | 0.00468 | 0.652 |     -1 | 0.941 | 0.7920 | A# | 0.115 | -5.201 | Minor | 0.0748 | 100.889            | 4-Apr | 0.759 | Electronic |\n",
       "| 46652 | Thievery Corporation | The Shining Path     | 31 | 0.01270 | 0.622 | 218293 | 0.890 | 0.9500 | D  | 0.124 | -7.043 | Minor | 0.0300 | 115.00200000000001 | 4-Apr | 0.531 | Electronic |\n",
       "| 30097 | Dillon Francis       | Hurricane            | 28 | 0.00306 | 0.620 | 215613 | 0.755 | 0.0118 | G# | 0.534 | -4.617 | Major | 0.0345 | 127.994            | 4-Apr | 0.333 | Electronic |\n",
       "| ⋮ | ⋮ | ⋮ | ⋮ | ⋮ | ⋮ | ⋮ | ⋮ | ⋮ | ⋮ | ⋮ | ⋮ | ⋮ | ⋮ | ⋮ | ⋮ | ⋮ | ⋮ |\n",
       "| 39767 | Berner            | Lovin' Me (feat. Smiggz) | 51 | 0.00597 | 0.693 | 189483 | 0.763 | 0 | D  | 0.143 |  -5.443 | Major | 0.1460 | 131.079           | 4-Apr | 0.395 | Hip-Hop |\n",
       "| 57944 | The-Dream         | Shawty Is Da Shit        | 65 | 0.08310 | 0.782 | 262773 | 0.472 | 0 | G  | 0.106 |  -5.016 | Minor | 0.0441 | 75.88600000000001 | 4-Apr | 0.354 | Hip-Hop |\n",
       "| 63470 | Naughty By Nature | Hip Hop Hooray           | 67 | 0.10200 | 0.862 | 267267 | 0.642 | 0 | F# | 0.272 | -13.652 | Minor | 0.1010 | 99.20100000000001 | 4-Apr | 0.765 | Hip-Hop |\n",
       "\n"
      ],
      "text/plain": [
       "      instance_id artist_name          track_name               popularity\n",
       "1     32894       Röyksopp             Röyksopp's Night Out     27        \n",
       "2     46652       Thievery Corporation The Shining Path         31        \n",
       "3     30097       Dillon Francis       Hurricane                28        \n",
       "⋮     ⋮           ⋮                    ⋮                        ⋮         \n",
       "50003 39767       Berner               Lovin' Me (feat. Smiggz) 51        \n",
       "50004 57944       The-Dream            Shawty Is Da Shit        65        \n",
       "50005 63470       Naughty By Nature    Hip Hop Hooray           67        \n",
       "      acousticness danceability duration_ms energy instrumentalness key\n",
       "1     0.00468      0.652            -1      0.941  0.7920           A# \n",
       "2     0.01270      0.622        218293      0.890  0.9500           D  \n",
       "3     0.00306      0.620        215613      0.755  0.0118           G# \n",
       "⋮     ⋮            ⋮            ⋮           ⋮      ⋮                ⋮  \n",
       "50003 0.00597      0.693        189483      0.763  0                D  \n",
       "50004 0.08310      0.782        262773      0.472  0                G  \n",
       "50005 0.10200      0.862        267267      0.642  0                F# \n",
       "      liveness loudness mode  speechiness tempo              obtained_date\n",
       "1     0.115    -5.201   Minor 0.0748      100.889            4-Apr        \n",
       "2     0.124    -7.043   Minor 0.0300      115.00200000000001 4-Apr        \n",
       "3     0.534    -4.617   Major 0.0345      127.994            4-Apr        \n",
       "⋮     ⋮        ⋮        ⋮     ⋮           ⋮                  ⋮            \n",
       "50003 0.143     -5.443  Major 0.1460      131.079            4-Apr        \n",
       "50004 0.106     -5.016  Minor 0.0441      75.88600000000001  4-Apr        \n",
       "50005 0.272    -13.652  Minor 0.1010      99.20100000000001  4-Apr        \n",
       "      valence music_genre\n",
       "1     0.759   Electronic \n",
       "2     0.531   Electronic \n",
       "3     0.333   Electronic \n",
       "⋮     ⋮       ⋮          \n",
       "50003 0.395   Hip-Hop    \n",
       "50004 0.354   Hip-Hop    \n",
       "50005 0.765   Hip-Hop    "
      ]
     },
     "metadata": {},
     "output_type": "display_data"
    }
   ],
   "source": [
    "### data is read from online\n",
    "data <- read_csv(file = \"data/music_genre.csv\")\n",
    "data"
   ]
  },
  {
   "cell_type": "markdown",
   "metadata": {},
   "source": [
    "### Variable Explanations:"
   ]
  },
  {
   "cell_type": "markdown",
   "metadata": {},
   "source": [
    "`artist_name`: The artist that released the song. Will not be used as a predictor but left in data for identification purposes.\n",
    "\n",
    "`track_name`: Name of the track released. Will not be used as a predictor but left in data for identification purposes.\n",
    "\n",
    "`popularity`: A 0 to 100 score that ranks how popular an artist is relative to other artists on Spotify. Certain genres gain more popularity than others (Ex. Pop and Rap songs are generally more popular than Anime). This might be a good hint for genre identification.\n",
    "\n",
    "`acousticness`: A confidence measure from 0.0 to 1.0 of whether the track is acoustic. 1.0 very confident the track is acoustic. Certain genres are characterisitcally acoustic (Ex. Country), while some are characteristically not (Ex. Rap).\n",
    "\n",
    "`danceability`: Describes how suitable a track is for dancing based on a combination of musical elements including tempo, rhythm stability, beat strength, and overall regularity. A scale from 0.0 (least danceable) to 1.0 (most danceable). Certain genres (Ex. Pop) are better suited for dancing, often by intent, than others (Ex. Classical).\n",
    "\n",
    "`duration_ms`: The duration of the track in milliseconds. Shorter songs may indicate a faster pace, which is characteristic of certain genres more than others.\n",
    "\n",
    "`energy`: A measure from 0.0 to 1.0 and represents a perceptual measure of intensity and activity. Energy may indicate the artist's intent behind the song, which varies dramatically between genres (Ex. Pop is meant for dance, Classical is meant for ambience).\n",
    "\n",
    "`instrumentalness`: Predicts whether a track contains no vocals. A scale from 0.0 to 1.0, the closer to 1.0 the greater likelihood the track contains no vocal content. Some genres are known for their prevalence of vocals, such as rap.\n",
    "\n",
    "`liveness`: Detects the presence of an audience in the recording. A scale from 0.0 to 1.0, the closer to 1.0 the more likelihood of the track was performed live. Performance culture varies between songs. For instance, pop song culture often involves large stages and crowd gatherings, whereas songs in the Anime genre are usually not performed live.\n",
    "\n",
    "`loudness`: The overall loudness of a track in decibels (dB),values are the averaged across the track. A scale of -60.0 to 0.0. Loudness may indicate the purpose of the song (Is the song blastable, or is it meant for personal listening?)\n",
    "\n",
    "`mode`: Is the track in Major or Minor. Major vs Minor choice influences what the sound 'feels' like. Major songs are known for being 'happy', whereas Minor songs are known for sounding 'sad'. Certain moods are more prevalent in certain genres than others.\n",
    "\n",
    "`speechiness`: Detects the presence of spoken words in a track. A scale from 0.0 to 1.0, the closer to 1.0 the more likelihood of being an exclusively speech-like recording. This is similar to the instrumentalness variable. Vocal presence is a primary characteristic in some genres (Ex. rap).\n",
    "\n",
    "`tempo`: The overall estimated tempo of a track in beats per minute (BPM). Similar to duration in indicating song intent.\n",
    "\n",
    "`valence`: A measure from 0.0 to 1.0 describing the musical positiveness conveyed by a track. Tracks with high valence sound more happy, whereas tracks with low valence sound more sad. Certain genres converge around specific moods (Ex. Rap conveys \n",
    "\n",
    "`music_genre`: What the genre of the track is. Will be used for accuracy verification. Not a predictor variable.\n",
    "\n",
    "This dataset is already tidy, for which each variable had it's own column. Each observation is in it's own row, each cell has exactly one data point."
   ]
  },
  {
   "cell_type": "markdown",
   "metadata": {},
   "source": [
    "### Excluded Variables:"
   ]
  },
  {
   "cell_type": "markdown",
   "metadata": {},
   "source": [
    "`instance_id`: This is just a database identifier and gives no hint toward the song genre.\n",
    "\n",
    "`key`: We felt that the key of the track will not be a variable that we will need in determining the genre of the track.\n",
    "\n",
    "`obtained_date`: We do not need the date that this track was obtained from the internet."
   ]
  },
  {
   "cell_type": "code",
   "execution_count": 32,
   "metadata": {},
   "outputs": [
    {
     "name": "stderr",
     "output_type": "stream",
     "text": [
      "Warning message:\n",
      "“Problem with `mutate()` input `tempo`.\n",
      "\u001b[34mℹ\u001b[39m NAs introduced by coercion\n",
      "\u001b[34mℹ\u001b[39m Input `tempo` is `as.double(tempo)`.”\n",
      "Warning message in mask$eval_all_mutate(dots[[i]]):\n",
      "“NAs introduced by coercion”\n"
     ]
    },
    {
     "data": {
      "text/html": [
       "<table>\n",
       "<caption>A tibble: 50005 × 15</caption>\n",
       "<thead>\n",
       "\t<tr><th scope=col>artist_name</th><th scope=col>track_name</th><th scope=col>popularity</th><th scope=col>acousticness</th><th scope=col>danceability</th><th scope=col>duration_ms</th><th scope=col>energy</th><th scope=col>instrumentalness</th><th scope=col>liveness</th><th scope=col>loudness</th><th scope=col>mode</th><th scope=col>speechiness</th><th scope=col>tempo</th><th scope=col>valence</th><th scope=col>music_genre</th></tr>\n",
       "\t<tr><th scope=col>&lt;chr&gt;</th><th scope=col>&lt;chr&gt;</th><th scope=col>&lt;dbl&gt;</th><th scope=col>&lt;dbl&gt;</th><th scope=col>&lt;dbl&gt;</th><th scope=col>&lt;dbl&gt;</th><th scope=col>&lt;dbl&gt;</th><th scope=col>&lt;dbl&gt;</th><th scope=col>&lt;dbl&gt;</th><th scope=col>&lt;dbl&gt;</th><th scope=col>&lt;fct&gt;</th><th scope=col>&lt;dbl&gt;</th><th scope=col>&lt;dbl&gt;</th><th scope=col>&lt;dbl&gt;</th><th scope=col>&lt;fct&gt;</th></tr>\n",
       "</thead>\n",
       "<tbody>\n",
       "\t<tr><td>Röyksopp            </td><td>Röyksopp's Night Out</td><td>27</td><td>0.00468</td><td>0.652</td><td>    -1</td><td>0.941</td><td>0.7920</td><td>0.115</td><td>-5.201</td><td>Minor</td><td>0.0748</td><td>100.889</td><td>0.759</td><td>Electronic</td></tr>\n",
       "\t<tr><td>Thievery Corporation</td><td>The Shining Path    </td><td>31</td><td>0.01270</td><td>0.622</td><td>218293</td><td>0.890</td><td>0.9500</td><td>0.124</td><td>-7.043</td><td>Minor</td><td>0.0300</td><td>115.002</td><td>0.531</td><td>Electronic</td></tr>\n",
       "\t<tr><td>Dillon Francis      </td><td>Hurricane           </td><td>28</td><td>0.00306</td><td>0.620</td><td>215613</td><td>0.755</td><td>0.0118</td><td>0.534</td><td>-4.617</td><td>Major</td><td>0.0345</td><td>127.994</td><td>0.333</td><td>Electronic</td></tr>\n",
       "\t<tr><td>⋮</td><td>⋮</td><td>⋮</td><td>⋮</td><td>⋮</td><td>⋮</td><td>⋮</td><td>⋮</td><td>⋮</td><td>⋮</td><td>⋮</td><td>⋮</td><td>⋮</td><td>⋮</td><td>⋮</td></tr>\n",
       "\t<tr><td>Berner           </td><td>Lovin' Me (feat. Smiggz)</td><td>51</td><td>0.00597</td><td>0.693</td><td>189483</td><td>0.763</td><td>0</td><td>0.143</td><td> -5.443</td><td>Major</td><td>0.1460</td><td>131.079</td><td>0.395</td><td>Hip-Hop</td></tr>\n",
       "\t<tr><td>The-Dream        </td><td>Shawty Is Da Shit       </td><td>65</td><td>0.08310</td><td>0.782</td><td>262773</td><td>0.472</td><td>0</td><td>0.106</td><td> -5.016</td><td>Minor</td><td>0.0441</td><td> 75.886</td><td>0.354</td><td>Hip-Hop</td></tr>\n",
       "\t<tr><td>Naughty By Nature</td><td>Hip Hop Hooray          </td><td>67</td><td>0.10200</td><td>0.862</td><td>267267</td><td>0.642</td><td>0</td><td>0.272</td><td>-13.652</td><td>Minor</td><td>0.1010</td><td> 99.201</td><td>0.765</td><td>Hip-Hop</td></tr>\n",
       "</tbody>\n",
       "</table>\n"
      ],
      "text/latex": [
       "A tibble: 50005 × 15\n",
       "\\begin{tabular}{lllllllllllllll}\n",
       " artist\\_name & track\\_name & popularity & acousticness & danceability & duration\\_ms & energy & instrumentalness & liveness & loudness & mode & speechiness & tempo & valence & music\\_genre\\\\\n",
       " <chr> & <chr> & <dbl> & <dbl> & <dbl> & <dbl> & <dbl> & <dbl> & <dbl> & <dbl> & <fct> & <dbl> & <dbl> & <dbl> & <fct>\\\\\n",
       "\\hline\n",
       "\t Röyksopp             & Röyksopp's Night Out & 27 & 0.00468 & 0.652 &     -1 & 0.941 & 0.7920 & 0.115 & -5.201 & Minor & 0.0748 & 100.889 & 0.759 & Electronic\\\\\n",
       "\t Thievery Corporation & The Shining Path     & 31 & 0.01270 & 0.622 & 218293 & 0.890 & 0.9500 & 0.124 & -7.043 & Minor & 0.0300 & 115.002 & 0.531 & Electronic\\\\\n",
       "\t Dillon Francis       & Hurricane            & 28 & 0.00306 & 0.620 & 215613 & 0.755 & 0.0118 & 0.534 & -4.617 & Major & 0.0345 & 127.994 & 0.333 & Electronic\\\\\n",
       "\t ⋮ & ⋮ & ⋮ & ⋮ & ⋮ & ⋮ & ⋮ & ⋮ & ⋮ & ⋮ & ⋮ & ⋮ & ⋮ & ⋮ & ⋮\\\\\n",
       "\t Berner            & Lovin' Me (feat. Smiggz) & 51 & 0.00597 & 0.693 & 189483 & 0.763 & 0 & 0.143 &  -5.443 & Major & 0.1460 & 131.079 & 0.395 & Hip-Hop\\\\\n",
       "\t The-Dream         & Shawty Is Da Shit        & 65 & 0.08310 & 0.782 & 262773 & 0.472 & 0 & 0.106 &  -5.016 & Minor & 0.0441 &  75.886 & 0.354 & Hip-Hop\\\\\n",
       "\t Naughty By Nature & Hip Hop Hooray           & 67 & 0.10200 & 0.862 & 267267 & 0.642 & 0 & 0.272 & -13.652 & Minor & 0.1010 &  99.201 & 0.765 & Hip-Hop\\\\\n",
       "\\end{tabular}\n"
      ],
      "text/markdown": [
       "\n",
       "A tibble: 50005 × 15\n",
       "\n",
       "| artist_name &lt;chr&gt; | track_name &lt;chr&gt; | popularity &lt;dbl&gt; | acousticness &lt;dbl&gt; | danceability &lt;dbl&gt; | duration_ms &lt;dbl&gt; | energy &lt;dbl&gt; | instrumentalness &lt;dbl&gt; | liveness &lt;dbl&gt; | loudness &lt;dbl&gt; | mode &lt;fct&gt; | speechiness &lt;dbl&gt; | tempo &lt;dbl&gt; | valence &lt;dbl&gt; | music_genre &lt;fct&gt; |\n",
       "|---|---|---|---|---|---|---|---|---|---|---|---|---|---|---|\n",
       "| Röyksopp             | Röyksopp's Night Out | 27 | 0.00468 | 0.652 |     -1 | 0.941 | 0.7920 | 0.115 | -5.201 | Minor | 0.0748 | 100.889 | 0.759 | Electronic |\n",
       "| Thievery Corporation | The Shining Path     | 31 | 0.01270 | 0.622 | 218293 | 0.890 | 0.9500 | 0.124 | -7.043 | Minor | 0.0300 | 115.002 | 0.531 | Electronic |\n",
       "| Dillon Francis       | Hurricane            | 28 | 0.00306 | 0.620 | 215613 | 0.755 | 0.0118 | 0.534 | -4.617 | Major | 0.0345 | 127.994 | 0.333 | Electronic |\n",
       "| ⋮ | ⋮ | ⋮ | ⋮ | ⋮ | ⋮ | ⋮ | ⋮ | ⋮ | ⋮ | ⋮ | ⋮ | ⋮ | ⋮ | ⋮ |\n",
       "| Berner            | Lovin' Me (feat. Smiggz) | 51 | 0.00597 | 0.693 | 189483 | 0.763 | 0 | 0.143 |  -5.443 | Major | 0.1460 | 131.079 | 0.395 | Hip-Hop |\n",
       "| The-Dream         | Shawty Is Da Shit        | 65 | 0.08310 | 0.782 | 262773 | 0.472 | 0 | 0.106 |  -5.016 | Minor | 0.0441 |  75.886 | 0.354 | Hip-Hop |\n",
       "| Naughty By Nature | Hip Hop Hooray           | 67 | 0.10200 | 0.862 | 267267 | 0.642 | 0 | 0.272 | -13.652 | Minor | 0.1010 |  99.201 | 0.765 | Hip-Hop |\n",
       "\n"
      ],
      "text/plain": [
       "      artist_name          track_name               popularity acousticness\n",
       "1     Röyksopp             Röyksopp's Night Out     27         0.00468     \n",
       "2     Thievery Corporation The Shining Path         31         0.01270     \n",
       "3     Dillon Francis       Hurricane                28         0.00306     \n",
       "⋮     ⋮                    ⋮                        ⋮          ⋮           \n",
       "50003 Berner               Lovin' Me (feat. Smiggz) 51         0.00597     \n",
       "50004 The-Dream            Shawty Is Da Shit        65         0.08310     \n",
       "50005 Naughty By Nature    Hip Hop Hooray           67         0.10200     \n",
       "      danceability duration_ms energy instrumentalness liveness loudness mode \n",
       "1     0.652            -1      0.941  0.7920           0.115    -5.201   Minor\n",
       "2     0.622        218293      0.890  0.9500           0.124    -7.043   Minor\n",
       "3     0.620        215613      0.755  0.0118           0.534    -4.617   Major\n",
       "⋮     ⋮            ⋮           ⋮      ⋮                ⋮        ⋮        ⋮    \n",
       "50003 0.693        189483      0.763  0                0.143     -5.443  Major\n",
       "50004 0.782        262773      0.472  0                0.106     -5.016  Minor\n",
       "50005 0.862        267267      0.642  0                0.272    -13.652  Minor\n",
       "      speechiness tempo   valence music_genre\n",
       "1     0.0748      100.889 0.759   Electronic \n",
       "2     0.0300      115.002 0.531   Electronic \n",
       "3     0.0345      127.994 0.333   Electronic \n",
       "⋮     ⋮           ⋮       ⋮       ⋮          \n",
       "50003 0.1460      131.079 0.395   Hip-Hop    \n",
       "50004 0.0441       75.886 0.354   Hip-Hop    \n",
       "50005 0.1010       99.201 0.765   Hip-Hop    "
      ]
     },
     "metadata": {},
     "output_type": "display_data"
    }
   ],
   "source": [
    "### removing the columns we don't need\n",
    "data_select <- data %>%\n",
    "            select(-instance_id, -key,-obtained_date)\n",
    "data_factor <- mutate(data_select,\n",
    "                  mode = as.factor(mode),\n",
    "                  music_genre = as.factor(music_genre),\n",
    "                  tempo = as.double(tempo))\n",
    "data_factor"
   ]
  },
  {
   "cell_type": "code",
   "execution_count": 37,
   "metadata": {},
   "outputs": [
    {
     "name": "stderr",
     "output_type": "stream",
     "text": [
      "Warning message:\n",
      "“Too little data to stratify. Unstratified resampling will be used.”\n"
     ]
    },
    {
     "data": {
      "text/html": [
       "<table>\n",
       "<caption>A tibble: 37504 × 15</caption>\n",
       "<thead>\n",
       "\t<tr><th scope=col>artist_name</th><th scope=col>track_name</th><th scope=col>popularity</th><th scope=col>acousticness</th><th scope=col>danceability</th><th scope=col>duration_ms</th><th scope=col>energy</th><th scope=col>instrumentalness</th><th scope=col>liveness</th><th scope=col>loudness</th><th scope=col>mode</th><th scope=col>speechiness</th><th scope=col>tempo</th><th scope=col>valence</th><th scope=col>music_genre</th></tr>\n",
       "\t<tr><th scope=col>&lt;chr&gt;</th><th scope=col>&lt;chr&gt;</th><th scope=col>&lt;dbl&gt;</th><th scope=col>&lt;dbl&gt;</th><th scope=col>&lt;dbl&gt;</th><th scope=col>&lt;dbl&gt;</th><th scope=col>&lt;dbl&gt;</th><th scope=col>&lt;dbl&gt;</th><th scope=col>&lt;dbl&gt;</th><th scope=col>&lt;dbl&gt;</th><th scope=col>&lt;fct&gt;</th><th scope=col>&lt;dbl&gt;</th><th scope=col>&lt;dbl&gt;</th><th scope=col>&lt;dbl&gt;</th><th scope=col>&lt;fct&gt;</th></tr>\n",
       "</thead>\n",
       "<tbody>\n",
       "\t<tr><td>Röyksopp            </td><td>Röyksopp's Night Out</td><td>27</td><td>0.00468</td><td>0.652</td><td>    -1</td><td>0.941</td><td>7.92e-01</td><td>0.115</td><td>-5.201</td><td>Minor</td><td>0.0748</td><td>100.889</td><td>0.759</td><td>Electronic</td></tr>\n",
       "\t<tr><td>Thievery Corporation</td><td>The Shining Path    </td><td>31</td><td>0.01270</td><td>0.622</td><td>218293</td><td>0.890</td><td>9.50e-01</td><td>0.124</td><td>-7.043</td><td>Minor</td><td>0.0300</td><td>115.002</td><td>0.531</td><td>Electronic</td></tr>\n",
       "\t<tr><td>Jordan Comolli      </td><td>Clash               </td><td>46</td><td>0.02890</td><td>0.572</td><td>214408</td><td>0.803</td><td>7.74e-06</td><td>0.106</td><td>-4.294</td><td>Major</td><td>0.3510</td><td>149.995</td><td>0.230</td><td>Electronic</td></tr>\n",
       "\t<tr><td>⋮</td><td>⋮</td><td>⋮</td><td>⋮</td><td>⋮</td><td>⋮</td><td>⋮</td><td>⋮</td><td>⋮</td><td>⋮</td><td>⋮</td><td>⋮</td><td>⋮</td><td>⋮</td><td>⋮</td></tr>\n",
       "\t<tr><td>Berner           </td><td>Lovin' Me (feat. Smiggz)</td><td>51</td><td>0.00597</td><td>0.693</td><td>189483</td><td>0.763</td><td>0</td><td>0.143</td><td> -5.443</td><td>Major</td><td>0.1460</td><td>131.079</td><td>0.395</td><td>Hip-Hop</td></tr>\n",
       "\t<tr><td>The-Dream        </td><td>Shawty Is Da Shit       </td><td>65</td><td>0.08310</td><td>0.782</td><td>262773</td><td>0.472</td><td>0</td><td>0.106</td><td> -5.016</td><td>Minor</td><td>0.0441</td><td> 75.886</td><td>0.354</td><td>Hip-Hop</td></tr>\n",
       "\t<tr><td>Naughty By Nature</td><td>Hip Hop Hooray          </td><td>67</td><td>0.10200</td><td>0.862</td><td>267267</td><td>0.642</td><td>0</td><td>0.272</td><td>-13.652</td><td>Minor</td><td>0.1010</td><td> 99.201</td><td>0.765</td><td>Hip-Hop</td></tr>\n",
       "</tbody>\n",
       "</table>\n"
      ],
      "text/latex": [
       "A tibble: 37504 × 15\n",
       "\\begin{tabular}{lllllllllllllll}\n",
       " artist\\_name & track\\_name & popularity & acousticness & danceability & duration\\_ms & energy & instrumentalness & liveness & loudness & mode & speechiness & tempo & valence & music\\_genre\\\\\n",
       " <chr> & <chr> & <dbl> & <dbl> & <dbl> & <dbl> & <dbl> & <dbl> & <dbl> & <dbl> & <fct> & <dbl> & <dbl> & <dbl> & <fct>\\\\\n",
       "\\hline\n",
       "\t Röyksopp             & Röyksopp's Night Out & 27 & 0.00468 & 0.652 &     -1 & 0.941 & 7.92e-01 & 0.115 & -5.201 & Minor & 0.0748 & 100.889 & 0.759 & Electronic\\\\\n",
       "\t Thievery Corporation & The Shining Path     & 31 & 0.01270 & 0.622 & 218293 & 0.890 & 9.50e-01 & 0.124 & -7.043 & Minor & 0.0300 & 115.002 & 0.531 & Electronic\\\\\n",
       "\t Jordan Comolli       & Clash                & 46 & 0.02890 & 0.572 & 214408 & 0.803 & 7.74e-06 & 0.106 & -4.294 & Major & 0.3510 & 149.995 & 0.230 & Electronic\\\\\n",
       "\t ⋮ & ⋮ & ⋮ & ⋮ & ⋮ & ⋮ & ⋮ & ⋮ & ⋮ & ⋮ & ⋮ & ⋮ & ⋮ & ⋮ & ⋮\\\\\n",
       "\t Berner            & Lovin' Me (feat. Smiggz) & 51 & 0.00597 & 0.693 & 189483 & 0.763 & 0 & 0.143 &  -5.443 & Major & 0.1460 & 131.079 & 0.395 & Hip-Hop\\\\\n",
       "\t The-Dream         & Shawty Is Da Shit        & 65 & 0.08310 & 0.782 & 262773 & 0.472 & 0 & 0.106 &  -5.016 & Minor & 0.0441 &  75.886 & 0.354 & Hip-Hop\\\\\n",
       "\t Naughty By Nature & Hip Hop Hooray           & 67 & 0.10200 & 0.862 & 267267 & 0.642 & 0 & 0.272 & -13.652 & Minor & 0.1010 &  99.201 & 0.765 & Hip-Hop\\\\\n",
       "\\end{tabular}\n"
      ],
      "text/markdown": [
       "\n",
       "A tibble: 37504 × 15\n",
       "\n",
       "| artist_name &lt;chr&gt; | track_name &lt;chr&gt; | popularity &lt;dbl&gt; | acousticness &lt;dbl&gt; | danceability &lt;dbl&gt; | duration_ms &lt;dbl&gt; | energy &lt;dbl&gt; | instrumentalness &lt;dbl&gt; | liveness &lt;dbl&gt; | loudness &lt;dbl&gt; | mode &lt;fct&gt; | speechiness &lt;dbl&gt; | tempo &lt;dbl&gt; | valence &lt;dbl&gt; | music_genre &lt;fct&gt; |\n",
       "|---|---|---|---|---|---|---|---|---|---|---|---|---|---|---|\n",
       "| Röyksopp             | Röyksopp's Night Out | 27 | 0.00468 | 0.652 |     -1 | 0.941 | 7.92e-01 | 0.115 | -5.201 | Minor | 0.0748 | 100.889 | 0.759 | Electronic |\n",
       "| Thievery Corporation | The Shining Path     | 31 | 0.01270 | 0.622 | 218293 | 0.890 | 9.50e-01 | 0.124 | -7.043 | Minor | 0.0300 | 115.002 | 0.531 | Electronic |\n",
       "| Jordan Comolli       | Clash                | 46 | 0.02890 | 0.572 | 214408 | 0.803 | 7.74e-06 | 0.106 | -4.294 | Major | 0.3510 | 149.995 | 0.230 | Electronic |\n",
       "| ⋮ | ⋮ | ⋮ | ⋮ | ⋮ | ⋮ | ⋮ | ⋮ | ⋮ | ⋮ | ⋮ | ⋮ | ⋮ | ⋮ | ⋮ |\n",
       "| Berner            | Lovin' Me (feat. Smiggz) | 51 | 0.00597 | 0.693 | 189483 | 0.763 | 0 | 0.143 |  -5.443 | Major | 0.1460 | 131.079 | 0.395 | Hip-Hop |\n",
       "| The-Dream         | Shawty Is Da Shit        | 65 | 0.08310 | 0.782 | 262773 | 0.472 | 0 | 0.106 |  -5.016 | Minor | 0.0441 |  75.886 | 0.354 | Hip-Hop |\n",
       "| Naughty By Nature | Hip Hop Hooray           | 67 | 0.10200 | 0.862 | 267267 | 0.642 | 0 | 0.272 | -13.652 | Minor | 0.1010 |  99.201 | 0.765 | Hip-Hop |\n",
       "\n"
      ],
      "text/plain": [
       "      artist_name          track_name               popularity acousticness\n",
       "1     Röyksopp             Röyksopp's Night Out     27         0.00468     \n",
       "2     Thievery Corporation The Shining Path         31         0.01270     \n",
       "3     Jordan Comolli       Clash                    46         0.02890     \n",
       "⋮     ⋮                    ⋮                        ⋮          ⋮           \n",
       "37502 Berner               Lovin' Me (feat. Smiggz) 51         0.00597     \n",
       "37503 The-Dream            Shawty Is Da Shit        65         0.08310     \n",
       "37504 Naughty By Nature    Hip Hop Hooray           67         0.10200     \n",
       "      danceability duration_ms energy instrumentalness liveness loudness mode \n",
       "1     0.652            -1      0.941  7.92e-01         0.115    -5.201   Minor\n",
       "2     0.622        218293      0.890  9.50e-01         0.124    -7.043   Minor\n",
       "3     0.572        214408      0.803  7.74e-06         0.106    -4.294   Major\n",
       "⋮     ⋮            ⋮           ⋮      ⋮                ⋮        ⋮        ⋮    \n",
       "37502 0.693        189483      0.763  0                0.143     -5.443  Major\n",
       "37503 0.782        262773      0.472  0                0.106     -5.016  Minor\n",
       "37504 0.862        267267      0.642  0                0.272    -13.652  Minor\n",
       "      speechiness tempo   valence music_genre\n",
       "1     0.0748      100.889 0.759   Electronic \n",
       "2     0.0300      115.002 0.531   Electronic \n",
       "3     0.3510      149.995 0.230   Electronic \n",
       "⋮     ⋮           ⋮       ⋮       ⋮          \n",
       "37502 0.1460      131.079 0.395   Hip-Hop    \n",
       "37503 0.0441       75.886 0.354   Hip-Hop    \n",
       "37504 0.1010       99.201 0.765   Hip-Hop    "
      ]
     },
     "metadata": {},
     "output_type": "display_data"
    },
    {
     "data": {
      "text/html": [
       "<table>\n",
       "<caption>A tibble: 12501 × 15</caption>\n",
       "<thead>\n",
       "\t<tr><th scope=col>artist_name</th><th scope=col>track_name</th><th scope=col>popularity</th><th scope=col>acousticness</th><th scope=col>danceability</th><th scope=col>duration_ms</th><th scope=col>energy</th><th scope=col>instrumentalness</th><th scope=col>liveness</th><th scope=col>loudness</th><th scope=col>mode</th><th scope=col>speechiness</th><th scope=col>tempo</th><th scope=col>valence</th><th scope=col>music_genre</th></tr>\n",
       "\t<tr><th scope=col>&lt;chr&gt;</th><th scope=col>&lt;chr&gt;</th><th scope=col>&lt;dbl&gt;</th><th scope=col>&lt;dbl&gt;</th><th scope=col>&lt;dbl&gt;</th><th scope=col>&lt;dbl&gt;</th><th scope=col>&lt;dbl&gt;</th><th scope=col>&lt;dbl&gt;</th><th scope=col>&lt;dbl&gt;</th><th scope=col>&lt;dbl&gt;</th><th scope=col>&lt;fct&gt;</th><th scope=col>&lt;dbl&gt;</th><th scope=col>&lt;dbl&gt;</th><th scope=col>&lt;dbl&gt;</th><th scope=col>&lt;fct&gt;</th></tr>\n",
       "</thead>\n",
       "<tbody>\n",
       "\t<tr><td>Dillon Francis</td><td>Hurricane       </td><td>28</td><td>0.00306</td><td>0.620</td><td>215613</td><td>0.755</td><td>0.01180</td><td>0.534</td><td>-4.617</td><td>Major</td><td>0.0345</td><td>127.994</td><td>0.333</td><td>Electronic</td></tr>\n",
       "\t<tr><td>Dubloadz      </td><td>Nitro           </td><td>34</td><td>0.02540</td><td>0.774</td><td>166875</td><td>0.700</td><td>0.00253</td><td>0.157</td><td>-4.498</td><td>Major</td><td>0.2390</td><td>128.014</td><td>0.270</td><td>Electronic</td></tr>\n",
       "\t<tr><td><span style=white-space:pre-wrap>What So Not   </span></td><td>Divide &amp; Conquer</td><td>32</td><td>0.00465</td><td>0.638</td><td>222369</td><td>0.587</td><td>0.90900</td><td>0.157</td><td>-6.266</td><td>Major</td><td>0.0413</td><td>145.036</td><td>0.323</td><td>Electronic</td></tr>\n",
       "\t<tr><td>⋮</td><td>⋮</td><td>⋮</td><td>⋮</td><td>⋮</td><td>⋮</td><td>⋮</td><td>⋮</td><td>⋮</td><td>⋮</td><td>⋮</td><td>⋮</td><td>⋮</td><td>⋮</td><td>⋮</td></tr>\n",
       "\t<tr><td>Lecrae   </td><td>Cry For You        </td><td>54</td><td>0.304000</td><td>0.642</td><td>263467</td><td>0.353</td><td>0.00e+00</td><td>0.0927</td><td>-12.384</td><td>Minor</td><td>0.215</td><td> 89.596</td><td>0.276</td><td>Hip-Hop</td></tr>\n",
       "\t<tr><td>Too $hort</td><td>Shake That Monkey  </td><td>55</td><td>0.000577</td><td>0.937</td><td>278707</td><td>0.695</td><td>3.19e-05</td><td>0.2950</td><td> -6.932</td><td>Major</td><td>0.134</td><td> 99.997</td><td>0.457</td><td>Hip-Hop</td></tr>\n",
       "\t<tr><td>Roy Woods</td><td>Drama (feat. Drake)</td><td>72</td><td>0.157000</td><td>0.709</td><td>251860</td><td>0.362</td><td>0.00e+00</td><td>0.1090</td><td> -9.814</td><td>Major</td><td>0.055</td><td>122.043</td><td>0.113</td><td>Hip-Hop</td></tr>\n",
       "</tbody>\n",
       "</table>\n"
      ],
      "text/latex": [
       "A tibble: 12501 × 15\n",
       "\\begin{tabular}{lllllllllllllll}\n",
       " artist\\_name & track\\_name & popularity & acousticness & danceability & duration\\_ms & energy & instrumentalness & liveness & loudness & mode & speechiness & tempo & valence & music\\_genre\\\\\n",
       " <chr> & <chr> & <dbl> & <dbl> & <dbl> & <dbl> & <dbl> & <dbl> & <dbl> & <dbl> & <fct> & <dbl> & <dbl> & <dbl> & <fct>\\\\\n",
       "\\hline\n",
       "\t Dillon Francis & Hurricane        & 28 & 0.00306 & 0.620 & 215613 & 0.755 & 0.01180 & 0.534 & -4.617 & Major & 0.0345 & 127.994 & 0.333 & Electronic\\\\\n",
       "\t Dubloadz       & Nitro            & 34 & 0.02540 & 0.774 & 166875 & 0.700 & 0.00253 & 0.157 & -4.498 & Major & 0.2390 & 128.014 & 0.270 & Electronic\\\\\n",
       "\t What So Not    & Divide \\& Conquer & 32 & 0.00465 & 0.638 & 222369 & 0.587 & 0.90900 & 0.157 & -6.266 & Major & 0.0413 & 145.036 & 0.323 & Electronic\\\\\n",
       "\t ⋮ & ⋮ & ⋮ & ⋮ & ⋮ & ⋮ & ⋮ & ⋮ & ⋮ & ⋮ & ⋮ & ⋮ & ⋮ & ⋮ & ⋮\\\\\n",
       "\t Lecrae    & Cry For You         & 54 & 0.304000 & 0.642 & 263467 & 0.353 & 0.00e+00 & 0.0927 & -12.384 & Minor & 0.215 &  89.596 & 0.276 & Hip-Hop\\\\\n",
       "\t Too \\$hort & Shake That Monkey   & 55 & 0.000577 & 0.937 & 278707 & 0.695 & 3.19e-05 & 0.2950 &  -6.932 & Major & 0.134 &  99.997 & 0.457 & Hip-Hop\\\\\n",
       "\t Roy Woods & Drama (feat. Drake) & 72 & 0.157000 & 0.709 & 251860 & 0.362 & 0.00e+00 & 0.1090 &  -9.814 & Major & 0.055 & 122.043 & 0.113 & Hip-Hop\\\\\n",
       "\\end{tabular}\n"
      ],
      "text/markdown": [
       "\n",
       "A tibble: 12501 × 15\n",
       "\n",
       "| artist_name &lt;chr&gt; | track_name &lt;chr&gt; | popularity &lt;dbl&gt; | acousticness &lt;dbl&gt; | danceability &lt;dbl&gt; | duration_ms &lt;dbl&gt; | energy &lt;dbl&gt; | instrumentalness &lt;dbl&gt; | liveness &lt;dbl&gt; | loudness &lt;dbl&gt; | mode &lt;fct&gt; | speechiness &lt;dbl&gt; | tempo &lt;dbl&gt; | valence &lt;dbl&gt; | music_genre &lt;fct&gt; |\n",
       "|---|---|---|---|---|---|---|---|---|---|---|---|---|---|---|\n",
       "| Dillon Francis | Hurricane        | 28 | 0.00306 | 0.620 | 215613 | 0.755 | 0.01180 | 0.534 | -4.617 | Major | 0.0345 | 127.994 | 0.333 | Electronic |\n",
       "| Dubloadz       | Nitro            | 34 | 0.02540 | 0.774 | 166875 | 0.700 | 0.00253 | 0.157 | -4.498 | Major | 0.2390 | 128.014 | 0.270 | Electronic |\n",
       "| What So Not    | Divide &amp; Conquer | 32 | 0.00465 | 0.638 | 222369 | 0.587 | 0.90900 | 0.157 | -6.266 | Major | 0.0413 | 145.036 | 0.323 | Electronic |\n",
       "| ⋮ | ⋮ | ⋮ | ⋮ | ⋮ | ⋮ | ⋮ | ⋮ | ⋮ | ⋮ | ⋮ | ⋮ | ⋮ | ⋮ | ⋮ |\n",
       "| Lecrae    | Cry For You         | 54 | 0.304000 | 0.642 | 263467 | 0.353 | 0.00e+00 | 0.0927 | -12.384 | Minor | 0.215 |  89.596 | 0.276 | Hip-Hop |\n",
       "| Too $hort | Shake That Monkey   | 55 | 0.000577 | 0.937 | 278707 | 0.695 | 3.19e-05 | 0.2950 |  -6.932 | Major | 0.134 |  99.997 | 0.457 | Hip-Hop |\n",
       "| Roy Woods | Drama (feat. Drake) | 72 | 0.157000 | 0.709 | 251860 | 0.362 | 0.00e+00 | 0.1090 |  -9.814 | Major | 0.055 | 122.043 | 0.113 | Hip-Hop |\n",
       "\n"
      ],
      "text/plain": [
       "      artist_name    track_name          popularity acousticness danceability\n",
       "1     Dillon Francis Hurricane           28         0.00306      0.620       \n",
       "2     Dubloadz       Nitro               34         0.02540      0.774       \n",
       "3     What So Not    Divide & Conquer    32         0.00465      0.638       \n",
       "⋮     ⋮              ⋮                   ⋮          ⋮            ⋮           \n",
       "12499 Lecrae         Cry For You         54         0.304000     0.642       \n",
       "12500 Too $hort      Shake That Monkey   55         0.000577     0.937       \n",
       "12501 Roy Woods      Drama (feat. Drake) 72         0.157000     0.709       \n",
       "      duration_ms energy instrumentalness liveness loudness mode  speechiness\n",
       "1     215613      0.755  0.01180          0.534    -4.617   Major 0.0345     \n",
       "2     166875      0.700  0.00253          0.157    -4.498   Major 0.2390     \n",
       "3     222369      0.587  0.90900          0.157    -6.266   Major 0.0413     \n",
       "⋮     ⋮           ⋮      ⋮                ⋮        ⋮        ⋮     ⋮          \n",
       "12499 263467      0.353  0.00e+00         0.0927   -12.384  Minor 0.215      \n",
       "12500 278707      0.695  3.19e-05         0.2950    -6.932  Major 0.134      \n",
       "12501 251860      0.362  0.00e+00         0.1090    -9.814  Major 0.055      \n",
       "      tempo   valence music_genre\n",
       "1     127.994 0.333   Electronic \n",
       "2     128.014 0.270   Electronic \n",
       "3     145.036 0.323   Electronic \n",
       "⋮     ⋮       ⋮       ⋮          \n",
       "12499  89.596 0.276   Hip-Hop    \n",
       "12500  99.997 0.457   Hip-Hop    \n",
       "12501 122.043 0.113   Hip-Hop    "
      ]
     },
     "metadata": {},
     "output_type": "display_data"
    }
   ],
   "source": [
    "### spliting the data into training set and testing set, 75% of the data in the training set\n",
    "data_split <- initial_split(data_factor, prop = 0.75, strata = music_genre) \n",
    "data_train <- training(data_split)   \n",
    "data_test <- testing(data_split)\n",
    "data_train\n",
    "data_test"
   ]
  },
  {
   "cell_type": "code",
   "execution_count": 48,
   "metadata": {},
   "outputs": [
    {
     "name": "stderr",
     "output_type": "stream",
     "text": [
      "`summarise()` ungrouping output (override with `.groups` argument)\n",
      "\n"
     ]
    },
    {
     "data": {
      "text/html": [
       "<table>\n",
       "<caption>A tibble: 1 × 12</caption>\n",
       "<thead>\n",
       "\t<tr><th scope=col>music_genre</th><th scope=col>Electronic_popularity</th><th scope=col>Electronic_acousticness</th><th scope=col>Electronic_danceability</th><th scope=col>Electronic_duration_ms</th><th scope=col>Electronic_energy</th><th scope=col>Electronic_instrumentalness</th><th scope=col>Electronic_liveness</th><th scope=col>Electronic_loudness</th><th scope=col>Electronic_speechiness</th><th scope=col>Electronic_tempo</th><th scope=col>Electronic_valence</th></tr>\n",
       "\t<tr><th scope=col>&lt;fct&gt;</th><th scope=col>&lt;dbl&gt;</th><th scope=col>&lt;dbl&gt;</th><th scope=col>&lt;dbl&gt;</th><th scope=col>&lt;dbl&gt;</th><th scope=col>&lt;dbl&gt;</th><th scope=col>&lt;dbl&gt;</th><th scope=col>&lt;dbl&gt;</th><th scope=col>&lt;dbl&gt;</th><th scope=col>&lt;dbl&gt;</th><th scope=col>&lt;dbl&gt;</th><th scope=col>&lt;dbl&gt;</th></tr>\n",
       "</thead>\n",
       "<tbody>\n",
       "\t<tr><td>Electronic</td><td>38.08295</td><td>0.121378</td><td>0.6182137</td><td>244738.6</td><td>0.7398241</td><td>0.3485918</td><td>0.2107914</td><td>-7.049242</td><td>0.09899785</td><td>NA</td><td>0.390651</td></tr>\n",
       "</tbody>\n",
       "</table>\n"
      ],
      "text/latex": [
       "A tibble: 1 × 12\n",
       "\\begin{tabular}{llllllllllll}\n",
       " music\\_genre & Electronic\\_popularity & Electronic\\_acousticness & Electronic\\_danceability & Electronic\\_duration\\_ms & Electronic\\_energy & Electronic\\_instrumentalness & Electronic\\_liveness & Electronic\\_loudness & Electronic\\_speechiness & Electronic\\_tempo & Electronic\\_valence\\\\\n",
       " <fct> & <dbl> & <dbl> & <dbl> & <dbl> & <dbl> & <dbl> & <dbl> & <dbl> & <dbl> & <dbl> & <dbl>\\\\\n",
       "\\hline\n",
       "\t Electronic & 38.08295 & 0.121378 & 0.6182137 & 244738.6 & 0.7398241 & 0.3485918 & 0.2107914 & -7.049242 & 0.09899785 & NA & 0.390651\\\\\n",
       "\\end{tabular}\n"
      ],
      "text/markdown": [
       "\n",
       "A tibble: 1 × 12\n",
       "\n",
       "| music_genre &lt;fct&gt; | Electronic_popularity &lt;dbl&gt; | Electronic_acousticness &lt;dbl&gt; | Electronic_danceability &lt;dbl&gt; | Electronic_duration_ms &lt;dbl&gt; | Electronic_energy &lt;dbl&gt; | Electronic_instrumentalness &lt;dbl&gt; | Electronic_liveness &lt;dbl&gt; | Electronic_loudness &lt;dbl&gt; | Electronic_speechiness &lt;dbl&gt; | Electronic_tempo &lt;dbl&gt; | Electronic_valence &lt;dbl&gt; |\n",
       "|---|---|---|---|---|---|---|---|---|---|---|---|\n",
       "| Electronic | 38.08295 | 0.121378 | 0.6182137 | 244738.6 | 0.7398241 | 0.3485918 | 0.2107914 | -7.049242 | 0.09899785 | NA | 0.390651 |\n",
       "\n"
      ],
      "text/plain": [
       "  music_genre Electronic_popularity Electronic_acousticness\n",
       "1 Electronic  38.08295              0.121378               \n",
       "  Electronic_danceability Electronic_duration_ms Electronic_energy\n",
       "1 0.6182137               244738.6               0.7398241        \n",
       "  Electronic_instrumentalness Electronic_liveness Electronic_loudness\n",
       "1 0.3485918                   0.2107914           -7.049242          \n",
       "  Electronic_speechiness Electronic_tempo Electronic_valence\n",
       "1 0.09899785             NA               0.390651          "
      ]
     },
     "metadata": {},
     "output_type": "display_data"
    },
    {
     "name": "stderr",
     "output_type": "stream",
     "text": [
      "`summarise()` ungrouping output (override with `.groups` argument)\n",
      "\n"
     ]
    },
    {
     "data": {
      "text/html": [
       "<table>\n",
       "<caption>A tibble: 1 × 12</caption>\n",
       "<thead>\n",
       "\t<tr><th scope=col>music_genre</th><th scope=col>Anime_popularity</th><th scope=col>Anime_acousticness</th><th scope=col>Anime_danceability</th><th scope=col>Anime_duration_ms</th><th scope=col>Anime_energy</th><th scope=col>Anime_instrumentalness</th><th scope=col>Anime_liveness</th><th scope=col>Anime_loudness</th><th scope=col>Anime_speechiness</th><th scope=col>Anime_tempo</th><th scope=col>Anime_valence</th></tr>\n",
       "\t<tr><th scope=col>&lt;fct&gt;</th><th scope=col>&lt;dbl&gt;</th><th scope=col>&lt;dbl&gt;</th><th scope=col>&lt;dbl&gt;</th><th scope=col>&lt;dbl&gt;</th><th scope=col>&lt;dbl&gt;</th><th scope=col>&lt;dbl&gt;</th><th scope=col>&lt;dbl&gt;</th><th scope=col>&lt;dbl&gt;</th><th scope=col>&lt;dbl&gt;</th><th scope=col>&lt;dbl&gt;</th><th scope=col>&lt;dbl&gt;</th></tr>\n",
       "</thead>\n",
       "<tbody>\n",
       "\t<tr><td>Anime</td><td>24.15729</td><td>0.2853975</td><td>0.4709345</td><td>209977.6</td><td>0.6654802</td><td>0.2741458</td><td>0.1951638</td><td>-7.946649</td><td>0.06422653</td><td>NA</td><td>0.4374744</td></tr>\n",
       "</tbody>\n",
       "</table>\n"
      ],
      "text/latex": [
       "A tibble: 1 × 12\n",
       "\\begin{tabular}{llllllllllll}\n",
       " music\\_genre & Anime\\_popularity & Anime\\_acousticness & Anime\\_danceability & Anime\\_duration\\_ms & Anime\\_energy & Anime\\_instrumentalness & Anime\\_liveness & Anime\\_loudness & Anime\\_speechiness & Anime\\_tempo & Anime\\_valence\\\\\n",
       " <fct> & <dbl> & <dbl> & <dbl> & <dbl> & <dbl> & <dbl> & <dbl> & <dbl> & <dbl> & <dbl> & <dbl>\\\\\n",
       "\\hline\n",
       "\t Anime & 24.15729 & 0.2853975 & 0.4709345 & 209977.6 & 0.6654802 & 0.2741458 & 0.1951638 & -7.946649 & 0.06422653 & NA & 0.4374744\\\\\n",
       "\\end{tabular}\n"
      ],
      "text/markdown": [
       "\n",
       "A tibble: 1 × 12\n",
       "\n",
       "| music_genre &lt;fct&gt; | Anime_popularity &lt;dbl&gt; | Anime_acousticness &lt;dbl&gt; | Anime_danceability &lt;dbl&gt; | Anime_duration_ms &lt;dbl&gt; | Anime_energy &lt;dbl&gt; | Anime_instrumentalness &lt;dbl&gt; | Anime_liveness &lt;dbl&gt; | Anime_loudness &lt;dbl&gt; | Anime_speechiness &lt;dbl&gt; | Anime_tempo &lt;dbl&gt; | Anime_valence &lt;dbl&gt; |\n",
       "|---|---|---|---|---|---|---|---|---|---|---|---|\n",
       "| Anime | 24.15729 | 0.2853975 | 0.4709345 | 209977.6 | 0.6654802 | 0.2741458 | 0.1951638 | -7.946649 | 0.06422653 | NA | 0.4374744 |\n",
       "\n"
      ],
      "text/plain": [
       "  music_genre Anime_popularity Anime_acousticness Anime_danceability\n",
       "1 Anime       24.15729         0.2853975          0.4709345         \n",
       "  Anime_duration_ms Anime_energy Anime_instrumentalness Anime_liveness\n",
       "1 209977.6          0.6654802    0.2741458              0.1951638     \n",
       "  Anime_loudness Anime_speechiness Anime_tempo Anime_valence\n",
       "1 -7.946649      0.06422653        NA          0.4374744    "
      ]
     },
     "metadata": {},
     "output_type": "display_data"
    },
    {
     "name": "stderr",
     "output_type": "stream",
     "text": [
      "`summarise()` ungrouping output (override with `.groups` argument)\n",
      "\n"
     ]
    },
    {
     "data": {
      "text/html": [
       "<table>\n",
       "<caption>A tibble: 1 × 12</caption>\n",
       "<thead>\n",
       "\t<tr><th scope=col>music_genre</th><th scope=col>Jazz_popularity</th><th scope=col>Jazz_acousticness</th><th scope=col>Jazz_danceability</th><th scope=col>Jazz_duration_ms</th><th scope=col>Jazz_energy</th><th scope=col>Jazz_instrumentalness</th><th scope=col>Jazz_liveness</th><th scope=col>Jazz_loudness</th><th scope=col>Jazz_speechiness</th><th scope=col>Jazz_tempo</th><th scope=col>Jazz_valence</th></tr>\n",
       "\t<tr><th scope=col>&lt;fct&gt;</th><th scope=col>&lt;dbl&gt;</th><th scope=col>&lt;dbl&gt;</th><th scope=col>&lt;dbl&gt;</th><th scope=col>&lt;dbl&gt;</th><th scope=col>&lt;dbl&gt;</th><th scope=col>&lt;dbl&gt;</th><th scope=col>&lt;dbl&gt;</th><th scope=col>&lt;dbl&gt;</th><th scope=col>&lt;dbl&gt;</th><th scope=col>&lt;dbl&gt;</th><th scope=col>&lt;dbl&gt;</th></tr>\n",
       "</thead>\n",
       "<tbody>\n",
       "\t<tr><td>Jazz</td><td>40.95294</td><td>0.495545</td><td>0.5837738</td><td>237934.3</td><td>0.4723973</td><td>0.3480427</td><td>0.172082</td><td>-11.24564</td><td>0.07377369</td><td>NA</td><td>0.5074201</td></tr>\n",
       "</tbody>\n",
       "</table>\n"
      ],
      "text/latex": [
       "A tibble: 1 × 12\n",
       "\\begin{tabular}{llllllllllll}\n",
       " music\\_genre & Jazz\\_popularity & Jazz\\_acousticness & Jazz\\_danceability & Jazz\\_duration\\_ms & Jazz\\_energy & Jazz\\_instrumentalness & Jazz\\_liveness & Jazz\\_loudness & Jazz\\_speechiness & Jazz\\_tempo & Jazz\\_valence\\\\\n",
       " <fct> & <dbl> & <dbl> & <dbl> & <dbl> & <dbl> & <dbl> & <dbl> & <dbl> & <dbl> & <dbl> & <dbl>\\\\\n",
       "\\hline\n",
       "\t Jazz & 40.95294 & 0.495545 & 0.5837738 & 237934.3 & 0.4723973 & 0.3480427 & 0.172082 & -11.24564 & 0.07377369 & NA & 0.5074201\\\\\n",
       "\\end{tabular}\n"
      ],
      "text/markdown": [
       "\n",
       "A tibble: 1 × 12\n",
       "\n",
       "| music_genre &lt;fct&gt; | Jazz_popularity &lt;dbl&gt; | Jazz_acousticness &lt;dbl&gt; | Jazz_danceability &lt;dbl&gt; | Jazz_duration_ms &lt;dbl&gt; | Jazz_energy &lt;dbl&gt; | Jazz_instrumentalness &lt;dbl&gt; | Jazz_liveness &lt;dbl&gt; | Jazz_loudness &lt;dbl&gt; | Jazz_speechiness &lt;dbl&gt; | Jazz_tempo &lt;dbl&gt; | Jazz_valence &lt;dbl&gt; |\n",
       "|---|---|---|---|---|---|---|---|---|---|---|---|\n",
       "| Jazz | 40.95294 | 0.495545 | 0.5837738 | 237934.3 | 0.4723973 | 0.3480427 | 0.172082 | -11.24564 | 0.07377369 | NA | 0.5074201 |\n",
       "\n"
      ],
      "text/plain": [
       "  music_genre Jazz_popularity Jazz_acousticness Jazz_danceability\n",
       "1 Jazz        40.95294        0.495545          0.5837738        \n",
       "  Jazz_duration_ms Jazz_energy Jazz_instrumentalness Jazz_liveness\n",
       "1 237934.3         0.4723973   0.3480427             0.172082     \n",
       "  Jazz_loudness Jazz_speechiness Jazz_tempo Jazz_valence\n",
       "1 -11.24564     0.07377369       NA         0.5074201   "
      ]
     },
     "metadata": {},
     "output_type": "display_data"
    },
    {
     "name": "stderr",
     "output_type": "stream",
     "text": [
      "`summarise()` ungrouping output (override with `.groups` argument)\n",
      "\n"
     ]
    },
    {
     "data": {
      "text/html": [
       "<table>\n",
       "<caption>A tibble: 1 × 12</caption>\n",
       "<thead>\n",
       "\t<tr><th scope=col>music_genre</th><th scope=col>Alternative_popularity</th><th scope=col>Alternative_acousticness</th><th scope=col>Alternative_danceability</th><th scope=col>Alternative_duration_ms</th><th scope=col>Alternative_energy</th><th scope=col>Alternative_instrumentalness</th><th scope=col>Alternative_liveness</th><th scope=col>Alternative_loudness</th><th scope=col>Alternative_speechiness</th><th scope=col>Alternative_tempo</th><th scope=col>Alternative_valence</th></tr>\n",
       "\t<tr><th scope=col>&lt;fct&gt;</th><th scope=col>&lt;dbl&gt;</th><th scope=col>&lt;dbl&gt;</th><th scope=col>&lt;dbl&gt;</th><th scope=col>&lt;dbl&gt;</th><th scope=col>&lt;dbl&gt;</th><th scope=col>&lt;dbl&gt;</th><th scope=col>&lt;dbl&gt;</th><th scope=col>&lt;dbl&gt;</th><th scope=col>&lt;dbl&gt;</th><th scope=col>&lt;dbl&gt;</th><th scope=col>&lt;dbl&gt;</th></tr>\n",
       "</thead>\n",
       "<tbody>\n",
       "\t<tr><td>Alternative</td><td>50.25433</td><td>0.1607216</td><td>0.5421816</td><td>211820.8</td><td>0.7137631</td><td>0.06307021</td><td>0.1960116</td><td>-6.510332</td><td>0.08862845</td><td>NA</td><td>0.4504663</td></tr>\n",
       "</tbody>\n",
       "</table>\n"
      ],
      "text/latex": [
       "A tibble: 1 × 12\n",
       "\\begin{tabular}{llllllllllll}\n",
       " music\\_genre & Alternative\\_popularity & Alternative\\_acousticness & Alternative\\_danceability & Alternative\\_duration\\_ms & Alternative\\_energy & Alternative\\_instrumentalness & Alternative\\_liveness & Alternative\\_loudness & Alternative\\_speechiness & Alternative\\_tempo & Alternative\\_valence\\\\\n",
       " <fct> & <dbl> & <dbl> & <dbl> & <dbl> & <dbl> & <dbl> & <dbl> & <dbl> & <dbl> & <dbl> & <dbl>\\\\\n",
       "\\hline\n",
       "\t Alternative & 50.25433 & 0.1607216 & 0.5421816 & 211820.8 & 0.7137631 & 0.06307021 & 0.1960116 & -6.510332 & 0.08862845 & NA & 0.4504663\\\\\n",
       "\\end{tabular}\n"
      ],
      "text/markdown": [
       "\n",
       "A tibble: 1 × 12\n",
       "\n",
       "| music_genre &lt;fct&gt; | Alternative_popularity &lt;dbl&gt; | Alternative_acousticness &lt;dbl&gt; | Alternative_danceability &lt;dbl&gt; | Alternative_duration_ms &lt;dbl&gt; | Alternative_energy &lt;dbl&gt; | Alternative_instrumentalness &lt;dbl&gt; | Alternative_liveness &lt;dbl&gt; | Alternative_loudness &lt;dbl&gt; | Alternative_speechiness &lt;dbl&gt; | Alternative_tempo &lt;dbl&gt; | Alternative_valence &lt;dbl&gt; |\n",
       "|---|---|---|---|---|---|---|---|---|---|---|---|\n",
       "| Alternative | 50.25433 | 0.1607216 | 0.5421816 | 211820.8 | 0.7137631 | 0.06307021 | 0.1960116 | -6.510332 | 0.08862845 | NA | 0.4504663 |\n",
       "\n"
      ],
      "text/plain": [
       "  music_genre Alternative_popularity Alternative_acousticness\n",
       "1 Alternative 50.25433               0.1607216               \n",
       "  Alternative_danceability Alternative_duration_ms Alternative_energy\n",
       "1 0.5421816                211820.8                0.7137631         \n",
       "  Alternative_instrumentalness Alternative_liveness Alternative_loudness\n",
       "1 0.06307021                   0.1960116            -6.510332           \n",
       "  Alternative_speechiness Alternative_tempo Alternative_valence\n",
       "1 0.08862845              NA                0.4504663          "
      ]
     },
     "metadata": {},
     "output_type": "display_data"
    },
    {
     "name": "stderr",
     "output_type": "stream",
     "text": [
      "`summarise()` ungrouping output (override with `.groups` argument)\n",
      "\n"
     ]
    },
    {
     "data": {
      "text/html": [
       "<table>\n",
       "<caption>A tibble: 1 × 12</caption>\n",
       "<thead>\n",
       "\t<tr><th scope=col>music_genre</th><th scope=col>Country_popularity</th><th scope=col>Country_acousticness</th><th scope=col>Country_danceability</th><th scope=col>Country_duration_ms</th><th scope=col>Country_energy</th><th scope=col>Country_instrumentalness</th><th scope=col>Country_liveness</th><th scope=col>Country_loudness</th><th scope=col>Country_speechiness</th><th scope=col>Country_tempo</th><th scope=col>Country_valence</th></tr>\n",
       "\t<tr><th scope=col>&lt;fct&gt;</th><th scope=col>&lt;dbl&gt;</th><th scope=col>&lt;dbl&gt;</th><th scope=col>&lt;dbl&gt;</th><th scope=col>&lt;dbl&gt;</th><th scope=col>&lt;dbl&gt;</th><th scope=col>&lt;dbl&gt;</th><th scope=col>&lt;dbl&gt;</th><th scope=col>&lt;dbl&gt;</th><th scope=col>&lt;dbl&gt;</th><th scope=col>&lt;dbl&gt;</th><th scope=col>&lt;dbl&gt;</th></tr>\n",
       "</thead>\n",
       "<tbody>\n",
       "\t<tr><td>Country</td><td>46.04132</td><td>0.2668198</td><td>0.5767985</td><td>195103.9</td><td>0.6392752</td><td>0.004231971</td><td>0.185908</td><td>-7.307585</td><td>0.04842498</td><td>NA</td><td>0.5383959</td></tr>\n",
       "</tbody>\n",
       "</table>\n"
      ],
      "text/latex": [
       "A tibble: 1 × 12\n",
       "\\begin{tabular}{llllllllllll}\n",
       " music\\_genre & Country\\_popularity & Country\\_acousticness & Country\\_danceability & Country\\_duration\\_ms & Country\\_energy & Country\\_instrumentalness & Country\\_liveness & Country\\_loudness & Country\\_speechiness & Country\\_tempo & Country\\_valence\\\\\n",
       " <fct> & <dbl> & <dbl> & <dbl> & <dbl> & <dbl> & <dbl> & <dbl> & <dbl> & <dbl> & <dbl> & <dbl>\\\\\n",
       "\\hline\n",
       "\t Country & 46.04132 & 0.2668198 & 0.5767985 & 195103.9 & 0.6392752 & 0.004231971 & 0.185908 & -7.307585 & 0.04842498 & NA & 0.5383959\\\\\n",
       "\\end{tabular}\n"
      ],
      "text/markdown": [
       "\n",
       "A tibble: 1 × 12\n",
       "\n",
       "| music_genre &lt;fct&gt; | Country_popularity &lt;dbl&gt; | Country_acousticness &lt;dbl&gt; | Country_danceability &lt;dbl&gt; | Country_duration_ms &lt;dbl&gt; | Country_energy &lt;dbl&gt; | Country_instrumentalness &lt;dbl&gt; | Country_liveness &lt;dbl&gt; | Country_loudness &lt;dbl&gt; | Country_speechiness &lt;dbl&gt; | Country_tempo &lt;dbl&gt; | Country_valence &lt;dbl&gt; |\n",
       "|---|---|---|---|---|---|---|---|---|---|---|---|\n",
       "| Country | 46.04132 | 0.2668198 | 0.5767985 | 195103.9 | 0.6392752 | 0.004231971 | 0.185908 | -7.307585 | 0.04842498 | NA | 0.5383959 |\n",
       "\n"
      ],
      "text/plain": [
       "  music_genre Country_popularity Country_acousticness Country_danceability\n",
       "1 Country     46.04132           0.2668198            0.5767985           \n",
       "  Country_duration_ms Country_energy Country_instrumentalness Country_liveness\n",
       "1 195103.9            0.6392752      0.004231971              0.185908        \n",
       "  Country_loudness Country_speechiness Country_tempo Country_valence\n",
       "1 -7.307585        0.04842498          NA            0.5383959      "
      ]
     },
     "metadata": {},
     "output_type": "display_data"
    },
    {
     "name": "stderr",
     "output_type": "stream",
     "text": [
      "`summarise()` ungrouping output (override with `.groups` argument)\n",
      "\n"
     ]
    },
    {
     "data": {
      "text/html": [
       "<table>\n",
       "<caption>A tibble: 1 × 12</caption>\n",
       "<thead>\n",
       "\t<tr><th scope=col>music_genre</th><th scope=col>Rap_popularity</th><th scope=col>Rap_acousticness</th><th scope=col>Rap_danceability</th><th scope=col>Rap_duration_ms</th><th scope=col>Rap_energy</th><th scope=col>Rap_instrumentalness</th><th scope=col>Rap_liveness</th><th scope=col>Rap_loudness</th><th scope=col>Rap_speechiness</th><th scope=col>Rap_tempo</th><th scope=col>Rap_valence</th></tr>\n",
       "\t<tr><th scope=col>&lt;fct&gt;</th><th scope=col>&lt;dbl&gt;</th><th scope=col>&lt;dbl&gt;</th><th scope=col>&lt;dbl&gt;</th><th scope=col>&lt;dbl&gt;</th><th scope=col>&lt;dbl&gt;</th><th scope=col>&lt;dbl&gt;</th><th scope=col>&lt;dbl&gt;</th><th scope=col>&lt;dbl&gt;</th><th scope=col>&lt;dbl&gt;</th><th scope=col>&lt;dbl&gt;</th><th scope=col>&lt;dbl&gt;</th></tr>\n",
       "</thead>\n",
       "<tbody>\n",
       "\t<tr><td>Rap</td><td>60.40345</td><td>0.1699508</td><td>0.6952518</td><td>196547.8</td><td>0.6529685</td><td>0.008349199</td><td>0.197896</td><td>-6.653195</td><td>0.1863003</td><td>NA</td><td>0.4562333</td></tr>\n",
       "</tbody>\n",
       "</table>\n"
      ],
      "text/latex": [
       "A tibble: 1 × 12\n",
       "\\begin{tabular}{llllllllllll}\n",
       " music\\_genre & Rap\\_popularity & Rap\\_acousticness & Rap\\_danceability & Rap\\_duration\\_ms & Rap\\_energy & Rap\\_instrumentalness & Rap\\_liveness & Rap\\_loudness & Rap\\_speechiness & Rap\\_tempo & Rap\\_valence\\\\\n",
       " <fct> & <dbl> & <dbl> & <dbl> & <dbl> & <dbl> & <dbl> & <dbl> & <dbl> & <dbl> & <dbl> & <dbl>\\\\\n",
       "\\hline\n",
       "\t Rap & 60.40345 & 0.1699508 & 0.6952518 & 196547.8 & 0.6529685 & 0.008349199 & 0.197896 & -6.653195 & 0.1863003 & NA & 0.4562333\\\\\n",
       "\\end{tabular}\n"
      ],
      "text/markdown": [
       "\n",
       "A tibble: 1 × 12\n",
       "\n",
       "| music_genre &lt;fct&gt; | Rap_popularity &lt;dbl&gt; | Rap_acousticness &lt;dbl&gt; | Rap_danceability &lt;dbl&gt; | Rap_duration_ms &lt;dbl&gt; | Rap_energy &lt;dbl&gt; | Rap_instrumentalness &lt;dbl&gt; | Rap_liveness &lt;dbl&gt; | Rap_loudness &lt;dbl&gt; | Rap_speechiness &lt;dbl&gt; | Rap_tempo &lt;dbl&gt; | Rap_valence &lt;dbl&gt; |\n",
       "|---|---|---|---|---|---|---|---|---|---|---|---|\n",
       "| Rap | 60.40345 | 0.1699508 | 0.6952518 | 196547.8 | 0.6529685 | 0.008349199 | 0.197896 | -6.653195 | 0.1863003 | NA | 0.4562333 |\n",
       "\n"
      ],
      "text/plain": [
       "  music_genre Rap_popularity Rap_acousticness Rap_danceability Rap_duration_ms\n",
       "1 Rap         60.40345       0.1699508        0.6952518        196547.8       \n",
       "  Rap_energy Rap_instrumentalness Rap_liveness Rap_loudness Rap_speechiness\n",
       "1 0.6529685  0.008349199          0.197896     -6.653195    0.1863003      \n",
       "  Rap_tempo Rap_valence\n",
       "1 NA        0.4562333  "
      ]
     },
     "metadata": {},
     "output_type": "display_data"
    },
    {
     "name": "stderr",
     "output_type": "stream",
     "text": [
      "`summarise()` ungrouping output (override with `.groups` argument)\n",
      "\n"
     ]
    },
    {
     "data": {
      "text/html": [
       "<table>\n",
       "<caption>A tibble: 1 × 12</caption>\n",
       "<thead>\n",
       "\t<tr><th scope=col>music_genre</th><th scope=col>Blues_popularity</th><th scope=col>Blues_acousticness</th><th scope=col>Blues_danceability</th><th scope=col>Blues_duration_ms</th><th scope=col>Blues_energy</th><th scope=col>Blues_instrumentalness</th><th scope=col>Blues_liveness</th><th scope=col>Blues_loudness</th><th scope=col>Blues_speechiness</th><th scope=col>Blues_tempo</th><th scope=col>Blues_valence</th></tr>\n",
       "\t<tr><th scope=col>&lt;fct&gt;</th><th scope=col>&lt;dbl&gt;</th><th scope=col>&lt;dbl&gt;</th><th scope=col>&lt;dbl&gt;</th><th scope=col>&lt;dbl&gt;</th><th scope=col>&lt;dbl&gt;</th><th scope=col>&lt;dbl&gt;</th><th scope=col>&lt;dbl&gt;</th><th scope=col>&lt;dbl&gt;</th><th scope=col>&lt;dbl&gt;</th><th scope=col>&lt;dbl&gt;</th><th scope=col>&lt;dbl&gt;</th></tr>\n",
       "</thead>\n",
       "<tbody>\n",
       "\t<tr><td>Blues</td><td>34.74559</td><td>0.3186421</td><td>0.5282103</td><td>230415.8</td><td>0.6101127</td><td>0.09771048</td><td>0.2342852</td><td>-9.021104</td><td>0.06255508</td><td>NA</td><td>0.5805652</td></tr>\n",
       "</tbody>\n",
       "</table>\n"
      ],
      "text/latex": [
       "A tibble: 1 × 12\n",
       "\\begin{tabular}{llllllllllll}\n",
       " music\\_genre & Blues\\_popularity & Blues\\_acousticness & Blues\\_danceability & Blues\\_duration\\_ms & Blues\\_energy & Blues\\_instrumentalness & Blues\\_liveness & Blues\\_loudness & Blues\\_speechiness & Blues\\_tempo & Blues\\_valence\\\\\n",
       " <fct> & <dbl> & <dbl> & <dbl> & <dbl> & <dbl> & <dbl> & <dbl> & <dbl> & <dbl> & <dbl> & <dbl>\\\\\n",
       "\\hline\n",
       "\t Blues & 34.74559 & 0.3186421 & 0.5282103 & 230415.8 & 0.6101127 & 0.09771048 & 0.2342852 & -9.021104 & 0.06255508 & NA & 0.5805652\\\\\n",
       "\\end{tabular}\n"
      ],
      "text/markdown": [
       "\n",
       "A tibble: 1 × 12\n",
       "\n",
       "| music_genre &lt;fct&gt; | Blues_popularity &lt;dbl&gt; | Blues_acousticness &lt;dbl&gt; | Blues_danceability &lt;dbl&gt; | Blues_duration_ms &lt;dbl&gt; | Blues_energy &lt;dbl&gt; | Blues_instrumentalness &lt;dbl&gt; | Blues_liveness &lt;dbl&gt; | Blues_loudness &lt;dbl&gt; | Blues_speechiness &lt;dbl&gt; | Blues_tempo &lt;dbl&gt; | Blues_valence &lt;dbl&gt; |\n",
       "|---|---|---|---|---|---|---|---|---|---|---|---|\n",
       "| Blues | 34.74559 | 0.3186421 | 0.5282103 | 230415.8 | 0.6101127 | 0.09771048 | 0.2342852 | -9.021104 | 0.06255508 | NA | 0.5805652 |\n",
       "\n"
      ],
      "text/plain": [
       "  music_genre Blues_popularity Blues_acousticness Blues_danceability\n",
       "1 Blues       34.74559         0.3186421          0.5282103         \n",
       "  Blues_duration_ms Blues_energy Blues_instrumentalness Blues_liveness\n",
       "1 230415.8          0.6101127    0.09771048             0.2342852     \n",
       "  Blues_loudness Blues_speechiness Blues_tempo Blues_valence\n",
       "1 -9.021104      0.06255508        NA          0.5805652    "
      ]
     },
     "metadata": {},
     "output_type": "display_data"
    },
    {
     "name": "stderr",
     "output_type": "stream",
     "text": [
      "`summarise()` ungrouping output (override with `.groups` argument)\n",
      "\n"
     ]
    },
    {
     "data": {
      "text/html": [
       "<table>\n",
       "<caption>A tibble: 1 × 12</caption>\n",
       "<thead>\n",
       "\t<tr><th scope=col>music_genre</th><th scope=col>Rock_popularity</th><th scope=col>Rock_acousticness</th><th scope=col>Rock_danceability</th><th scope=col>Rock_duration_ms</th><th scope=col>Rock_energy</th><th scope=col>Rock_instrumentalness</th><th scope=col>Rock_liveness</th><th scope=col>Rock_loudness</th><th scope=col>Rock_speechiness</th><th scope=col>Rock_tempo</th><th scope=col>Rock_valence</th></tr>\n",
       "\t<tr><th scope=col>&lt;fct&gt;</th><th scope=col>&lt;dbl&gt;</th><th scope=col>&lt;dbl&gt;</th><th scope=col>&lt;dbl&gt;</th><th scope=col>&lt;dbl&gt;</th><th scope=col>&lt;dbl&gt;</th><th scope=col>&lt;dbl&gt;</th><th scope=col>&lt;dbl&gt;</th><th scope=col>&lt;dbl&gt;</th><th scope=col>&lt;dbl&gt;</th><th scope=col>&lt;dbl&gt;</th><th scope=col>&lt;dbl&gt;</th></tr>\n",
       "</thead>\n",
       "<tbody>\n",
       "\t<tr><td>Rock</td><td>59.72918</td><td>0.1931058</td><td>0.5391074</td><td>213571</td><td>0.689241</td><td>0.05667598</td><td>0.1862484</td><td>-7.213719</td><td>0.05344028</td><td>NA</td><td>0.5216825</td></tr>\n",
       "</tbody>\n",
       "</table>\n"
      ],
      "text/latex": [
       "A tibble: 1 × 12\n",
       "\\begin{tabular}{llllllllllll}\n",
       " music\\_genre & Rock\\_popularity & Rock\\_acousticness & Rock\\_danceability & Rock\\_duration\\_ms & Rock\\_energy & Rock\\_instrumentalness & Rock\\_liveness & Rock\\_loudness & Rock\\_speechiness & Rock\\_tempo & Rock\\_valence\\\\\n",
       " <fct> & <dbl> & <dbl> & <dbl> & <dbl> & <dbl> & <dbl> & <dbl> & <dbl> & <dbl> & <dbl> & <dbl>\\\\\n",
       "\\hline\n",
       "\t Rock & 59.72918 & 0.1931058 & 0.5391074 & 213571 & 0.689241 & 0.05667598 & 0.1862484 & -7.213719 & 0.05344028 & NA & 0.5216825\\\\\n",
       "\\end{tabular}\n"
      ],
      "text/markdown": [
       "\n",
       "A tibble: 1 × 12\n",
       "\n",
       "| music_genre &lt;fct&gt; | Rock_popularity &lt;dbl&gt; | Rock_acousticness &lt;dbl&gt; | Rock_danceability &lt;dbl&gt; | Rock_duration_ms &lt;dbl&gt; | Rock_energy &lt;dbl&gt; | Rock_instrumentalness &lt;dbl&gt; | Rock_liveness &lt;dbl&gt; | Rock_loudness &lt;dbl&gt; | Rock_speechiness &lt;dbl&gt; | Rock_tempo &lt;dbl&gt; | Rock_valence &lt;dbl&gt; |\n",
       "|---|---|---|---|---|---|---|---|---|---|---|---|\n",
       "| Rock | 59.72918 | 0.1931058 | 0.5391074 | 213571 | 0.689241 | 0.05667598 | 0.1862484 | -7.213719 | 0.05344028 | NA | 0.5216825 |\n",
       "\n"
      ],
      "text/plain": [
       "  music_genre Rock_popularity Rock_acousticness Rock_danceability\n",
       "1 Rock        59.72918        0.1931058         0.5391074        \n",
       "  Rock_duration_ms Rock_energy Rock_instrumentalness Rock_liveness\n",
       "1 213571           0.689241    0.05667598            0.1862484    \n",
       "  Rock_loudness Rock_speechiness Rock_tempo Rock_valence\n",
       "1 -7.213719     0.05344028       NA         0.5216825   "
      ]
     },
     "metadata": {},
     "output_type": "display_data"
    },
    {
     "name": "stderr",
     "output_type": "stream",
     "text": [
      "`summarise()` ungrouping output (override with `.groups` argument)\n",
      "\n"
     ]
    },
    {
     "data": {
      "text/html": [
       "<table>\n",
       "<caption>A tibble: 1 × 12</caption>\n",
       "<thead>\n",
       "\t<tr><th scope=col>music_genre</th><th scope=col>Classical_popularity</th><th scope=col>Classical_acousticness</th><th scope=col>Classical_danceability</th><th scope=col>Classical_duration_ms</th><th scope=col>Classical_energy</th><th scope=col>Classical_instrumentalness</th><th scope=col>Classical_liveness</th><th scope=col>Classical_loudness</th><th scope=col>Classical_speechiness</th><th scope=col>Classical_tempo</th><th scope=col>Classical_valence</th></tr>\n",
       "\t<tr><th scope=col>&lt;fct&gt;</th><th scope=col>&lt;dbl&gt;</th><th scope=col>&lt;dbl&gt;</th><th scope=col>&lt;dbl&gt;</th><th scope=col>&lt;dbl&gt;</th><th scope=col>&lt;dbl&gt;</th><th scope=col>&lt;dbl&gt;</th><th scope=col>&lt;dbl&gt;</th><th scope=col>&lt;dbl&gt;</th><th scope=col>&lt;dbl&gt;</th><th scope=col>&lt;dbl&gt;</th><th scope=col>&lt;dbl&gt;</th></tr>\n",
       "</thead>\n",
       "<tbody>\n",
       "\t<tr><td>Classical</td><td>29.3723</td><td>0.8716566</td><td>0.3069247</td><td>279590.3</td><td>0.1750351</td><td>0.6035384</td><td>0.1598749</td><td>-21.60051</td><td>0.05159672</td><td>NA</td><td>0.2098867</td></tr>\n",
       "</tbody>\n",
       "</table>\n"
      ],
      "text/latex": [
       "A tibble: 1 × 12\n",
       "\\begin{tabular}{llllllllllll}\n",
       " music\\_genre & Classical\\_popularity & Classical\\_acousticness & Classical\\_danceability & Classical\\_duration\\_ms & Classical\\_energy & Classical\\_instrumentalness & Classical\\_liveness & Classical\\_loudness & Classical\\_speechiness & Classical\\_tempo & Classical\\_valence\\\\\n",
       " <fct> & <dbl> & <dbl> & <dbl> & <dbl> & <dbl> & <dbl> & <dbl> & <dbl> & <dbl> & <dbl> & <dbl>\\\\\n",
       "\\hline\n",
       "\t Classical & 29.3723 & 0.8716566 & 0.3069247 & 279590.3 & 0.1750351 & 0.6035384 & 0.1598749 & -21.60051 & 0.05159672 & NA & 0.2098867\\\\\n",
       "\\end{tabular}\n"
      ],
      "text/markdown": [
       "\n",
       "A tibble: 1 × 12\n",
       "\n",
       "| music_genre &lt;fct&gt; | Classical_popularity &lt;dbl&gt; | Classical_acousticness &lt;dbl&gt; | Classical_danceability &lt;dbl&gt; | Classical_duration_ms &lt;dbl&gt; | Classical_energy &lt;dbl&gt; | Classical_instrumentalness &lt;dbl&gt; | Classical_liveness &lt;dbl&gt; | Classical_loudness &lt;dbl&gt; | Classical_speechiness &lt;dbl&gt; | Classical_tempo &lt;dbl&gt; | Classical_valence &lt;dbl&gt; |\n",
       "|---|---|---|---|---|---|---|---|---|---|---|---|\n",
       "| Classical | 29.3723 | 0.8716566 | 0.3069247 | 279590.3 | 0.1750351 | 0.6035384 | 0.1598749 | -21.60051 | 0.05159672 | NA | 0.2098867 |\n",
       "\n"
      ],
      "text/plain": [
       "  music_genre Classical_popularity Classical_acousticness\n",
       "1 Classical   29.3723              0.8716566             \n",
       "  Classical_danceability Classical_duration_ms Classical_energy\n",
       "1 0.3069247              279590.3              0.1750351       \n",
       "  Classical_instrumentalness Classical_liveness Classical_loudness\n",
       "1 0.6035384                  0.1598749          -21.60051         \n",
       "  Classical_speechiness Classical_tempo Classical_valence\n",
       "1 0.05159672            NA              0.2098867        "
      ]
     },
     "metadata": {},
     "output_type": "display_data"
    },
    {
     "name": "stderr",
     "output_type": "stream",
     "text": [
      "`summarise()` ungrouping output (override with `.groups` argument)\n",
      "\n"
     ]
    },
    {
     "data": {
      "text/html": [
       "<table>\n",
       "<caption>A tibble: 1 × 12</caption>\n",
       "<thead>\n",
       "\t<tr><th scope=col>music_genre</th><th scope=col>Hip_Hop_popularity</th><th scope=col>Hip_Hop_acousticness</th><th scope=col>Hip_Hop_danceability</th><th scope=col>Hip_Hop_duration_ms</th><th scope=col>Hip_Hop_energy</th><th scope=col>Hip_Hop_instrumentalness</th><th scope=col>Hip_Hop_liveness</th><th scope=col>Hip_Hop_loudness</th><th scope=col>Hip_Hop_speechiness</th><th scope=col>Hip_Hop_tempo</th><th scope=col>Hip_Hop_valence</th></tr>\n",
       "\t<tr><th scope=col>&lt;fct&gt;</th><th scope=col>&lt;dbl&gt;</th><th scope=col>&lt;dbl&gt;</th><th scope=col>&lt;dbl&gt;</th><th scope=col>&lt;dbl&gt;</th><th scope=col>&lt;dbl&gt;</th><th scope=col>&lt;dbl&gt;</th><th scope=col>&lt;dbl&gt;</th><th scope=col>&lt;dbl&gt;</th><th scope=col>&lt;dbl&gt;</th><th scope=col>&lt;dbl&gt;</th><th scope=col>&lt;dbl&gt;</th></tr>\n",
       "</thead>\n",
       "<tbody>\n",
       "\t<tr><td>Hip-Hop</td><td>58.35759</td><td>0.1806235</td><td>0.7165357</td><td>198393.8</td><td>0.6407415</td><td>0.01085877</td><td>0.1993673</td><td>-6.88471</td><td>0.2059989</td><td>NA</td><td>0.4712405</td></tr>\n",
       "</tbody>\n",
       "</table>\n"
      ],
      "text/latex": [
       "A tibble: 1 × 12\n",
       "\\begin{tabular}{llllllllllll}\n",
       " music\\_genre & Hip\\_Hop\\_popularity & Hip\\_Hop\\_acousticness & Hip\\_Hop\\_danceability & Hip\\_Hop\\_duration\\_ms & Hip\\_Hop\\_energy & Hip\\_Hop\\_instrumentalness & Hip\\_Hop\\_liveness & Hip\\_Hop\\_loudness & Hip\\_Hop\\_speechiness & Hip\\_Hop\\_tempo & Hip\\_Hop\\_valence\\\\\n",
       " <fct> & <dbl> & <dbl> & <dbl> & <dbl> & <dbl> & <dbl> & <dbl> & <dbl> & <dbl> & <dbl> & <dbl>\\\\\n",
       "\\hline\n",
       "\t Hip-Hop & 58.35759 & 0.1806235 & 0.7165357 & 198393.8 & 0.6407415 & 0.01085877 & 0.1993673 & -6.88471 & 0.2059989 & NA & 0.4712405\\\\\n",
       "\\end{tabular}\n"
      ],
      "text/markdown": [
       "\n",
       "A tibble: 1 × 12\n",
       "\n",
       "| music_genre &lt;fct&gt; | Hip_Hop_popularity &lt;dbl&gt; | Hip_Hop_acousticness &lt;dbl&gt; | Hip_Hop_danceability &lt;dbl&gt; | Hip_Hop_duration_ms &lt;dbl&gt; | Hip_Hop_energy &lt;dbl&gt; | Hip_Hop_instrumentalness &lt;dbl&gt; | Hip_Hop_liveness &lt;dbl&gt; | Hip_Hop_loudness &lt;dbl&gt; | Hip_Hop_speechiness &lt;dbl&gt; | Hip_Hop_tempo &lt;dbl&gt; | Hip_Hop_valence &lt;dbl&gt; |\n",
       "|---|---|---|---|---|---|---|---|---|---|---|---|\n",
       "| Hip-Hop | 58.35759 | 0.1806235 | 0.7165357 | 198393.8 | 0.6407415 | 0.01085877 | 0.1993673 | -6.88471 | 0.2059989 | NA | 0.4712405 |\n",
       "\n"
      ],
      "text/plain": [
       "  music_genre Hip_Hop_popularity Hip_Hop_acousticness Hip_Hop_danceability\n",
       "1 Hip-Hop     58.35759           0.1806235            0.7165357           \n",
       "  Hip_Hop_duration_ms Hip_Hop_energy Hip_Hop_instrumentalness Hip_Hop_liveness\n",
       "1 198393.8            0.6407415      0.01085877               0.1993673       \n",
       "  Hip_Hop_loudness Hip_Hop_speechiness Hip_Hop_tempo Hip_Hop_valence\n",
       "1 -6.88471         0.2059989           NA            0.4712405      "
      ]
     },
     "metadata": {},
     "output_type": "display_data"
    }
   ],
   "source": [
    "### Table for each Genre\n",
    "Electronic <- data_train %>%\n",
    "                filter(music_genre == \"Electronic\") %>%\n",
    "                group_by(music_genre) %>%\n",
    "                summarize(Electronic_popularity = mean(popularity, na.ra = True),\n",
    "                         Electronic_acousticness = mean(acousticness, na.ra = True),\n",
    "                         Electronic_danceability = mean(danceability, na.ra = True),\n",
    "                         Electronic_duration_ms = mean(duration_ms, na.ra = True),\n",
    "                         Electronic_energy = mean(energy, na.ra = True),\n",
    "                         Electronic_instrumentalness = mean(instrumentalness, na.ra = True),\n",
    "                         Electronic_liveness = mean(liveness, na.ra = True),\n",
    "                         Electronic_loudness = mean(loudness, na.ra = True),\n",
    "                         Electronic_speechiness = mean(speechiness, na.ra = True),\n",
    "                         Electronic_tempo = mean(tempo, na.ra = True),\n",
    "                         Electronic_valence = mean(valence, na.ra = True))\n",
    "Electronic\n",
    "\n",
    "Anime <- data_train %>%\n",
    "                filter(music_genre == \"Anime\") %>%\n",
    "                group_by(music_genre) %>%\n",
    "                summarize(Anime_popularity = mean(popularity, na.ra = True),\n",
    "                         Anime_acousticness = mean(acousticness, na.ra = True),\n",
    "                         Anime_danceability = mean(danceability, na.ra = True),\n",
    "                         Anime_duration_ms = mean(duration_ms, na.ra = True),\n",
    "                         Anime_energy = mean(energy, na.ra = True),\n",
    "                         Anime_instrumentalness = mean(instrumentalness, na.ra = True),\n",
    "                         Anime_liveness = mean(liveness, na.ra = True),\n",
    "                         Anime_loudness = mean(loudness, na.ra = True),\n",
    "                         Anime_speechiness = mean(speechiness, na.ra = True),\n",
    "                         Anime_tempo = mean(tempo, na.ra = True),\n",
    "                         Anime_valence = mean(valence, na.ra = True))\n",
    "Anime\n",
    "\n",
    "Jazz <- data_train %>%\n",
    "                filter(music_genre == \"Jazz\") %>%\n",
    "                group_by(music_genre) %>%\n",
    "                summarize(Jazz_popularity = mean(popularity, na.ra = True),\n",
    "                         Jazz_acousticness = mean(acousticness, na.ra = True),\n",
    "                         Jazz_danceability = mean(danceability, na.ra = True),\n",
    "                         Jazz_duration_ms = mean(duration_ms, na.ra = True),\n",
    "                         Jazz_energy = mean(energy, na.ra = True),\n",
    "                         Jazz_instrumentalness = mean(instrumentalness, na.ra = True),\n",
    "                         Jazz_liveness = mean(liveness, na.ra = True),\n",
    "                         Jazz_loudness = mean(loudness, na.ra = True),\n",
    "                         Jazz_speechiness = mean(speechiness, na.ra = True),\n",
    "                         Jazz_tempo = mean(tempo, na.ra = True),\n",
    "                         Jazz_valence = mean(valence, na.ra = True))\n",
    "Jazz\n",
    "\n",
    "Alternative <- data_train %>%\n",
    "                filter(music_genre == \"Alternative\") %>%\n",
    "                group_by(music_genre) %>%\n",
    "                summarize(Alternative_popularity = mean(popularity, na.ra = True),\n",
    "                         Alternative_acousticness = mean(acousticness, na.ra = True),\n",
    "                         Alternative_danceability = mean(danceability, na.ra = True),\n",
    "                         Alternative_duration_ms = mean(duration_ms, na.ra = True),\n",
    "                         Alternative_energy = mean(energy, na.ra = True),\n",
    "                         Alternative_instrumentalness = mean(instrumentalness, na.ra = True),\n",
    "                         Alternative_liveness = mean(liveness, na.ra = True),\n",
    "                         Alternative_loudness = mean(loudness, na.ra = True),\n",
    "                         Alternative_speechiness = mean(speechiness, na.ra = True),\n",
    "                         Alternative_tempo = mean(tempo, na.ra = True),\n",
    "                         Alternative_valence = mean(valence, na.ra = True))\n",
    "Alternative\n",
    "\n",
    "Country <- data_train %>%\n",
    "                filter(music_genre == \"Country\") %>%\n",
    "                group_by(music_genre) %>%\n",
    "                summarize(Country_popularity = mean(popularity, na.ra = True),\n",
    "                         Country_acousticness = mean(acousticness, na.ra = True),\n",
    "                         Country_danceability = mean(danceability, na.ra = True),\n",
    "                         Country_duration_ms = mean(duration_ms, na.ra = True),\n",
    "                         Country_energy = mean(energy, na.ra = True),\n",
    "                         Country_instrumentalness = mean(instrumentalness, na.ra = True),\n",
    "                         Country_liveness = mean(liveness, na.ra = True),\n",
    "                         Country_loudness = mean(loudness, na.ra = True),\n",
    "                         Country_speechiness = mean(speechiness, na.ra = True),\n",
    "                         Country_tempo = mean(tempo, na.ra = True),\n",
    "                         Country_valence = mean(valence, na.ra = True))\n",
    "Country\n",
    "\n",
    "Rap <- data_train %>%\n",
    "                filter(music_genre == \"Rap\") %>%\n",
    "                group_by(music_genre) %>%\n",
    "                summarize(Rap_popularity = mean(popularity, na.ra = True),\n",
    "                         Rap_acousticness = mean(acousticness, na.ra = True),\n",
    "                         Rap_danceability = mean(danceability, na.ra = True),\n",
    "                         Rap_duration_ms = mean(duration_ms, na.ra = True),\n",
    "                         Rap_energy = mean(energy, na.ra = True),\n",
    "                         Rap_instrumentalness = mean(instrumentalness, na.ra = True),\n",
    "                         Rap_liveness = mean(liveness, na.ra = True),\n",
    "                         Rap_loudness = mean(loudness, na.ra = True),\n",
    "                         Rap_speechiness = mean(speechiness, na.ra = True),\n",
    "                         Rap_tempo = mean(tempo, na.ra = True),\n",
    "                         Rap_valence = mean(valence, na.ra = True))\n",
    "Rap\n",
    "\n",
    "Blues <- data_train %>%\n",
    "                filter(music_genre == \"Blues\") %>%\n",
    "                group_by(music_genre) %>%\n",
    "                summarize(Blues_popularity = mean(popularity, na.ra = True),\n",
    "                         Blues_acousticness = mean(acousticness, na.ra = True),\n",
    "                         Blues_danceability = mean(danceability, na.ra = True),\n",
    "                         Blues_duration_ms = mean(duration_ms, na.ra = True),\n",
    "                         Blues_energy = mean(energy, na.ra = True),\n",
    "                         Blues_instrumentalness = mean(instrumentalness, na.ra = True),\n",
    "                         Blues_liveness = mean(liveness, na.ra = True),\n",
    "                         Blues_loudness = mean(loudness, na.ra = True),\n",
    "                         Blues_speechiness = mean(speechiness, na.ra = True),\n",
    "                         Blues_tempo = mean(tempo, na.ra = True),\n",
    "                         Blues_valence = mean(valence, na.ra = True))\n",
    "Blues\n",
    "\n",
    "Rock <- data_train %>%\n",
    "                filter(music_genre == \"Rock\") %>%\n",
    "                group_by(music_genre) %>%\n",
    "                summarize(Rock_popularity = mean(popularity, na.ra = True),\n",
    "                         Rock_acousticness = mean(acousticness, na.ra = True),\n",
    "                         Rock_danceability = mean(danceability, na.ra = True),\n",
    "                         Rock_duration_ms = mean(duration_ms, na.ra = True),\n",
    "                         Rock_energy = mean(energy, na.ra = True),\n",
    "                         Rock_instrumentalness = mean(instrumentalness, na.ra = True),\n",
    "                         Rock_liveness = mean(liveness, na.ra = True),\n",
    "                         Rock_loudness = mean(loudness, na.ra = True),\n",
    "                         Rock_speechiness = mean(speechiness, na.ra = True),\n",
    "                         Rock_tempo = mean(tempo, na.ra = True),\n",
    "                         Rock_valence = mean(valence, na.ra = True))\n",
    "Rock\n",
    "\n",
    "Classical <- data_train %>%\n",
    "                filter(music_genre == \"Classical\") %>%\n",
    "                group_by(music_genre) %>%\n",
    "                summarize(Classical_popularity = mean(popularity, na.ra = True),\n",
    "                         Classical_acousticness = mean(acousticness, na.ra = True),\n",
    "                         Classical_danceability = mean(danceability, na.ra = True),\n",
    "                         Classical_duration_ms = mean(duration_ms, na.ra = True),\n",
    "                         Classical_energy = mean(energy, na.ra = True),\n",
    "                         Classical_instrumentalness = mean(instrumentalness, na.ra = True),\n",
    "                         Classical_liveness = mean(liveness, na.ra = True),\n",
    "                         Classical_loudness = mean(loudness, na.ra = True),\n",
    "                         Classical_speechiness = mean(speechiness, na.ra = True),\n",
    "                         Classical_tempo = mean(tempo, na.ra = True),\n",
    "                         Classical_valence = mean(valence, na.ra = True))\n",
    "Classical\n",
    "\n",
    "Hip_Hop <- data_train %>%\n",
    "                filter(music_genre == \"Hip-Hop\") %>%\n",
    "                group_by(music_genre) %>%\n",
    "                summarize(Hip_Hop_popularity = mean(popularity, na.ra = True),\n",
    "                         Hip_Hop_acousticness = mean(acousticness, na.ra = True),\n",
    "                         Hip_Hop_danceability = mean(danceability, na.ra = True),\n",
    "                         Hip_Hop_duration_ms = mean(duration_ms, na.ra = True),\n",
    "                         Hip_Hop_energy = mean(energy, na.ra = True),\n",
    "                         Hip_Hop_instrumentalness = mean(instrumentalness, na.ra = True),\n",
    "                         Hip_Hop_liveness = mean(liveness, na.ra = True),\n",
    "                         Hip_Hop_loudness = mean(loudness, na.ra = True),\n",
    "                         Hip_Hop_speechiness = mean(speechiness, na.ra = True),\n",
    "                         Hip_Hop_tempo = mean(tempo, na.ra = True),\n",
    "                         Hip_Hop_valence = mean(valence, na.ra = True))\n",
    "Hip_Hop"
   ]
  },
  {
   "cell_type": "code",
   "execution_count": 2,
   "metadata": {},
   "outputs": [
    {
     "ename": "ERROR",
     "evalue": "Error in data_train %>% ggplot(aes(x = mode, fill = music_genre)): could not find function \"%>%\"\n",
     "output_type": "error",
     "traceback": [
      "Error in data_train %>% ggplot(aes(x = mode, fill = music_genre)): could not find function \"%>%\"\nTraceback:\n"
     ]
    }
   ],
   "source": [
    "# proportion of music genre by mode(major, minor)\n",
    "mode_proportion_plot <- data_train %>%\n",
    "ggplot(aes(x = mode, fill = music_genre))+\n",
    "geom_bar(position = \"fill\")+\n",
    "labs(x = \"Mode\", y = \"Proportion of music genre\", fill = \"Music genre\") +\n",
    "ggtitle(\"Proportion of music genre by mode(major, minor)\")\n",
    "mode_proportion_plot"
   ]
  },
  {
   "cell_type": "markdown",
   "metadata": {},
   "source": [
    "## Methods"
   ]
  },
  {
   "cell_type": "markdown",
   "metadata": {},
   "source": [
    "In this project, our group will use Spotify's dataset to predict the genre of a selected song. First after removing columns that we deem unrelated to genre prediction, a model will be trained on a large variety of factors such as popularity, acousticness, and dancability, with genre as the predictable factor. A new user attempting to predict the genre of a song would first find the song variables such as dancability, after which a k-nearest-neighbours analysis can be completed on the song (against our training data) to predict its genre.\n",
    "\n",
    "We may be able to visualize this data if we find a correlation between any of the variables: say, tempo and danceability. Placing each song in a scatterplot would show a positive/negative relationship if there is one."
   ]
  },
  {
   "cell_type": "markdown",
   "metadata": {},
   "source": [
    "## Expected Outcomes & Significance"
   ]
  },
  {
   "cell_type": "markdown",
   "metadata": {},
   "source": [
    "Provided a certain music track's statistics, our model should be able to produce a genre prediction, placing it into one of eleven different genres.\n",
    "\n",
    "A model capable of categorizing song genre could be useful for anyone sorting and maintaining a song database, such as a studio or a music streaming platform such as Spotify or Soundcloud. Being able to automatically categorize songs uplodaded to such a database would allow not only better organization, but user experience improvements via 'genre' playlists. Furthermore, the model could be paired with information about genre preference from a user to curate custom song recommendations for them. For instance, someone who is known to be a rock fan could be recommended a rock song if the database contains knowledge of which song is in the rock genre.\n",
    "\n",
    "Following questions may involve discovering correlation between variables. Does song tempo and danceability, have a correlative relationship, for instance? Discovering such correlations may help songwriters engineer their songs for a desired purpose. Another question may be to assess what other similar predictive models could be developed. One possibility is to simply predict a different variable in the dataset. Predicting dancability, for instance, may be a powerful way to categorize songs further and give highly personalized song recommendations."
   ]
  }
 ],
 "metadata": {
  "kernelspec": {
   "display_name": "R",
   "language": "R",
   "name": "ir"
  },
  "language_info": {
   "codemirror_mode": "r",
   "file_extension": ".r",
   "mimetype": "text/x-r-source",
   "name": "R",
   "pygments_lexer": "r",
   "version": "4.0.0"
  }
 },
 "nbformat": 4,
 "nbformat_minor": 4
}
